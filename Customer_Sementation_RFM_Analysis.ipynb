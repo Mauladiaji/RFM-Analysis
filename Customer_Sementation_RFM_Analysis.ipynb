{
  "cells": [
    {
      "cell_type": "markdown",
      "metadata": {
        "id": "uSFznp-bY-kr"
      },
      "source": [
        "# Introduction"
      ]
    },
    {
      "cell_type": "markdown",
      "metadata": {
        "id": "Q09jdfO-ewly"
      },
      "source": [
        "**How I Used RFM Analysis to Craft Smarter Promotion Strategies**\n",
        "\n",
        "In the world of digital marketing and e-commerce, not all customers are created equal. Some shop frequently, others spend more, and some haven’t visited in months. Instead of blasting promotions to everyone, what if we could target the right people with the right message?<br><br>\n",
        "\n",
        "**What Is RFM?**<br>\n",
        "RFM stands for:<br>\n",
        "  * Recency – How recently a customer made a purchase\n",
        "  * Frequency – How often they make purchases\n",
        "  * Monetary – How much money they spend<br>\n",
        "\n",
        "These three simple metrics, when combined, offer powerful insights into customer behavior. By scoring customers based on RFM, we can segment them into meaningful groups—such as:\n",
        "  * Loyal Champions who purchase often and spend a lot\n",
        "  * Potential Loyalists who are starting to build a relationship\n",
        "  * At Risk customers who haven’t returned in a while\n",
        "  * Or even Lost customers who might be slipping away\n",
        "Rather than guessing who to target, RFM gives us data-driven clarity.<br><br>\n",
        "\n",
        "**Key Questions We Set Out to Answer**\n",
        "\n",
        "Before diving into the data, we defined several guiding questions to help shape our analysis and focus our promotional strategy:\n",
        "  * What does our overall customer landscape look like based on RFM scores?\n",
        "  * Which customer segments contribute the most to our revenue and long-term value?\n",
        "  * How strong is our base of loyal customers—and how many are at risk of churning?\n",
        "  * What type of promotional approach makes sense for each segment?"
      ]
    },
    {
      "cell_type": "markdown",
      "metadata": {
        "id": "k-903hQ0ewl3"
      },
      "source": [
        "# Import Library"
      ]
    },
    {
      "cell_type": "code",
      "execution_count": 49,
      "metadata": {
        "id": "ubMzPFd2ewl4"
      },
      "outputs": [],
      "source": [
        "# Data wragling & cleansing\n",
        "import pandas as pd\n",
        "import numpy as np\n",
        "\n",
        "# Data visualization\n",
        "import matplotlib.pyplot as plt\n",
        "import seaborn as sns\n",
        "import plotly.express as px\n",
        "import plotly.graph_objects as go\n",
        "from plotly.subplots import make_subplots\n",
        "import plotly.colors\n",
        "\n",
        "import warnings\n",
        "warnings.filterwarnings(\"ignore\")"
      ]
    },
    {
      "cell_type": "markdown",
      "metadata": {
        "id": "NdUj6p-hewl7"
      },
      "source": [
        "# Data Preprocessing"
      ]
    },
    {
      "cell_type": "code",
      "execution_count": 50,
      "metadata": {
        "id": "TahxjDz2ewl8"
      },
      "outputs": [],
      "source": [
        "#Import dataset\n",
        "df = pd.read_excel('Transactions 2024.xlsx')\n"
      ]
    },
    {
      "cell_type": "code",
      "execution_count": 51,
      "metadata": {
        "colab": {
          "base_uri": "https://localhost:8080/"
        },
        "id": "j5E3YFcMewl-",
        "outputId": "8cec0fd8-7aaf-4408-acf9-21b88ef7b37e"
      },
      "outputs": [
        {
          "name": "stdout",
          "output_type": "stream",
          "text": [
            "Number of column: 1318\n",
            "Number of rows: 5\n",
            "\n",
            "Column Name: \n",
            "['Day', 'Customer ID', 'Order ID', 'Quantity', 'Revenue']\n",
            "\n",
            "Number of duplicate values: 20\n",
            "\n",
            "Number of missing values:\n",
            "Day             0\n",
            "Customer ID    17\n",
            "Order ID       17\n",
            "Quantity        0\n",
            "Revenue         0\n",
            "dtype: int64\n"
          ]
        }
      ],
      "source": [
        "#First Insight\n",
        "print(f'Number of column: {df.shape[0]}')\n",
        "print(f'Number of rows: {df.shape[1]}')\n",
        "\n",
        "print(f'\\nColumn Name: \\n{df.columns.to_list()}\\n')\n",
        "print(f'Number of duplicate values: {df.duplicated().sum()}\\n')\n",
        "print('Number of missing values:')\n",
        "print(df.isna().sum())"
      ]
    },
    {
      "cell_type": "markdown",
      "metadata": {
        "id": "rde4m0pRewmD"
      },
      "source": [
        "## Remove Missing Value"
      ]
    },
    {
      "cell_type": "code",
      "execution_count": 52,
      "metadata": {
        "colab": {
          "base_uri": "https://localhost:8080/"
        },
        "id": "fT7h9cQUewmE",
        "outputId": "d375fe8d-30ca-4ee2-b485-2e9331b1ea32"
      },
      "outputs": [
        {
          "name": "stdout",
          "output_type": "stream",
          "text": [
            "Result after removed missing value:\n",
            "Day            0\n",
            "Customer ID    0\n",
            "Order ID       0\n",
            "Quantity       0\n",
            "Revenue        0\n",
            "dtype: int64\n"
          ]
        }
      ],
      "source": [
        "df = df.dropna()\n",
        "print('Result after removed missing value:')\n",
        "print(df.isna().sum())"
      ]
    },
    {
      "cell_type": "markdown",
      "metadata": {
        "id": "F_HLLP7_ewmG"
      },
      "source": [
        "## Column Name Standardization"
      ]
    },
    {
      "cell_type": "code",
      "execution_count": 53,
      "metadata": {
        "colab": {
          "base_uri": "https://localhost:8080/"
        },
        "id": "0SusuqReewmI",
        "outputId": "d9d8b6fa-7172-418f-c748-dfacf5d1b936"
      },
      "outputs": [
        {
          "data": {
            "text/plain": [
              "Index(['date', 'customer_id', 'order_id', 'quantity', 'revenue'], dtype='object')"
            ]
          },
          "execution_count": 53,
          "metadata": {},
          "output_type": "execute_result"
        }
      ],
      "source": [
        "df.columns = df.columns.str.lower().str.replace(' ', '_')\n",
        "df.rename(columns={'day': 'date'}, inplace=True)\n",
        "df.columns"
      ]
    },
    {
      "cell_type": "markdown",
      "metadata": {
        "id": "zaBu0F0DewmJ"
      },
      "source": [
        "## Data Type Standardization"
      ]
    },
    {
      "cell_type": "code",
      "execution_count": 54,
      "metadata": {
        "colab": {
          "base_uri": "https://localhost:8080/"
        },
        "id": "BVKXeVDmewmK",
        "outputId": "95a767dd-da3d-46e5-9c23-db0ff286013e"
      },
      "outputs": [
        {
          "name": "stdout",
          "output_type": "stream",
          "text": [
            "<class 'pandas.core.frame.DataFrame'>\n",
            "Index: 1301 entries, 0 to 1317\n",
            "Data columns (total 5 columns):\n",
            " #   Column       Non-Null Count  Dtype         \n",
            "---  ------       --------------  -----         \n",
            " 0   date         1301 non-null   datetime64[ns]\n",
            " 1   customer_id  1301 non-null   object        \n",
            " 2   order_id     1301 non-null   object        \n",
            " 3   quantity     1301 non-null   int64         \n",
            " 4   revenue      1301 non-null   int64         \n",
            "dtypes: datetime64[ns](1), int64(2), object(2)\n",
            "memory usage: 61.0+ KB\n"
          ]
        }
      ],
      "source": [
        "df.customer_id = df.customer_id.astype(int).astype(str)\n",
        "df.order_id = df.order_id.astype(int).astype(str)\n",
        "df.info()"
      ]
    },
    {
      "cell_type": "markdown",
      "metadata": {
        "id": "QdIVcbPPewmL"
      },
      "source": [
        "## Check and delete orders and purchases with a value of 0"
      ]
    },
    {
      "cell_type": "code",
      "execution_count": 55,
      "metadata": {
        "colab": {
          "base_uri": "https://localhost:8080/"
        },
        "id": "0wIcQnenewmL",
        "outputId": "7376f196-7117-4f3d-f699-0505e1c760b8"
      },
      "outputs": [
        {
          "name": "stdout",
          "output_type": "stream",
          "text": [
            "The number of order quantities with a value of 0 is: 14\n",
            "The number of purchases with a value of 0 is: 450\n"
          ]
        }
      ],
      "source": [
        "print(f\"The number of order quantities with a value of 0 is: {(df['quantity'] == 0).sum()}\")\n",
        "print(f\"The number of purchases with a value of 0 is: {(df['revenue'] == 0).sum()}\")"
      ]
    },
    {
      "cell_type": "code",
      "execution_count": 56,
      "metadata": {
        "colab": {
          "base_uri": "https://localhost:8080/"
        },
        "id": "CfWSZPWNewmM",
        "outputId": "834c4f45-231c-469f-f467-6fa9b6ab95f0"
      },
      "outputs": [
        {
          "name": "stdout",
          "output_type": "stream",
          "text": [
            "After removing zero values:\n",
            "The number of order quantities with a value of 0 is: 0\n",
            "The number of purchases with a value of 0 is: 0\n"
          ]
        }
      ],
      "source": [
        "# Hapus record order dan gross sales  yang bernilai 0\n",
        "df = df[~((df['quantity'] == 0) | (df['revenue'] == 0))]\n",
        "print('After removing zero values:')\n",
        "print(f\"The number of order quantities with a value of 0 is: {(df['quantity'] == 0).sum()}\")\n",
        "print(f\"The number of purchases with a value of 0 is: {(df['revenue'] == 0).sum()}\")"
      ]
    },
    {
      "cell_type": "markdown",
      "metadata": {
        "id": "w0FcCUKAewmN"
      },
      "source": [
        "## Remove Duplicate Values"
      ]
    },
    {
      "cell_type": "code",
      "execution_count": 57,
      "metadata": {
        "colab": {
          "base_uri": "https://localhost:8080/"
        },
        "id": "oeNm6Ns9ewmN",
        "outputId": "c2610dd6-f7df-483d-e87e-1dae6d98adc7"
      },
      "outputs": [
        {
          "name": "stdout",
          "output_type": "stream",
          "text": [
            "Number of columns: 837\n",
            "Number of duplicate: 0\n",
            "\n",
            "Data cleaning complete. Dataframe is ready for analysis.✅\n"
          ]
        }
      ],
      "source": [
        "# Cek jumlah duplicate\n",
        "count_cuplicate = df.duplicated().sum()\n",
        "print(f'Number of columns: {df.shape[0]}')\n",
        "print(f'Number of duplicate: {int(count_cuplicate)}')\n",
        "print('\\nData cleaning complete. Dataframe is ready for analysis.✅')"
      ]
    },
    {
      "cell_type": "markdown",
      "metadata": {
        "id": "BaMfX4V4ewmP"
      },
      "source": [
        "# Explratory Data Analysis"
      ]
    },
    {
      "cell_type": "code",
      "execution_count": 58,
      "metadata": {
        "colab": {
          "base_uri": "https://localhost:8080/",
          "height": 300
        },
        "id": "QMCBPFx2ewmP",
        "outputId": "8db28adf-2536-4b08-87eb-116a3fb53a8f"
      },
      "outputs": [
        {
          "data": {
            "text/html": [
              "<div>\n",
              "<style scoped>\n",
              "    .dataframe tbody tr th:only-of-type {\n",
              "        vertical-align: middle;\n",
              "    }\n",
              "\n",
              "    .dataframe tbody tr th {\n",
              "        vertical-align: top;\n",
              "    }\n",
              "\n",
              "    .dataframe thead th {\n",
              "        text-align: right;\n",
              "    }\n",
              "</style>\n",
              "<table border=\"1\" class=\"dataframe\">\n",
              "  <thead>\n",
              "    <tr style=\"text-align: right;\">\n",
              "      <th></th>\n",
              "      <th>date</th>\n",
              "      <th>quantity</th>\n",
              "      <th>revenue</th>\n",
              "    </tr>\n",
              "  </thead>\n",
              "  <tbody>\n",
              "    <tr>\n",
              "      <th>count</th>\n",
              "      <td>837</td>\n",
              "      <td>837.000000</td>\n",
              "      <td>8.370000e+02</td>\n",
              "    </tr>\n",
              "    <tr>\n",
              "      <th>mean</th>\n",
              "      <td>2024-06-04 07:20:25.806451712</td>\n",
              "      <td>1.651135</td>\n",
              "      <td>9.821636e+05</td>\n",
              "    </tr>\n",
              "    <tr>\n",
              "      <th>min</th>\n",
              "      <td>2024-01-01 00:00:00</td>\n",
              "      <td>1.000000</td>\n",
              "      <td>5.900000e+04</td>\n",
              "    </tr>\n",
              "    <tr>\n",
              "      <th>25%</th>\n",
              "      <td>2024-02-24 00:00:00</td>\n",
              "      <td>1.000000</td>\n",
              "      <td>4.990000e+05</td>\n",
              "    </tr>\n",
              "    <tr>\n",
              "      <th>50%</th>\n",
              "      <td>2024-05-13 00:00:00</td>\n",
              "      <td>1.000000</td>\n",
              "      <td>8.990000e+05</td>\n",
              "    </tr>\n",
              "    <tr>\n",
              "      <th>75%</th>\n",
              "      <td>2024-09-09 00:00:00</td>\n",
              "      <td>2.000000</td>\n",
              "      <td>1.248100e+06</td>\n",
              "    </tr>\n",
              "    <tr>\n",
              "      <th>max</th>\n",
              "      <td>2024-12-31 00:00:00</td>\n",
              "      <td>6.000000</td>\n",
              "      <td>4.879000e+06</td>\n",
              "    </tr>\n",
              "    <tr>\n",
              "      <th>std</th>\n",
              "      <td>NaN</td>\n",
              "      <td>0.861269</td>\n",
              "      <td>5.954784e+05</td>\n",
              "    </tr>\n",
              "  </tbody>\n",
              "</table>\n",
              "</div>"
            ],
            "text/plain": [
              "                                date    quantity       revenue\n",
              "count                            837  837.000000  8.370000e+02\n",
              "mean   2024-06-04 07:20:25.806451712    1.651135  9.821636e+05\n",
              "min              2024-01-01 00:00:00    1.000000  5.900000e+04\n",
              "25%              2024-02-24 00:00:00    1.000000  4.990000e+05\n",
              "50%              2024-05-13 00:00:00    1.000000  8.990000e+05\n",
              "75%              2024-09-09 00:00:00    2.000000  1.248100e+06\n",
              "max              2024-12-31 00:00:00    6.000000  4.879000e+06\n",
              "std                              NaN    0.861269  5.954784e+05"
            ]
          },
          "execution_count": 58,
          "metadata": {},
          "output_type": "execute_result"
        }
      ],
      "source": [
        "df.describe()"
      ]
    },
    {
      "cell_type": "markdown",
      "metadata": {
        "id": "2PofmnDZewmQ"
      },
      "source": [
        "## Bagaimana distribusi quantity dan sales"
      ]
    },
    {
      "cell_type": "code",
      "execution_count": 59,
      "metadata": {
        "colab": {
          "base_uri": "https://localhost:8080/",
          "height": 542
        },
        "id": "UqtV1dcUewmQ",
        "outputId": "aa2c5b19-62f0-4c80-fd5c-aeef6ddefe2c"
      },
      "outputs": [
        {
          "data": {
            "application/vnd.plotly.v1+json": {
              "config": {
                "plotlyServerURL": "https://plot.ly"
              },
              "data": [
                {
                  "name": "Quantity",
                  "type": "box",
                  "xaxis": "x",
                  "y": {
                    "bdata": "AQEBAgICBAECAQEFAQECAgEDAQIDAQIBAQECAQEBAgECAQICAgEDAQEBAgQBAgMBAQEBAQMCAgEDAQEBAQECAgIBAQECAQECAgEBAQYCAQEBAgIBAQMBAQECAgEBAgEBAQMCBQIDAgEBAgEBAQECAgECAgEEAgEBAQECAQEBAQEDAgECAQMBAQIBAQEBAgEBAQECAQECAQMBAgECAQIBAQIBAgQBAQECAgECAgQCAQIBBAEBAwICAQIBAgEDAQMBAgEBAQMBAQIDAQEBAgEFAQIBAgEBAgICAQEBAgIBAQEBAQIBAQECAwICAgIBAQECAgIBAQICAgUBAgEBAQECAQIBAQEBAQIBAQICBgMBAQIBAQIBAQEBAQQBBAEBAwEBAgIBAQECAgECAQECAgMCAwECAwECAQECAgICAQIBAQEBAQMBAQEBAgEBAQEBAQEBAQEEAwEDAwMBAQICAQMCAQEBAgICAgIBBQICAQIBAgEBAQICAgEEAwICAQMCBAICAQEBAgEBAQMDAgEBAQECAgECAQEBAQICAQMBAgECAQMBAgMCAwICAQIBAwEBAgEBAQEBAQEBAgECAwECAQECAgEBAgIBAgIBAwECAQICAwIBAgEDAQEDAgEBAQMBAQIDAQICAQEBAgICAQEBAQMCAgEBAQMBAgICAQIDAwIBAQIBBgIBAQECAQECAwECAQIDAgIBAQEBAgICAgIBAQUBAQEBAQIBAgICAgICAQIBAgEBBAEBAgICAgMBAgICAgEBAQIBAgMDAwEBAgMBAQQCAgQBAwMCAgECAQEBAQEBAwYBAQIBAwIBAQIBAgIBAwICAQEBAQEBAgEBAwEBAQICAQICAgMCAQMDAQIBAgIBBgIDAQEBAQECAQIBAQEBAQEBAgECAQEBAQEBAgEBAQEBAQIBAgIDAQEBAgIBAQEDAQEBAQEBAQEDAwECBAEBAQEBAgIBAQICAgEBAgICAQIBAQEBAgEBAQICAQMDAgEBAwICAgEBAgECAgEBAwECAQEBAgMBAQEBAQICAQEBAgEBAgMDAwICAQEBBAEDAgECAQEBAQIBAQICAQEDAgICAgEDAQEBAQECAgIBAgICAgIBAgICAgIB",
                    "dtype": "i1"
                  },
                  "yaxis": "y"
                },
                {
                  "name": "Revenue",
                  "type": "box",
                  "xaxis": "x2",
                  "y": {
                    "bdata": "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",
                    "dtype": "i4"
                  },
                  "yaxis": "y2"
                }
              ],
              "layout": {
                "annotations": [
                  {
                    "font": {
                      "size": 16
                    },
                    "showarrow": false,
                    "text": "Quantity Distribution",
                    "x": 0.225,
                    "xanchor": "center",
                    "xref": "paper",
                    "y": 1,
                    "yanchor": "bottom",
                    "yref": "paper"
                  },
                  {
                    "font": {
                      "size": 16
                    },
                    "showarrow": false,
                    "text": "Revenue Distribution",
                    "x": 0.775,
                    "xanchor": "center",
                    "xref": "paper",
                    "y": 1,
                    "yanchor": "bottom",
                    "yref": "paper"
                  }
                ],
                "template": {
                  "data": {
                    "bar": [
                      {
                        "error_x": {
                          "color": "#2a3f5f"
                        },
                        "error_y": {
                          "color": "#2a3f5f"
                        },
                        "marker": {
                          "line": {
                            "color": "#E5ECF6",
                            "width": 0.5
                          },
                          "pattern": {
                            "fillmode": "overlay",
                            "size": 10,
                            "solidity": 0.2
                          }
                        },
                        "type": "bar"
                      }
                    ],
                    "barpolar": [
                      {
                        "marker": {
                          "line": {
                            "color": "#E5ECF6",
                            "width": 0.5
                          },
                          "pattern": {
                            "fillmode": "overlay",
                            "size": 10,
                            "solidity": 0.2
                          }
                        },
                        "type": "barpolar"
                      }
                    ],
                    "carpet": [
                      {
                        "aaxis": {
                          "endlinecolor": "#2a3f5f",
                          "gridcolor": "white",
                          "linecolor": "white",
                          "minorgridcolor": "white",
                          "startlinecolor": "#2a3f5f"
                        },
                        "baxis": {
                          "endlinecolor": "#2a3f5f",
                          "gridcolor": "white",
                          "linecolor": "white",
                          "minorgridcolor": "white",
                          "startlinecolor": "#2a3f5f"
                        },
                        "type": "carpet"
                      }
                    ],
                    "choropleth": [
                      {
                        "colorbar": {
                          "outlinewidth": 0,
                          "ticks": ""
                        },
                        "type": "choropleth"
                      }
                    ],
                    "contour": [
                      {
                        "colorbar": {
                          "outlinewidth": 0,
                          "ticks": ""
                        },
                        "colorscale": [
                          [
                            0,
                            "#0d0887"
                          ],
                          [
                            0.1111111111111111,
                            "#46039f"
                          ],
                          [
                            0.2222222222222222,
                            "#7201a8"
                          ],
                          [
                            0.3333333333333333,
                            "#9c179e"
                          ],
                          [
                            0.4444444444444444,
                            "#bd3786"
                          ],
                          [
                            0.5555555555555556,
                            "#d8576b"
                          ],
                          [
                            0.6666666666666666,
                            "#ed7953"
                          ],
                          [
                            0.7777777777777778,
                            "#fb9f3a"
                          ],
                          [
                            0.8888888888888888,
                            "#fdca26"
                          ],
                          [
                            1,
                            "#f0f921"
                          ]
                        ],
                        "type": "contour"
                      }
                    ],
                    "contourcarpet": [
                      {
                        "colorbar": {
                          "outlinewidth": 0,
                          "ticks": ""
                        },
                        "type": "contourcarpet"
                      }
                    ],
                    "heatmap": [
                      {
                        "colorbar": {
                          "outlinewidth": 0,
                          "ticks": ""
                        },
                        "colorscale": [
                          [
                            0,
                            "#0d0887"
                          ],
                          [
                            0.1111111111111111,
                            "#46039f"
                          ],
                          [
                            0.2222222222222222,
                            "#7201a8"
                          ],
                          [
                            0.3333333333333333,
                            "#9c179e"
                          ],
                          [
                            0.4444444444444444,
                            "#bd3786"
                          ],
                          [
                            0.5555555555555556,
                            "#d8576b"
                          ],
                          [
                            0.6666666666666666,
                            "#ed7953"
                          ],
                          [
                            0.7777777777777778,
                            "#fb9f3a"
                          ],
                          [
                            0.8888888888888888,
                            "#fdca26"
                          ],
                          [
                            1,
                            "#f0f921"
                          ]
                        ],
                        "type": "heatmap"
                      }
                    ],
                    "histogram": [
                      {
                        "marker": {
                          "pattern": {
                            "fillmode": "overlay",
                            "size": 10,
                            "solidity": 0.2
                          }
                        },
                        "type": "histogram"
                      }
                    ],
                    "histogram2d": [
                      {
                        "colorbar": {
                          "outlinewidth": 0,
                          "ticks": ""
                        },
                        "colorscale": [
                          [
                            0,
                            "#0d0887"
                          ],
                          [
                            0.1111111111111111,
                            "#46039f"
                          ],
                          [
                            0.2222222222222222,
                            "#7201a8"
                          ],
                          [
                            0.3333333333333333,
                            "#9c179e"
                          ],
                          [
                            0.4444444444444444,
                            "#bd3786"
                          ],
                          [
                            0.5555555555555556,
                            "#d8576b"
                          ],
                          [
                            0.6666666666666666,
                            "#ed7953"
                          ],
                          [
                            0.7777777777777778,
                            "#fb9f3a"
                          ],
                          [
                            0.8888888888888888,
                            "#fdca26"
                          ],
                          [
                            1,
                            "#f0f921"
                          ]
                        ],
                        "type": "histogram2d"
                      }
                    ],
                    "histogram2dcontour": [
                      {
                        "colorbar": {
                          "outlinewidth": 0,
                          "ticks": ""
                        },
                        "colorscale": [
                          [
                            0,
                            "#0d0887"
                          ],
                          [
                            0.1111111111111111,
                            "#46039f"
                          ],
                          [
                            0.2222222222222222,
                            "#7201a8"
                          ],
                          [
                            0.3333333333333333,
                            "#9c179e"
                          ],
                          [
                            0.4444444444444444,
                            "#bd3786"
                          ],
                          [
                            0.5555555555555556,
                            "#d8576b"
                          ],
                          [
                            0.6666666666666666,
                            "#ed7953"
                          ],
                          [
                            0.7777777777777778,
                            "#fb9f3a"
                          ],
                          [
                            0.8888888888888888,
                            "#fdca26"
                          ],
                          [
                            1,
                            "#f0f921"
                          ]
                        ],
                        "type": "histogram2dcontour"
                      }
                    ],
                    "mesh3d": [
                      {
                        "colorbar": {
                          "outlinewidth": 0,
                          "ticks": ""
                        },
                        "type": "mesh3d"
                      }
                    ],
                    "parcoords": [
                      {
                        "line": {
                          "colorbar": {
                            "outlinewidth": 0,
                            "ticks": ""
                          }
                        },
                        "type": "parcoords"
                      }
                    ],
                    "pie": [
                      {
                        "automargin": true,
                        "type": "pie"
                      }
                    ],
                    "scatter": [
                      {
                        "fillpattern": {
                          "fillmode": "overlay",
                          "size": 10,
                          "solidity": 0.2
                        },
                        "type": "scatter"
                      }
                    ],
                    "scatter3d": [
                      {
                        "line": {
                          "colorbar": {
                            "outlinewidth": 0,
                            "ticks": ""
                          }
                        },
                        "marker": {
                          "colorbar": {
                            "outlinewidth": 0,
                            "ticks": ""
                          }
                        },
                        "type": "scatter3d"
                      }
                    ],
                    "scattercarpet": [
                      {
                        "marker": {
                          "colorbar": {
                            "outlinewidth": 0,
                            "ticks": ""
                          }
                        },
                        "type": "scattercarpet"
                      }
                    ],
                    "scattergeo": [
                      {
                        "marker": {
                          "colorbar": {
                            "outlinewidth": 0,
                            "ticks": ""
                          }
                        },
                        "type": "scattergeo"
                      }
                    ],
                    "scattergl": [
                      {
                        "marker": {
                          "colorbar": {
                            "outlinewidth": 0,
                            "ticks": ""
                          }
                        },
                        "type": "scattergl"
                      }
                    ],
                    "scattermap": [
                      {
                        "marker": {
                          "colorbar": {
                            "outlinewidth": 0,
                            "ticks": ""
                          }
                        },
                        "type": "scattermap"
                      }
                    ],
                    "scattermapbox": [
                      {
                        "marker": {
                          "colorbar": {
                            "outlinewidth": 0,
                            "ticks": ""
                          }
                        },
                        "type": "scattermapbox"
                      }
                    ],
                    "scatterpolar": [
                      {
                        "marker": {
                          "colorbar": {
                            "outlinewidth": 0,
                            "ticks": ""
                          }
                        },
                        "type": "scatterpolar"
                      }
                    ],
                    "scatterpolargl": [
                      {
                        "marker": {
                          "colorbar": {
                            "outlinewidth": 0,
                            "ticks": ""
                          }
                        },
                        "type": "scatterpolargl"
                      }
                    ],
                    "scatterternary": [
                      {
                        "marker": {
                          "colorbar": {
                            "outlinewidth": 0,
                            "ticks": ""
                          }
                        },
                        "type": "scatterternary"
                      }
                    ],
                    "surface": [
                      {
                        "colorbar": {
                          "outlinewidth": 0,
                          "ticks": ""
                        },
                        "colorscale": [
                          [
                            0,
                            "#0d0887"
                          ],
                          [
                            0.1111111111111111,
                            "#46039f"
                          ],
                          [
                            0.2222222222222222,
                            "#7201a8"
                          ],
                          [
                            0.3333333333333333,
                            "#9c179e"
                          ],
                          [
                            0.4444444444444444,
                            "#bd3786"
                          ],
                          [
                            0.5555555555555556,
                            "#d8576b"
                          ],
                          [
                            0.6666666666666666,
                            "#ed7953"
                          ],
                          [
                            0.7777777777777778,
                            "#fb9f3a"
                          ],
                          [
                            0.8888888888888888,
                            "#fdca26"
                          ],
                          [
                            1,
                            "#f0f921"
                          ]
                        ],
                        "type": "surface"
                      }
                    ],
                    "table": [
                      {
                        "cells": {
                          "fill": {
                            "color": "#EBF0F8"
                          },
                          "line": {
                            "color": "white"
                          }
                        },
                        "header": {
                          "fill": {
                            "color": "#C8D4E3"
                          },
                          "line": {
                            "color": "white"
                          }
                        },
                        "type": "table"
                      }
                    ]
                  },
                  "layout": {
                    "annotationdefaults": {
                      "arrowcolor": "#2a3f5f",
                      "arrowhead": 0,
                      "arrowwidth": 1
                    },
                    "autotypenumbers": "strict",
                    "coloraxis": {
                      "colorbar": {
                        "outlinewidth": 0,
                        "ticks": ""
                      }
                    },
                    "colorscale": {
                      "diverging": [
                        [
                          0,
                          "#8e0152"
                        ],
                        [
                          0.1,
                          "#c51b7d"
                        ],
                        [
                          0.2,
                          "#de77ae"
                        ],
                        [
                          0.3,
                          "#f1b6da"
                        ],
                        [
                          0.4,
                          "#fde0ef"
                        ],
                        [
                          0.5,
                          "#f7f7f7"
                        ],
                        [
                          0.6,
                          "#e6f5d0"
                        ],
                        [
                          0.7,
                          "#b8e186"
                        ],
                        [
                          0.8,
                          "#7fbc41"
                        ],
                        [
                          0.9,
                          "#4d9221"
                        ],
                        [
                          1,
                          "#276419"
                        ]
                      ],
                      "sequential": [
                        [
                          0,
                          "#0d0887"
                        ],
                        [
                          0.1111111111111111,
                          "#46039f"
                        ],
                        [
                          0.2222222222222222,
                          "#7201a8"
                        ],
                        [
                          0.3333333333333333,
                          "#9c179e"
                        ],
                        [
                          0.4444444444444444,
                          "#bd3786"
                        ],
                        [
                          0.5555555555555556,
                          "#d8576b"
                        ],
                        [
                          0.6666666666666666,
                          "#ed7953"
                        ],
                        [
                          0.7777777777777778,
                          "#fb9f3a"
                        ],
                        [
                          0.8888888888888888,
                          "#fdca26"
                        ],
                        [
                          1,
                          "#f0f921"
                        ]
                      ],
                      "sequentialminus": [
                        [
                          0,
                          "#0d0887"
                        ],
                        [
                          0.1111111111111111,
                          "#46039f"
                        ],
                        [
                          0.2222222222222222,
                          "#7201a8"
                        ],
                        [
                          0.3333333333333333,
                          "#9c179e"
                        ],
                        [
                          0.4444444444444444,
                          "#bd3786"
                        ],
                        [
                          0.5555555555555556,
                          "#d8576b"
                        ],
                        [
                          0.6666666666666666,
                          "#ed7953"
                        ],
                        [
                          0.7777777777777778,
                          "#fb9f3a"
                        ],
                        [
                          0.8888888888888888,
                          "#fdca26"
                        ],
                        [
                          1,
                          "#f0f921"
                        ]
                      ]
                    },
                    "colorway": [
                      "#636efa",
                      "#EF553B",
                      "#00cc96",
                      "#ab63fa",
                      "#FFA15A",
                      "#19d3f3",
                      "#FF6692",
                      "#B6E880",
                      "#FF97FF",
                      "#FECB52"
                    ],
                    "font": {
                      "color": "#2a3f5f"
                    },
                    "geo": {
                      "bgcolor": "white",
                      "lakecolor": "white",
                      "landcolor": "#E5ECF6",
                      "showlakes": true,
                      "showland": true,
                      "subunitcolor": "white"
                    },
                    "hoverlabel": {
                      "align": "left"
                    },
                    "hovermode": "closest",
                    "mapbox": {
                      "style": "light"
                    },
                    "paper_bgcolor": "white",
                    "plot_bgcolor": "#E5ECF6",
                    "polar": {
                      "angularaxis": {
                        "gridcolor": "white",
                        "linecolor": "white",
                        "ticks": ""
                      },
                      "bgcolor": "#E5ECF6",
                      "radialaxis": {
                        "gridcolor": "white",
                        "linecolor": "white",
                        "ticks": ""
                      }
                    },
                    "scene": {
                      "xaxis": {
                        "backgroundcolor": "#E5ECF6",
                        "gridcolor": "white",
                        "gridwidth": 2,
                        "linecolor": "white",
                        "showbackground": true,
                        "ticks": "",
                        "zerolinecolor": "white"
                      },
                      "yaxis": {
                        "backgroundcolor": "#E5ECF6",
                        "gridcolor": "white",
                        "gridwidth": 2,
                        "linecolor": "white",
                        "showbackground": true,
                        "ticks": "",
                        "zerolinecolor": "white"
                      },
                      "zaxis": {
                        "backgroundcolor": "#E5ECF6",
                        "gridcolor": "white",
                        "gridwidth": 2,
                        "linecolor": "white",
                        "showbackground": true,
                        "ticks": "",
                        "zerolinecolor": "white"
                      }
                    },
                    "shapedefaults": {
                      "line": {
                        "color": "#2a3f5f"
                      }
                    },
                    "ternary": {
                      "aaxis": {
                        "gridcolor": "white",
                        "linecolor": "white",
                        "ticks": ""
                      },
                      "baxis": {
                        "gridcolor": "white",
                        "linecolor": "white",
                        "ticks": ""
                      },
                      "bgcolor": "#E5ECF6",
                      "caxis": {
                        "gridcolor": "white",
                        "linecolor": "white",
                        "ticks": ""
                      }
                    },
                    "title": {
                      "x": 0.05
                    },
                    "xaxis": {
                      "automargin": true,
                      "gridcolor": "white",
                      "linecolor": "white",
                      "ticks": "",
                      "title": {
                        "standoff": 15
                      },
                      "zerolinecolor": "white",
                      "zerolinewidth": 2
                    },
                    "yaxis": {
                      "automargin": true,
                      "gridcolor": "white",
                      "linecolor": "white",
                      "ticks": "",
                      "title": {
                        "standoff": 15
                      },
                      "zerolinecolor": "white",
                      "zerolinewidth": 2
                    }
                  }
                },
                "xaxis": {
                  "anchor": "y",
                  "domain": [
                    0,
                    0.45
                  ]
                },
                "xaxis2": {
                  "anchor": "y2",
                  "domain": [
                    0.55,
                    1
                  ]
                },
                "yaxis": {
                  "anchor": "x",
                  "domain": [
                    0,
                    1
                  ]
                },
                "yaxis2": {
                  "anchor": "x2",
                  "domain": [
                    0,
                    1
                  ]
                }
              }
            }
          },
          "metadata": {},
          "output_type": "display_data"
        }
      ],
      "source": [
        "# Subplot setting\n",
        "fig_box = make_subplots(\n",
        "    rows=1,\n",
        "    cols=2,\n",
        "    subplot_titles=(\n",
        "        \"Quantity Distribution\",\n",
        "        \"Revenue Distribution\")\n",
        ")\n",
        "\n",
        "# Box plot quantity\n",
        "fig_box.add_trace(go.Box(y=df['quantity'], name='Quantity'), row=1, col=1)\n",
        "# Box plot sales\n",
        "fig_box.add_trace(go.Box(y=df['revenue'], name='Revenue'), row=1, col=2)\n",
        "\n",
        "fig_box.show()"
      ]
    },
    {
      "cell_type": "markdown",
      "metadata": {
        "id": "UAooiBwQewmR"
      },
      "source": [
        "## Bagaimana Tren Penjualan 2024"
      ]
    },
    {
      "cell_type": "code",
      "execution_count": 60,
      "metadata": {
        "colab": {
          "base_uri": "https://localhost:8080/",
          "height": 417
        },
        "id": "9EPxKXnZewmS",
        "outputId": "3d339273-677e-45e2-ca5e-ef92a2dee8b7"
      },
      "outputs": [
        {
          "data": {
            "application/vnd.plotly.v1+json": {
              "config": {
                "plotlyServerURL": "https://plot.ly"
              },
              "data": [
                {
                  "hovertemplate": "month_name=%{x}<br>revenue=%{y}<extra></extra>",
                  "legendgroup": "",
                  "line": {
                    "color": "#636efa",
                    "dash": "solid"
                  },
                  "marker": {
                    "symbol": "circle"
                  },
                  "mode": "lines+markers",
                  "name": "",
                  "orientation": "v",
                  "showlegend": false,
                  "type": "scatter",
                  "x": [
                    "January",
                    "February",
                    "March",
                    "April",
                    "May",
                    "June",
                    "July",
                    "August",
                    "September",
                    "October",
                    "November",
                    "December"
                  ],
                  "xaxis": "x",
                  "y": {
                    "bdata": "5H7cBtR/pwQQG+QEcIf5BBgBfwMML+oCsLQeBPy5VARc24gDcNUqA2zPPwI0Ds4D",
                    "dtype": "i4"
                  },
                  "yaxis": "y"
                }
              ],
              "layout": {
                "height": 400,
                "legend": {
                  "tracegroupgap": 0
                },
                "template": {
                  "data": {
                    "bar": [
                      {
                        "error_x": {
                          "color": "#2a3f5f"
                        },
                        "error_y": {
                          "color": "#2a3f5f"
                        },
                        "marker": {
                          "line": {
                            "color": "#E5ECF6",
                            "width": 0.5
                          },
                          "pattern": {
                            "fillmode": "overlay",
                            "size": 10,
                            "solidity": 0.2
                          }
                        },
                        "type": "bar"
                      }
                    ],
                    "barpolar": [
                      {
                        "marker": {
                          "line": {
                            "color": "#E5ECF6",
                            "width": 0.5
                          },
                          "pattern": {
                            "fillmode": "overlay",
                            "size": 10,
                            "solidity": 0.2
                          }
                        },
                        "type": "barpolar"
                      }
                    ],
                    "carpet": [
                      {
                        "aaxis": {
                          "endlinecolor": "#2a3f5f",
                          "gridcolor": "white",
                          "linecolor": "white",
                          "minorgridcolor": "white",
                          "startlinecolor": "#2a3f5f"
                        },
                        "baxis": {
                          "endlinecolor": "#2a3f5f",
                          "gridcolor": "white",
                          "linecolor": "white",
                          "minorgridcolor": "white",
                          "startlinecolor": "#2a3f5f"
                        },
                        "type": "carpet"
                      }
                    ],
                    "choropleth": [
                      {
                        "colorbar": {
                          "outlinewidth": 0,
                          "ticks": ""
                        },
                        "type": "choropleth"
                      }
                    ],
                    "contour": [
                      {
                        "colorbar": {
                          "outlinewidth": 0,
                          "ticks": ""
                        },
                        "colorscale": [
                          [
                            0,
                            "#0d0887"
                          ],
                          [
                            0.1111111111111111,
                            "#46039f"
                          ],
                          [
                            0.2222222222222222,
                            "#7201a8"
                          ],
                          [
                            0.3333333333333333,
                            "#9c179e"
                          ],
                          [
                            0.4444444444444444,
                            "#bd3786"
                          ],
                          [
                            0.5555555555555556,
                            "#d8576b"
                          ],
                          [
                            0.6666666666666666,
                            "#ed7953"
                          ],
                          [
                            0.7777777777777778,
                            "#fb9f3a"
                          ],
                          [
                            0.8888888888888888,
                            "#fdca26"
                          ],
                          [
                            1,
                            "#f0f921"
                          ]
                        ],
                        "type": "contour"
                      }
                    ],
                    "contourcarpet": [
                      {
                        "colorbar": {
                          "outlinewidth": 0,
                          "ticks": ""
                        },
                        "type": "contourcarpet"
                      }
                    ],
                    "heatmap": [
                      {
                        "colorbar": {
                          "outlinewidth": 0,
                          "ticks": ""
                        },
                        "colorscale": [
                          [
                            0,
                            "#0d0887"
                          ],
                          [
                            0.1111111111111111,
                            "#46039f"
                          ],
                          [
                            0.2222222222222222,
                            "#7201a8"
                          ],
                          [
                            0.3333333333333333,
                            "#9c179e"
                          ],
                          [
                            0.4444444444444444,
                            "#bd3786"
                          ],
                          [
                            0.5555555555555556,
                            "#d8576b"
                          ],
                          [
                            0.6666666666666666,
                            "#ed7953"
                          ],
                          [
                            0.7777777777777778,
                            "#fb9f3a"
                          ],
                          [
                            0.8888888888888888,
                            "#fdca26"
                          ],
                          [
                            1,
                            "#f0f921"
                          ]
                        ],
                        "type": "heatmap"
                      }
                    ],
                    "histogram": [
                      {
                        "marker": {
                          "pattern": {
                            "fillmode": "overlay",
                            "size": 10,
                            "solidity": 0.2
                          }
                        },
                        "type": "histogram"
                      }
                    ],
                    "histogram2d": [
                      {
                        "colorbar": {
                          "outlinewidth": 0,
                          "ticks": ""
                        },
                        "colorscale": [
                          [
                            0,
                            "#0d0887"
                          ],
                          [
                            0.1111111111111111,
                            "#46039f"
                          ],
                          [
                            0.2222222222222222,
                            "#7201a8"
                          ],
                          [
                            0.3333333333333333,
                            "#9c179e"
                          ],
                          [
                            0.4444444444444444,
                            "#bd3786"
                          ],
                          [
                            0.5555555555555556,
                            "#d8576b"
                          ],
                          [
                            0.6666666666666666,
                            "#ed7953"
                          ],
                          [
                            0.7777777777777778,
                            "#fb9f3a"
                          ],
                          [
                            0.8888888888888888,
                            "#fdca26"
                          ],
                          [
                            1,
                            "#f0f921"
                          ]
                        ],
                        "type": "histogram2d"
                      }
                    ],
                    "histogram2dcontour": [
                      {
                        "colorbar": {
                          "outlinewidth": 0,
                          "ticks": ""
                        },
                        "colorscale": [
                          [
                            0,
                            "#0d0887"
                          ],
                          [
                            0.1111111111111111,
                            "#46039f"
                          ],
                          [
                            0.2222222222222222,
                            "#7201a8"
                          ],
                          [
                            0.3333333333333333,
                            "#9c179e"
                          ],
                          [
                            0.4444444444444444,
                            "#bd3786"
                          ],
                          [
                            0.5555555555555556,
                            "#d8576b"
                          ],
                          [
                            0.6666666666666666,
                            "#ed7953"
                          ],
                          [
                            0.7777777777777778,
                            "#fb9f3a"
                          ],
                          [
                            0.8888888888888888,
                            "#fdca26"
                          ],
                          [
                            1,
                            "#f0f921"
                          ]
                        ],
                        "type": "histogram2dcontour"
                      }
                    ],
                    "mesh3d": [
                      {
                        "colorbar": {
                          "outlinewidth": 0,
                          "ticks": ""
                        },
                        "type": "mesh3d"
                      }
                    ],
                    "parcoords": [
                      {
                        "line": {
                          "colorbar": {
                            "outlinewidth": 0,
                            "ticks": ""
                          }
                        },
                        "type": "parcoords"
                      }
                    ],
                    "pie": [
                      {
                        "automargin": true,
                        "type": "pie"
                      }
                    ],
                    "scatter": [
                      {
                        "fillpattern": {
                          "fillmode": "overlay",
                          "size": 10,
                          "solidity": 0.2
                        },
                        "type": "scatter"
                      }
                    ],
                    "scatter3d": [
                      {
                        "line": {
                          "colorbar": {
                            "outlinewidth": 0,
                            "ticks": ""
                          }
                        },
                        "marker": {
                          "colorbar": {
                            "outlinewidth": 0,
                            "ticks": ""
                          }
                        },
                        "type": "scatter3d"
                      }
                    ],
                    "scattercarpet": [
                      {
                        "marker": {
                          "colorbar": {
                            "outlinewidth": 0,
                            "ticks": ""
                          }
                        },
                        "type": "scattercarpet"
                      }
                    ],
                    "scattergeo": [
                      {
                        "marker": {
                          "colorbar": {
                            "outlinewidth": 0,
                            "ticks": ""
                          }
                        },
                        "type": "scattergeo"
                      }
                    ],
                    "scattergl": [
                      {
                        "marker": {
                          "colorbar": {
                            "outlinewidth": 0,
                            "ticks": ""
                          }
                        },
                        "type": "scattergl"
                      }
                    ],
                    "scattermap": [
                      {
                        "marker": {
                          "colorbar": {
                            "outlinewidth": 0,
                            "ticks": ""
                          }
                        },
                        "type": "scattermap"
                      }
                    ],
                    "scattermapbox": [
                      {
                        "marker": {
                          "colorbar": {
                            "outlinewidth": 0,
                            "ticks": ""
                          }
                        },
                        "type": "scattermapbox"
                      }
                    ],
                    "scatterpolar": [
                      {
                        "marker": {
                          "colorbar": {
                            "outlinewidth": 0,
                            "ticks": ""
                          }
                        },
                        "type": "scatterpolar"
                      }
                    ],
                    "scatterpolargl": [
                      {
                        "marker": {
                          "colorbar": {
                            "outlinewidth": 0,
                            "ticks": ""
                          }
                        },
                        "type": "scatterpolargl"
                      }
                    ],
                    "scatterternary": [
                      {
                        "marker": {
                          "colorbar": {
                            "outlinewidth": 0,
                            "ticks": ""
                          }
                        },
                        "type": "scatterternary"
                      }
                    ],
                    "surface": [
                      {
                        "colorbar": {
                          "outlinewidth": 0,
                          "ticks": ""
                        },
                        "colorscale": [
                          [
                            0,
                            "#0d0887"
                          ],
                          [
                            0.1111111111111111,
                            "#46039f"
                          ],
                          [
                            0.2222222222222222,
                            "#7201a8"
                          ],
                          [
                            0.3333333333333333,
                            "#9c179e"
                          ],
                          [
                            0.4444444444444444,
                            "#bd3786"
                          ],
                          [
                            0.5555555555555556,
                            "#d8576b"
                          ],
                          [
                            0.6666666666666666,
                            "#ed7953"
                          ],
                          [
                            0.7777777777777778,
                            "#fb9f3a"
                          ],
                          [
                            0.8888888888888888,
                            "#fdca26"
                          ],
                          [
                            1,
                            "#f0f921"
                          ]
                        ],
                        "type": "surface"
                      }
                    ],
                    "table": [
                      {
                        "cells": {
                          "fill": {
                            "color": "#EBF0F8"
                          },
                          "line": {
                            "color": "white"
                          }
                        },
                        "header": {
                          "fill": {
                            "color": "#C8D4E3"
                          },
                          "line": {
                            "color": "white"
                          }
                        },
                        "type": "table"
                      }
                    ]
                  },
                  "layout": {
                    "annotationdefaults": {
                      "arrowcolor": "#2a3f5f",
                      "arrowhead": 0,
                      "arrowwidth": 1
                    },
                    "autotypenumbers": "strict",
                    "coloraxis": {
                      "colorbar": {
                        "outlinewidth": 0,
                        "ticks": ""
                      }
                    },
                    "colorscale": {
                      "diverging": [
                        [
                          0,
                          "#8e0152"
                        ],
                        [
                          0.1,
                          "#c51b7d"
                        ],
                        [
                          0.2,
                          "#de77ae"
                        ],
                        [
                          0.3,
                          "#f1b6da"
                        ],
                        [
                          0.4,
                          "#fde0ef"
                        ],
                        [
                          0.5,
                          "#f7f7f7"
                        ],
                        [
                          0.6,
                          "#e6f5d0"
                        ],
                        [
                          0.7,
                          "#b8e186"
                        ],
                        [
                          0.8,
                          "#7fbc41"
                        ],
                        [
                          0.9,
                          "#4d9221"
                        ],
                        [
                          1,
                          "#276419"
                        ]
                      ],
                      "sequential": [
                        [
                          0,
                          "#0d0887"
                        ],
                        [
                          0.1111111111111111,
                          "#46039f"
                        ],
                        [
                          0.2222222222222222,
                          "#7201a8"
                        ],
                        [
                          0.3333333333333333,
                          "#9c179e"
                        ],
                        [
                          0.4444444444444444,
                          "#bd3786"
                        ],
                        [
                          0.5555555555555556,
                          "#d8576b"
                        ],
                        [
                          0.6666666666666666,
                          "#ed7953"
                        ],
                        [
                          0.7777777777777778,
                          "#fb9f3a"
                        ],
                        [
                          0.8888888888888888,
                          "#fdca26"
                        ],
                        [
                          1,
                          "#f0f921"
                        ]
                      ],
                      "sequentialminus": [
                        [
                          0,
                          "#0d0887"
                        ],
                        [
                          0.1111111111111111,
                          "#46039f"
                        ],
                        [
                          0.2222222222222222,
                          "#7201a8"
                        ],
                        [
                          0.3333333333333333,
                          "#9c179e"
                        ],
                        [
                          0.4444444444444444,
                          "#bd3786"
                        ],
                        [
                          0.5555555555555556,
                          "#d8576b"
                        ],
                        [
                          0.6666666666666666,
                          "#ed7953"
                        ],
                        [
                          0.7777777777777778,
                          "#fb9f3a"
                        ],
                        [
                          0.8888888888888888,
                          "#fdca26"
                        ],
                        [
                          1,
                          "#f0f921"
                        ]
                      ]
                    },
                    "colorway": [
                      "#636efa",
                      "#EF553B",
                      "#00cc96",
                      "#ab63fa",
                      "#FFA15A",
                      "#19d3f3",
                      "#FF6692",
                      "#B6E880",
                      "#FF97FF",
                      "#FECB52"
                    ],
                    "font": {
                      "color": "#2a3f5f"
                    },
                    "geo": {
                      "bgcolor": "white",
                      "lakecolor": "white",
                      "landcolor": "#E5ECF6",
                      "showlakes": true,
                      "showland": true,
                      "subunitcolor": "white"
                    },
                    "hoverlabel": {
                      "align": "left"
                    },
                    "hovermode": "closest",
                    "mapbox": {
                      "style": "light"
                    },
                    "paper_bgcolor": "white",
                    "plot_bgcolor": "#E5ECF6",
                    "polar": {
                      "angularaxis": {
                        "gridcolor": "white",
                        "linecolor": "white",
                        "ticks": ""
                      },
                      "bgcolor": "#E5ECF6",
                      "radialaxis": {
                        "gridcolor": "white",
                        "linecolor": "white",
                        "ticks": ""
                      }
                    },
                    "scene": {
                      "xaxis": {
                        "backgroundcolor": "#E5ECF6",
                        "gridcolor": "white",
                        "gridwidth": 2,
                        "linecolor": "white",
                        "showbackground": true,
                        "ticks": "",
                        "zerolinecolor": "white"
                      },
                      "yaxis": {
                        "backgroundcolor": "#E5ECF6",
                        "gridcolor": "white",
                        "gridwidth": 2,
                        "linecolor": "white",
                        "showbackground": true,
                        "ticks": "",
                        "zerolinecolor": "white"
                      },
                      "zaxis": {
                        "backgroundcolor": "#E5ECF6",
                        "gridcolor": "white",
                        "gridwidth": 2,
                        "linecolor": "white",
                        "showbackground": true,
                        "ticks": "",
                        "zerolinecolor": "white"
                      }
                    },
                    "shapedefaults": {
                      "line": {
                        "color": "#2a3f5f"
                      }
                    },
                    "ternary": {
                      "aaxis": {
                        "gridcolor": "white",
                        "linecolor": "white",
                        "ticks": ""
                      },
                      "baxis": {
                        "gridcolor": "white",
                        "linecolor": "white",
                        "ticks": ""
                      },
                      "bgcolor": "#E5ECF6",
                      "caxis": {
                        "gridcolor": "white",
                        "linecolor": "white",
                        "ticks": ""
                      }
                    },
                    "title": {
                      "x": 0.05
                    },
                    "xaxis": {
                      "automargin": true,
                      "gridcolor": "white",
                      "linecolor": "white",
                      "ticks": "",
                      "title": {
                        "standoff": 15
                      },
                      "zerolinecolor": "white",
                      "zerolinewidth": 2
                    },
                    "yaxis": {
                      "automargin": true,
                      "gridcolor": "white",
                      "linecolor": "white",
                      "ticks": "",
                      "title": {
                        "standoff": 15
                      },
                      "zerolinecolor": "white",
                      "zerolinewidth": 2
                    }
                  }
                },
                "title": {
                  "text": "Total Revenue 2024",
                  "x": 0.5
                },
                "width": 800,
                "xaxis": {
                  "anchor": "y",
                  "domain": [
                    0,
                    1
                  ],
                  "title": {
                    "text": "Month"
                  }
                },
                "yaxis": {
                  "anchor": "x",
                  "domain": [
                    0,
                    1
                  ],
                  "title": {
                    "text": "Revenue"
                  }
                }
              }
            }
          },
          "metadata": {},
          "output_type": "display_data"
        }
      ],
      "source": [
        "# Add new column month_num & month_name\n",
        "df['month_num'] = df['date'].dt.month\n",
        "df['month_name'] = df['date'].dt.month_name()\n",
        "\n",
        "# Grouping berdasarkan tahun\n",
        "df_rev_24 = df.groupby(['month_num','month_name'])['revenue'].sum().reset_index()\n",
        "\n",
        "fig_line_rev24 = px.line(\n",
        "    df_rev_24,\n",
        "    x = 'month_name',\n",
        "    y = 'revenue',\n",
        "    markers= True,\n",
        "    title= 'Total Revenue 2024',\n",
        "    width= 800,\n",
        "    height= 400\n",
        "\n",
        ")\n",
        "\n",
        "fig_line_rev24.update_layout(\n",
        "    xaxis_title = 'Month',\n",
        "    yaxis_title = 'Revenue',\n",
        "    title_x= 0.5    #Memposisikan title di tengah\n",
        ")\n",
        "\n",
        "fig_line_rev24.show()\n"
      ]
    },
    {
      "cell_type": "markdown",
      "metadata": {
        "id": "bWREcy4oewmS"
      },
      "source": [
        "## BagaimAna Tren Penjualan Bulanan"
      ]
    },
    {
      "cell_type": "markdown",
      "metadata": {
        "id": "sN5vP8bbewmT"
      },
      "source": [
        "## Sales per Quantity Annualy"
      ]
    },
    {
      "cell_type": "code",
      "execution_count": 61,
      "metadata": {
        "colab": {
          "base_uri": "https://localhost:8080/",
          "height": 654
        },
        "id": "6euwG9QlewmU",
        "outputId": "21cce71c-11eb-4d6f-e06d-4be2eeba5238"
      },
      "outputs": [
        {
          "data": {
            "application/vnd.plotly.v1+json": {
              "config": {
                "plotlyServerURL": "https://plot.ly"
              },
              "data": [
                {
                  "marker": {
                    "color": "lightblue"
                  },
                  "name": "Quantity",
                  "type": "bar",
                  "x": [
                    "January",
                    "February",
                    "March",
                    "April",
                    "May",
                    "June",
                    "July",
                    "August",
                    "September",
                    "October",
                    "November",
                    "December"
                  ],
                  "xaxis": "x",
                  "y": {
                    "bdata": "1QCSAIcAjwBbAFQAZQBzAGQAWQBHAF4A",
                    "dtype": "i2"
                  },
                  "yaxis": "y"
                },
                {
                  "line": {
                    "color": "darkblue"
                  },
                  "mode": "lines+markers",
                  "name": "Sales Per Unit",
                  "type": "scatter",
                  "x": [
                    "January",
                    "February",
                    "March",
                    "April",
                    "May",
                    "June",
                    "July",
                    "August",
                    "September",
                    "October",
                    "November",
                    "December"
                  ],
                  "xaxis": "x",
                  "y": {
                    "bdata": "Fz8IADQpCABdRgkA4ucIANDVCQAV4ggAUHEKAB+kCQBvDAkASRwJACkcCAC/XAoA",
                    "dtype": "i4"
                  },
                  "yaxis": "y2"
                }
              ],
              "layout": {
                "height": 600,
                "legend": {
                  "orientation": "h",
                  "x": 0.5,
                  "xanchor": "center"
                },
                "template": {
                  "data": {
                    "bar": [
                      {
                        "error_x": {
                          "color": "#2a3f5f"
                        },
                        "error_y": {
                          "color": "#2a3f5f"
                        },
                        "marker": {
                          "line": {
                            "color": "#E5ECF6",
                            "width": 0.5
                          },
                          "pattern": {
                            "fillmode": "overlay",
                            "size": 10,
                            "solidity": 0.2
                          }
                        },
                        "type": "bar"
                      }
                    ],
                    "barpolar": [
                      {
                        "marker": {
                          "line": {
                            "color": "#E5ECF6",
                            "width": 0.5
                          },
                          "pattern": {
                            "fillmode": "overlay",
                            "size": 10,
                            "solidity": 0.2
                          }
                        },
                        "type": "barpolar"
                      }
                    ],
                    "carpet": [
                      {
                        "aaxis": {
                          "endlinecolor": "#2a3f5f",
                          "gridcolor": "white",
                          "linecolor": "white",
                          "minorgridcolor": "white",
                          "startlinecolor": "#2a3f5f"
                        },
                        "baxis": {
                          "endlinecolor": "#2a3f5f",
                          "gridcolor": "white",
                          "linecolor": "white",
                          "minorgridcolor": "white",
                          "startlinecolor": "#2a3f5f"
                        },
                        "type": "carpet"
                      }
                    ],
                    "choropleth": [
                      {
                        "colorbar": {
                          "outlinewidth": 0,
                          "ticks": ""
                        },
                        "type": "choropleth"
                      }
                    ],
                    "contour": [
                      {
                        "colorbar": {
                          "outlinewidth": 0,
                          "ticks": ""
                        },
                        "colorscale": [
                          [
                            0,
                            "#0d0887"
                          ],
                          [
                            0.1111111111111111,
                            "#46039f"
                          ],
                          [
                            0.2222222222222222,
                            "#7201a8"
                          ],
                          [
                            0.3333333333333333,
                            "#9c179e"
                          ],
                          [
                            0.4444444444444444,
                            "#bd3786"
                          ],
                          [
                            0.5555555555555556,
                            "#d8576b"
                          ],
                          [
                            0.6666666666666666,
                            "#ed7953"
                          ],
                          [
                            0.7777777777777778,
                            "#fb9f3a"
                          ],
                          [
                            0.8888888888888888,
                            "#fdca26"
                          ],
                          [
                            1,
                            "#f0f921"
                          ]
                        ],
                        "type": "contour"
                      }
                    ],
                    "contourcarpet": [
                      {
                        "colorbar": {
                          "outlinewidth": 0,
                          "ticks": ""
                        },
                        "type": "contourcarpet"
                      }
                    ],
                    "heatmap": [
                      {
                        "colorbar": {
                          "outlinewidth": 0,
                          "ticks": ""
                        },
                        "colorscale": [
                          [
                            0,
                            "#0d0887"
                          ],
                          [
                            0.1111111111111111,
                            "#46039f"
                          ],
                          [
                            0.2222222222222222,
                            "#7201a8"
                          ],
                          [
                            0.3333333333333333,
                            "#9c179e"
                          ],
                          [
                            0.4444444444444444,
                            "#bd3786"
                          ],
                          [
                            0.5555555555555556,
                            "#d8576b"
                          ],
                          [
                            0.6666666666666666,
                            "#ed7953"
                          ],
                          [
                            0.7777777777777778,
                            "#fb9f3a"
                          ],
                          [
                            0.8888888888888888,
                            "#fdca26"
                          ],
                          [
                            1,
                            "#f0f921"
                          ]
                        ],
                        "type": "heatmap"
                      }
                    ],
                    "histogram": [
                      {
                        "marker": {
                          "pattern": {
                            "fillmode": "overlay",
                            "size": 10,
                            "solidity": 0.2
                          }
                        },
                        "type": "histogram"
                      }
                    ],
                    "histogram2d": [
                      {
                        "colorbar": {
                          "outlinewidth": 0,
                          "ticks": ""
                        },
                        "colorscale": [
                          [
                            0,
                            "#0d0887"
                          ],
                          [
                            0.1111111111111111,
                            "#46039f"
                          ],
                          [
                            0.2222222222222222,
                            "#7201a8"
                          ],
                          [
                            0.3333333333333333,
                            "#9c179e"
                          ],
                          [
                            0.4444444444444444,
                            "#bd3786"
                          ],
                          [
                            0.5555555555555556,
                            "#d8576b"
                          ],
                          [
                            0.6666666666666666,
                            "#ed7953"
                          ],
                          [
                            0.7777777777777778,
                            "#fb9f3a"
                          ],
                          [
                            0.8888888888888888,
                            "#fdca26"
                          ],
                          [
                            1,
                            "#f0f921"
                          ]
                        ],
                        "type": "histogram2d"
                      }
                    ],
                    "histogram2dcontour": [
                      {
                        "colorbar": {
                          "outlinewidth": 0,
                          "ticks": ""
                        },
                        "colorscale": [
                          [
                            0,
                            "#0d0887"
                          ],
                          [
                            0.1111111111111111,
                            "#46039f"
                          ],
                          [
                            0.2222222222222222,
                            "#7201a8"
                          ],
                          [
                            0.3333333333333333,
                            "#9c179e"
                          ],
                          [
                            0.4444444444444444,
                            "#bd3786"
                          ],
                          [
                            0.5555555555555556,
                            "#d8576b"
                          ],
                          [
                            0.6666666666666666,
                            "#ed7953"
                          ],
                          [
                            0.7777777777777778,
                            "#fb9f3a"
                          ],
                          [
                            0.8888888888888888,
                            "#fdca26"
                          ],
                          [
                            1,
                            "#f0f921"
                          ]
                        ],
                        "type": "histogram2dcontour"
                      }
                    ],
                    "mesh3d": [
                      {
                        "colorbar": {
                          "outlinewidth": 0,
                          "ticks": ""
                        },
                        "type": "mesh3d"
                      }
                    ],
                    "parcoords": [
                      {
                        "line": {
                          "colorbar": {
                            "outlinewidth": 0,
                            "ticks": ""
                          }
                        },
                        "type": "parcoords"
                      }
                    ],
                    "pie": [
                      {
                        "automargin": true,
                        "type": "pie"
                      }
                    ],
                    "scatter": [
                      {
                        "fillpattern": {
                          "fillmode": "overlay",
                          "size": 10,
                          "solidity": 0.2
                        },
                        "type": "scatter"
                      }
                    ],
                    "scatter3d": [
                      {
                        "line": {
                          "colorbar": {
                            "outlinewidth": 0,
                            "ticks": ""
                          }
                        },
                        "marker": {
                          "colorbar": {
                            "outlinewidth": 0,
                            "ticks": ""
                          }
                        },
                        "type": "scatter3d"
                      }
                    ],
                    "scattercarpet": [
                      {
                        "marker": {
                          "colorbar": {
                            "outlinewidth": 0,
                            "ticks": ""
                          }
                        },
                        "type": "scattercarpet"
                      }
                    ],
                    "scattergeo": [
                      {
                        "marker": {
                          "colorbar": {
                            "outlinewidth": 0,
                            "ticks": ""
                          }
                        },
                        "type": "scattergeo"
                      }
                    ],
                    "scattergl": [
                      {
                        "marker": {
                          "colorbar": {
                            "outlinewidth": 0,
                            "ticks": ""
                          }
                        },
                        "type": "scattergl"
                      }
                    ],
                    "scattermap": [
                      {
                        "marker": {
                          "colorbar": {
                            "outlinewidth": 0,
                            "ticks": ""
                          }
                        },
                        "type": "scattermap"
                      }
                    ],
                    "scattermapbox": [
                      {
                        "marker": {
                          "colorbar": {
                            "outlinewidth": 0,
                            "ticks": ""
                          }
                        },
                        "type": "scattermapbox"
                      }
                    ],
                    "scatterpolar": [
                      {
                        "marker": {
                          "colorbar": {
                            "outlinewidth": 0,
                            "ticks": ""
                          }
                        },
                        "type": "scatterpolar"
                      }
                    ],
                    "scatterpolargl": [
                      {
                        "marker": {
                          "colorbar": {
                            "outlinewidth": 0,
                            "ticks": ""
                          }
                        },
                        "type": "scatterpolargl"
                      }
                    ],
                    "scatterternary": [
                      {
                        "marker": {
                          "colorbar": {
                            "outlinewidth": 0,
                            "ticks": ""
                          }
                        },
                        "type": "scatterternary"
                      }
                    ],
                    "surface": [
                      {
                        "colorbar": {
                          "outlinewidth": 0,
                          "ticks": ""
                        },
                        "colorscale": [
                          [
                            0,
                            "#0d0887"
                          ],
                          [
                            0.1111111111111111,
                            "#46039f"
                          ],
                          [
                            0.2222222222222222,
                            "#7201a8"
                          ],
                          [
                            0.3333333333333333,
                            "#9c179e"
                          ],
                          [
                            0.4444444444444444,
                            "#bd3786"
                          ],
                          [
                            0.5555555555555556,
                            "#d8576b"
                          ],
                          [
                            0.6666666666666666,
                            "#ed7953"
                          ],
                          [
                            0.7777777777777778,
                            "#fb9f3a"
                          ],
                          [
                            0.8888888888888888,
                            "#fdca26"
                          ],
                          [
                            1,
                            "#f0f921"
                          ]
                        ],
                        "type": "surface"
                      }
                    ],
                    "table": [
                      {
                        "cells": {
                          "fill": {
                            "color": "#EBF0F8"
                          },
                          "line": {
                            "color": "white"
                          }
                        },
                        "header": {
                          "fill": {
                            "color": "#C8D4E3"
                          },
                          "line": {
                            "color": "white"
                          }
                        },
                        "type": "table"
                      }
                    ]
                  },
                  "layout": {
                    "annotationdefaults": {
                      "arrowcolor": "#2a3f5f",
                      "arrowhead": 0,
                      "arrowwidth": 1
                    },
                    "autotypenumbers": "strict",
                    "coloraxis": {
                      "colorbar": {
                        "outlinewidth": 0,
                        "ticks": ""
                      }
                    },
                    "colorscale": {
                      "diverging": [
                        [
                          0,
                          "#8e0152"
                        ],
                        [
                          0.1,
                          "#c51b7d"
                        ],
                        [
                          0.2,
                          "#de77ae"
                        ],
                        [
                          0.3,
                          "#f1b6da"
                        ],
                        [
                          0.4,
                          "#fde0ef"
                        ],
                        [
                          0.5,
                          "#f7f7f7"
                        ],
                        [
                          0.6,
                          "#e6f5d0"
                        ],
                        [
                          0.7,
                          "#b8e186"
                        ],
                        [
                          0.8,
                          "#7fbc41"
                        ],
                        [
                          0.9,
                          "#4d9221"
                        ],
                        [
                          1,
                          "#276419"
                        ]
                      ],
                      "sequential": [
                        [
                          0,
                          "#0d0887"
                        ],
                        [
                          0.1111111111111111,
                          "#46039f"
                        ],
                        [
                          0.2222222222222222,
                          "#7201a8"
                        ],
                        [
                          0.3333333333333333,
                          "#9c179e"
                        ],
                        [
                          0.4444444444444444,
                          "#bd3786"
                        ],
                        [
                          0.5555555555555556,
                          "#d8576b"
                        ],
                        [
                          0.6666666666666666,
                          "#ed7953"
                        ],
                        [
                          0.7777777777777778,
                          "#fb9f3a"
                        ],
                        [
                          0.8888888888888888,
                          "#fdca26"
                        ],
                        [
                          1,
                          "#f0f921"
                        ]
                      ],
                      "sequentialminus": [
                        [
                          0,
                          "#0d0887"
                        ],
                        [
                          0.1111111111111111,
                          "#46039f"
                        ],
                        [
                          0.2222222222222222,
                          "#7201a8"
                        ],
                        [
                          0.3333333333333333,
                          "#9c179e"
                        ],
                        [
                          0.4444444444444444,
                          "#bd3786"
                        ],
                        [
                          0.5555555555555556,
                          "#d8576b"
                        ],
                        [
                          0.6666666666666666,
                          "#ed7953"
                        ],
                        [
                          0.7777777777777778,
                          "#fb9f3a"
                        ],
                        [
                          0.8888888888888888,
                          "#fdca26"
                        ],
                        [
                          1,
                          "#f0f921"
                        ]
                      ]
                    },
                    "colorway": [
                      "#636efa",
                      "#EF553B",
                      "#00cc96",
                      "#ab63fa",
                      "#FFA15A",
                      "#19d3f3",
                      "#FF6692",
                      "#B6E880",
                      "#FF97FF",
                      "#FECB52"
                    ],
                    "font": {
                      "color": "#2a3f5f"
                    },
                    "geo": {
                      "bgcolor": "white",
                      "lakecolor": "white",
                      "landcolor": "#E5ECF6",
                      "showlakes": true,
                      "showland": true,
                      "subunitcolor": "white"
                    },
                    "hoverlabel": {
                      "align": "left"
                    },
                    "hovermode": "closest",
                    "mapbox": {
                      "style": "light"
                    },
                    "paper_bgcolor": "white",
                    "plot_bgcolor": "#E5ECF6",
                    "polar": {
                      "angularaxis": {
                        "gridcolor": "white",
                        "linecolor": "white",
                        "ticks": ""
                      },
                      "bgcolor": "#E5ECF6",
                      "radialaxis": {
                        "gridcolor": "white",
                        "linecolor": "white",
                        "ticks": ""
                      }
                    },
                    "scene": {
                      "xaxis": {
                        "backgroundcolor": "#E5ECF6",
                        "gridcolor": "white",
                        "gridwidth": 2,
                        "linecolor": "white",
                        "showbackground": true,
                        "ticks": "",
                        "zerolinecolor": "white"
                      },
                      "yaxis": {
                        "backgroundcolor": "#E5ECF6",
                        "gridcolor": "white",
                        "gridwidth": 2,
                        "linecolor": "white",
                        "showbackground": true,
                        "ticks": "",
                        "zerolinecolor": "white"
                      },
                      "zaxis": {
                        "backgroundcolor": "#E5ECF6",
                        "gridcolor": "white",
                        "gridwidth": 2,
                        "linecolor": "white",
                        "showbackground": true,
                        "ticks": "",
                        "zerolinecolor": "white"
                      }
                    },
                    "shapedefaults": {
                      "line": {
                        "color": "#2a3f5f"
                      }
                    },
                    "ternary": {
                      "aaxis": {
                        "gridcolor": "white",
                        "linecolor": "white",
                        "ticks": ""
                      },
                      "baxis": {
                        "gridcolor": "white",
                        "linecolor": "white",
                        "ticks": ""
                      },
                      "bgcolor": "#E5ECF6",
                      "caxis": {
                        "gridcolor": "white",
                        "linecolor": "white",
                        "ticks": ""
                      }
                    },
                    "title": {
                      "x": 0.05
                    },
                    "xaxis": {
                      "automargin": true,
                      "gridcolor": "white",
                      "linecolor": "white",
                      "ticks": "",
                      "title": {
                        "standoff": 15
                      },
                      "zerolinecolor": "white",
                      "zerolinewidth": 2
                    },
                    "yaxis": {
                      "automargin": true,
                      "gridcolor": "white",
                      "linecolor": "white",
                      "ticks": "",
                      "title": {
                        "standoff": 15
                      },
                      "zerolinecolor": "white",
                      "zerolinewidth": 2
                    }
                  }
                },
                "title": {
                  "text": "Combo Chart: Quantity dan Sales per Unit",
                  "x": 0.5
                },
                "width": 800,
                "xaxis": {
                  "anchor": "y",
                  "domain": [
                    0,
                    0.94
                  ],
                  "title": {
                    "text": "Year"
                  }
                },
                "yaxis": {
                  "anchor": "x",
                  "domain": [
                    0,
                    1
                  ],
                  "title": {
                    "text": "Quantity"
                  }
                },
                "yaxis2": {
                  "anchor": "x",
                  "overlaying": "y",
                  "side": "right",
                  "title": {
                    "text": "Sales per Unit"
                  }
                }
              }
            }
          },
          "metadata": {},
          "output_type": "display_data"
        },
        {
          "name": "stdout",
          "output_type": "stream",
          "text": [
            "Walaupun order quantity menurun namun sales per order meningkat dari tahun ke tahun\n",
            "Diduga harga proruk dari tahun ke tahun makin meningkat, kemungkinan karena strategy premium pricing\n"
          ]
        }
      ],
      "source": [
        "# Grouping untuk data sales per unit\n",
        "df_spu24 = df.groupby(['month_num','month_name']).agg({'quantity': 'sum','revenue': 'sum'}).reset_index()\n",
        "\n",
        "# tambah kolom sales per unit\n",
        "df_spu24['sales_per_unit'] = (df_spu24['revenue'] / df_spu24['quantity']).astype(int)\n",
        "\n",
        "\n",
        "fig_spu24 = make_subplots(specs=[[{\"secondary_y\": True}]])\n",
        "    # Bar chart: Quantity\n",
        "fig_spu24.add_trace(go.Bar(\n",
        "    x=df_spu24['month_name'],\n",
        "    y=df_spu24['quantity'],\n",
        "    name='Quantity',\n",
        "    marker_color='lightblue',\n",
        "), secondary_y=False)\n",
        "\n",
        "    # Line chart: Total Sales\n",
        "fig_spu24.add_trace(go.Scatter(\n",
        "    x=df_spu24['month_name'],\n",
        "    y=df_spu24['sales_per_unit'],\n",
        "    name='Sales Per Unit',\n",
        "    mode='lines+markers',\n",
        "    line=dict(color='darkblue'),\n",
        "), secondary_y=True)\n",
        "\n",
        "# Layout tambahan\n",
        "fig_spu24.update_layout(\n",
        "    title='Combo Chart: Quantity dan Sales per Unit',\n",
        "    title_x=0.5,\n",
        "    xaxis_title='Year',\n",
        "    legend=dict(x=0.5, xanchor='center', orientation='h'),\n",
        "    width=800,\n",
        "    height=600,\n",
        ")\n",
        "\n",
        "fig_spu24.update_yaxes(title_text='Quantity', secondary_y=False)\n",
        "fig_spu24.update_yaxes(title_text='Sales per Unit', secondary_y=True)\n",
        "\n",
        "fig_spu24.show()\n",
        "print('Walaupun order quantity menurun namun sales per order meningkat dari tahun ke tahun')\n",
        "print('Diduga harga proruk dari tahun ke tahun makin meningkat, kemungkinan karena strategy premium pricing')"
      ]
    },
    {
      "cell_type": "markdown",
      "metadata": {
        "id": "8pzJcrNqewmV"
      },
      "source": [
        "# Analisis lanjutan: Customer Segmentation - RFM Analysis"
      ]
    },
    {
      "cell_type": "markdown",
      "metadata": {
        "id": "Ihs1kQEUewmb"
      },
      "source": [
        "## Calculating Recency, Frequensi, Monetary Values"
      ]
    },
    {
      "cell_type": "code",
      "execution_count": 62,
      "metadata": {
        "id": "uyArfsihewmb"
      },
      "outputs": [],
      "source": [
        "from datetime import datetime\n",
        "df['recency'] = (df['date'].max().date() - df['date'].dt.date)\n",
        "\n",
        "# Calculate Frequency\n",
        "frequency_data = df.groupby('customer_id')['order_id'].count().reset_index()\n",
        "frequency_data.rename(columns={'order_id': 'frequency'}, inplace=True)\n",
        "df = df.merge(frequency_data, on='customer_id', how='left')\n",
        "\n",
        "# Calculate Monetary Value\n",
        "monetary_data = df.groupby('customer_id')['revenue'].sum().reset_index()\n",
        "monetary_data.rename(columns={'revenue': 'monetary'}, inplace=True)\n",
        "df = df.merge(monetary_data, on='customer_id', how='left')\n",
        "# remove column revenue\n",
        "df = df.drop(columns='revenue')"
      ]
    },
    {
      "cell_type": "markdown",
      "metadata": {
        "id": "wk2yKa7Aewmc"
      },
      "source": [
        "## Calculating RFM Scores"
      ]
    },
    {
      "cell_type": "code",
      "execution_count": 63,
      "metadata": {
        "id": "D9KLrSXBewmc"
      },
      "outputs": [],
      "source": [
        "# Define scoring criteria for each RFM value\n",
        "recency_scores = [5, 4, 3, 2, 1]  # Higher score for lower recency (more recent)\n",
        "frequency_scores = [1, 2, 3, 4, 5]  # Higher score for higher frequency\n",
        "monetary_scores = [1, 2, 3, 4, 5]  # Higher score for higher monetary value\n",
        "\n",
        "# calculating RFM Scores\n",
        "df['recency_score'] = pd.cut(df['recency'], bins=5, labels=recency_scores).astype(int)\n",
        "df['frequency_score'] = pd.cut(df['frequency'], bins=5, labels=frequency_scores).astype(int)\n",
        "df['monetary_score'] = pd.cut(df['monetary'], bins=5, labels=monetary_scores).astype(int)"
      ]
    },
    {
      "cell_type": "markdown",
      "metadata": {
        "id": "TxW_n1Gkewmd"
      },
      "source": [
        "## RFM Value Segmentation"
      ]
    },
    {
      "cell_type": "code",
      "execution_count": 64,
      "metadata": {
        "id": "z20q_Soqewmd"
      },
      "outputs": [],
      "source": [
        "## RFM Value Segmentation\n",
        "# Calculate RFM score by combining the individual scores\n",
        "df['rfm_score'] = df['recency_score'] + df['frequency_score'] + df['monetary_score']\n",
        "\n",
        "# Create RFM segments based on the RFM score\n",
        "segment_labels = ['Low-Value', 'Mid-Value', 'High-Value']\n",
        "df['value_segment'] = pd.qcut(df['rfm_score'], q=3, labels=segment_labels)"
      ]
    },
    {
      "cell_type": "markdown",
      "metadata": {
        "id": "7MP924Ysewmn"
      },
      "source": [
        "## RFM Value Distribution"
      ]
    },
    {
      "cell_type": "code",
      "execution_count": 65,
      "metadata": {
        "colab": {
          "base_uri": "https://localhost:8080/",
          "height": 542
        },
        "id": "NJ1DroqFewmn",
        "outputId": "97144662-8d3c-44bd-b588-33b157c3a7a7"
      },
      "outputs": [
        {
          "data": {
            "application/vnd.plotly.v1+json": {
              "config": {
                "plotlyServerURL": "https://plot.ly"
              },
              "data": [
                {
                  "bingroup": "x",
                  "histfunc": "sum",
                  "hovertemplate": "value_segment=%{x}<br>sum of count=%{y}<extra></extra>",
                  "legendgroup": "Low-Value",
                  "marker": {
                    "color": "rgb(102, 197, 204)",
                    "pattern": {
                      "shape": ""
                    }
                  },
                  "name": "Low-Value",
                  "orientation": "v",
                  "showlegend": true,
                  "type": "histogram",
                  "x": [
                    "Low-Value"
                  ],
                  "xaxis": "x",
                  "y": {
                    "bdata": "kwE=",
                    "dtype": "i2"
                  },
                  "yaxis": "y"
                },
                {
                  "bingroup": "x",
                  "histfunc": "sum",
                  "hovertemplate": "value_segment=%{x}<br>sum of count=%{y}<extra></extra>",
                  "legendgroup": "Mid-Value",
                  "marker": {
                    "color": "rgb(246, 207, 113)",
                    "pattern": {
                      "shape": ""
                    }
                  },
                  "name": "Mid-Value",
                  "orientation": "v",
                  "showlegend": true,
                  "type": "histogram",
                  "x": [
                    "Mid-Value"
                  ],
                  "xaxis": "x",
                  "y": {
                    "bdata": "GAE=",
                    "dtype": "i2"
                  },
                  "yaxis": "y"
                },
                {
                  "bingroup": "x",
                  "histfunc": "sum",
                  "hovertemplate": "value_segment=%{x}<br>sum of count=%{y}<extra></extra>",
                  "legendgroup": "High-Value",
                  "marker": {
                    "color": "rgb(248, 156, 116)",
                    "pattern": {
                      "shape": ""
                    }
                  },
                  "name": "High-Value",
                  "orientation": "v",
                  "showlegend": true,
                  "type": "histogram",
                  "x": [
                    "High-Value"
                  ],
                  "xaxis": "x",
                  "y": {
                    "bdata": "mgA=",
                    "dtype": "i2"
                  },
                  "yaxis": "y"
                }
              ],
              "layout": {
                "barmode": "relative",
                "legend": {
                  "title": {
                    "text": "value_segment"
                  },
                  "tracegroupgap": 0
                },
                "showlegend": false,
                "template": {
                  "data": {
                    "bar": [
                      {
                        "error_x": {
                          "color": "#2a3f5f"
                        },
                        "error_y": {
                          "color": "#2a3f5f"
                        },
                        "marker": {
                          "line": {
                            "color": "#E5ECF6",
                            "width": 0.5
                          },
                          "pattern": {
                            "fillmode": "overlay",
                            "size": 10,
                            "solidity": 0.2
                          }
                        },
                        "type": "bar"
                      }
                    ],
                    "barpolar": [
                      {
                        "marker": {
                          "line": {
                            "color": "#E5ECF6",
                            "width": 0.5
                          },
                          "pattern": {
                            "fillmode": "overlay",
                            "size": 10,
                            "solidity": 0.2
                          }
                        },
                        "type": "barpolar"
                      }
                    ],
                    "carpet": [
                      {
                        "aaxis": {
                          "endlinecolor": "#2a3f5f",
                          "gridcolor": "white",
                          "linecolor": "white",
                          "minorgridcolor": "white",
                          "startlinecolor": "#2a3f5f"
                        },
                        "baxis": {
                          "endlinecolor": "#2a3f5f",
                          "gridcolor": "white",
                          "linecolor": "white",
                          "minorgridcolor": "white",
                          "startlinecolor": "#2a3f5f"
                        },
                        "type": "carpet"
                      }
                    ],
                    "choropleth": [
                      {
                        "colorbar": {
                          "outlinewidth": 0,
                          "ticks": ""
                        },
                        "type": "choropleth"
                      }
                    ],
                    "contour": [
                      {
                        "colorbar": {
                          "outlinewidth": 0,
                          "ticks": ""
                        },
                        "colorscale": [
                          [
                            0,
                            "#0d0887"
                          ],
                          [
                            0.1111111111111111,
                            "#46039f"
                          ],
                          [
                            0.2222222222222222,
                            "#7201a8"
                          ],
                          [
                            0.3333333333333333,
                            "#9c179e"
                          ],
                          [
                            0.4444444444444444,
                            "#bd3786"
                          ],
                          [
                            0.5555555555555556,
                            "#d8576b"
                          ],
                          [
                            0.6666666666666666,
                            "#ed7953"
                          ],
                          [
                            0.7777777777777778,
                            "#fb9f3a"
                          ],
                          [
                            0.8888888888888888,
                            "#fdca26"
                          ],
                          [
                            1,
                            "#f0f921"
                          ]
                        ],
                        "type": "contour"
                      }
                    ],
                    "contourcarpet": [
                      {
                        "colorbar": {
                          "outlinewidth": 0,
                          "ticks": ""
                        },
                        "type": "contourcarpet"
                      }
                    ],
                    "heatmap": [
                      {
                        "colorbar": {
                          "outlinewidth": 0,
                          "ticks": ""
                        },
                        "colorscale": [
                          [
                            0,
                            "#0d0887"
                          ],
                          [
                            0.1111111111111111,
                            "#46039f"
                          ],
                          [
                            0.2222222222222222,
                            "#7201a8"
                          ],
                          [
                            0.3333333333333333,
                            "#9c179e"
                          ],
                          [
                            0.4444444444444444,
                            "#bd3786"
                          ],
                          [
                            0.5555555555555556,
                            "#d8576b"
                          ],
                          [
                            0.6666666666666666,
                            "#ed7953"
                          ],
                          [
                            0.7777777777777778,
                            "#fb9f3a"
                          ],
                          [
                            0.8888888888888888,
                            "#fdca26"
                          ],
                          [
                            1,
                            "#f0f921"
                          ]
                        ],
                        "type": "heatmap"
                      }
                    ],
                    "histogram": [
                      {
                        "marker": {
                          "pattern": {
                            "fillmode": "overlay",
                            "size": 10,
                            "solidity": 0.2
                          }
                        },
                        "type": "histogram"
                      }
                    ],
                    "histogram2d": [
                      {
                        "colorbar": {
                          "outlinewidth": 0,
                          "ticks": ""
                        },
                        "colorscale": [
                          [
                            0,
                            "#0d0887"
                          ],
                          [
                            0.1111111111111111,
                            "#46039f"
                          ],
                          [
                            0.2222222222222222,
                            "#7201a8"
                          ],
                          [
                            0.3333333333333333,
                            "#9c179e"
                          ],
                          [
                            0.4444444444444444,
                            "#bd3786"
                          ],
                          [
                            0.5555555555555556,
                            "#d8576b"
                          ],
                          [
                            0.6666666666666666,
                            "#ed7953"
                          ],
                          [
                            0.7777777777777778,
                            "#fb9f3a"
                          ],
                          [
                            0.8888888888888888,
                            "#fdca26"
                          ],
                          [
                            1,
                            "#f0f921"
                          ]
                        ],
                        "type": "histogram2d"
                      }
                    ],
                    "histogram2dcontour": [
                      {
                        "colorbar": {
                          "outlinewidth": 0,
                          "ticks": ""
                        },
                        "colorscale": [
                          [
                            0,
                            "#0d0887"
                          ],
                          [
                            0.1111111111111111,
                            "#46039f"
                          ],
                          [
                            0.2222222222222222,
                            "#7201a8"
                          ],
                          [
                            0.3333333333333333,
                            "#9c179e"
                          ],
                          [
                            0.4444444444444444,
                            "#bd3786"
                          ],
                          [
                            0.5555555555555556,
                            "#d8576b"
                          ],
                          [
                            0.6666666666666666,
                            "#ed7953"
                          ],
                          [
                            0.7777777777777778,
                            "#fb9f3a"
                          ],
                          [
                            0.8888888888888888,
                            "#fdca26"
                          ],
                          [
                            1,
                            "#f0f921"
                          ]
                        ],
                        "type": "histogram2dcontour"
                      }
                    ],
                    "mesh3d": [
                      {
                        "colorbar": {
                          "outlinewidth": 0,
                          "ticks": ""
                        },
                        "type": "mesh3d"
                      }
                    ],
                    "parcoords": [
                      {
                        "line": {
                          "colorbar": {
                            "outlinewidth": 0,
                            "ticks": ""
                          }
                        },
                        "type": "parcoords"
                      }
                    ],
                    "pie": [
                      {
                        "automargin": true,
                        "type": "pie"
                      }
                    ],
                    "scatter": [
                      {
                        "fillpattern": {
                          "fillmode": "overlay",
                          "size": 10,
                          "solidity": 0.2
                        },
                        "type": "scatter"
                      }
                    ],
                    "scatter3d": [
                      {
                        "line": {
                          "colorbar": {
                            "outlinewidth": 0,
                            "ticks": ""
                          }
                        },
                        "marker": {
                          "colorbar": {
                            "outlinewidth": 0,
                            "ticks": ""
                          }
                        },
                        "type": "scatter3d"
                      }
                    ],
                    "scattercarpet": [
                      {
                        "marker": {
                          "colorbar": {
                            "outlinewidth": 0,
                            "ticks": ""
                          }
                        },
                        "type": "scattercarpet"
                      }
                    ],
                    "scattergeo": [
                      {
                        "marker": {
                          "colorbar": {
                            "outlinewidth": 0,
                            "ticks": ""
                          }
                        },
                        "type": "scattergeo"
                      }
                    ],
                    "scattergl": [
                      {
                        "marker": {
                          "colorbar": {
                            "outlinewidth": 0,
                            "ticks": ""
                          }
                        },
                        "type": "scattergl"
                      }
                    ],
                    "scattermap": [
                      {
                        "marker": {
                          "colorbar": {
                            "outlinewidth": 0,
                            "ticks": ""
                          }
                        },
                        "type": "scattermap"
                      }
                    ],
                    "scattermapbox": [
                      {
                        "marker": {
                          "colorbar": {
                            "outlinewidth": 0,
                            "ticks": ""
                          }
                        },
                        "type": "scattermapbox"
                      }
                    ],
                    "scatterpolar": [
                      {
                        "marker": {
                          "colorbar": {
                            "outlinewidth": 0,
                            "ticks": ""
                          }
                        },
                        "type": "scatterpolar"
                      }
                    ],
                    "scatterpolargl": [
                      {
                        "marker": {
                          "colorbar": {
                            "outlinewidth": 0,
                            "ticks": ""
                          }
                        },
                        "type": "scatterpolargl"
                      }
                    ],
                    "scatterternary": [
                      {
                        "marker": {
                          "colorbar": {
                            "outlinewidth": 0,
                            "ticks": ""
                          }
                        },
                        "type": "scatterternary"
                      }
                    ],
                    "surface": [
                      {
                        "colorbar": {
                          "outlinewidth": 0,
                          "ticks": ""
                        },
                        "colorscale": [
                          [
                            0,
                            "#0d0887"
                          ],
                          [
                            0.1111111111111111,
                            "#46039f"
                          ],
                          [
                            0.2222222222222222,
                            "#7201a8"
                          ],
                          [
                            0.3333333333333333,
                            "#9c179e"
                          ],
                          [
                            0.4444444444444444,
                            "#bd3786"
                          ],
                          [
                            0.5555555555555556,
                            "#d8576b"
                          ],
                          [
                            0.6666666666666666,
                            "#ed7953"
                          ],
                          [
                            0.7777777777777778,
                            "#fb9f3a"
                          ],
                          [
                            0.8888888888888888,
                            "#fdca26"
                          ],
                          [
                            1,
                            "#f0f921"
                          ]
                        ],
                        "type": "surface"
                      }
                    ],
                    "table": [
                      {
                        "cells": {
                          "fill": {
                            "color": "#EBF0F8"
                          },
                          "line": {
                            "color": "white"
                          }
                        },
                        "header": {
                          "fill": {
                            "color": "#C8D4E3"
                          },
                          "line": {
                            "color": "white"
                          }
                        },
                        "type": "table"
                      }
                    ]
                  },
                  "layout": {
                    "annotationdefaults": {
                      "arrowcolor": "#2a3f5f",
                      "arrowhead": 0,
                      "arrowwidth": 1
                    },
                    "autotypenumbers": "strict",
                    "coloraxis": {
                      "colorbar": {
                        "outlinewidth": 0,
                        "ticks": ""
                      }
                    },
                    "colorscale": {
                      "diverging": [
                        [
                          0,
                          "#8e0152"
                        ],
                        [
                          0.1,
                          "#c51b7d"
                        ],
                        [
                          0.2,
                          "#de77ae"
                        ],
                        [
                          0.3,
                          "#f1b6da"
                        ],
                        [
                          0.4,
                          "#fde0ef"
                        ],
                        [
                          0.5,
                          "#f7f7f7"
                        ],
                        [
                          0.6,
                          "#e6f5d0"
                        ],
                        [
                          0.7,
                          "#b8e186"
                        ],
                        [
                          0.8,
                          "#7fbc41"
                        ],
                        [
                          0.9,
                          "#4d9221"
                        ],
                        [
                          1,
                          "#276419"
                        ]
                      ],
                      "sequential": [
                        [
                          0,
                          "#0d0887"
                        ],
                        [
                          0.1111111111111111,
                          "#46039f"
                        ],
                        [
                          0.2222222222222222,
                          "#7201a8"
                        ],
                        [
                          0.3333333333333333,
                          "#9c179e"
                        ],
                        [
                          0.4444444444444444,
                          "#bd3786"
                        ],
                        [
                          0.5555555555555556,
                          "#d8576b"
                        ],
                        [
                          0.6666666666666666,
                          "#ed7953"
                        ],
                        [
                          0.7777777777777778,
                          "#fb9f3a"
                        ],
                        [
                          0.8888888888888888,
                          "#fdca26"
                        ],
                        [
                          1,
                          "#f0f921"
                        ]
                      ],
                      "sequentialminus": [
                        [
                          0,
                          "#0d0887"
                        ],
                        [
                          0.1111111111111111,
                          "#46039f"
                        ],
                        [
                          0.2222222222222222,
                          "#7201a8"
                        ],
                        [
                          0.3333333333333333,
                          "#9c179e"
                        ],
                        [
                          0.4444444444444444,
                          "#bd3786"
                        ],
                        [
                          0.5555555555555556,
                          "#d8576b"
                        ],
                        [
                          0.6666666666666666,
                          "#ed7953"
                        ],
                        [
                          0.7777777777777778,
                          "#fb9f3a"
                        ],
                        [
                          0.8888888888888888,
                          "#fdca26"
                        ],
                        [
                          1,
                          "#f0f921"
                        ]
                      ]
                    },
                    "colorway": [
                      "#636efa",
                      "#EF553B",
                      "#00cc96",
                      "#ab63fa",
                      "#FFA15A",
                      "#19d3f3",
                      "#FF6692",
                      "#B6E880",
                      "#FF97FF",
                      "#FECB52"
                    ],
                    "font": {
                      "color": "#2a3f5f"
                    },
                    "geo": {
                      "bgcolor": "white",
                      "lakecolor": "white",
                      "landcolor": "#E5ECF6",
                      "showlakes": true,
                      "showland": true,
                      "subunitcolor": "white"
                    },
                    "hoverlabel": {
                      "align": "left"
                    },
                    "hovermode": "closest",
                    "mapbox": {
                      "style": "light"
                    },
                    "paper_bgcolor": "white",
                    "plot_bgcolor": "#E5ECF6",
                    "polar": {
                      "angularaxis": {
                        "gridcolor": "white",
                        "linecolor": "white",
                        "ticks": ""
                      },
                      "bgcolor": "#E5ECF6",
                      "radialaxis": {
                        "gridcolor": "white",
                        "linecolor": "white",
                        "ticks": ""
                      }
                    },
                    "scene": {
                      "xaxis": {
                        "backgroundcolor": "#E5ECF6",
                        "gridcolor": "white",
                        "gridwidth": 2,
                        "linecolor": "white",
                        "showbackground": true,
                        "ticks": "",
                        "zerolinecolor": "white"
                      },
                      "yaxis": {
                        "backgroundcolor": "#E5ECF6",
                        "gridcolor": "white",
                        "gridwidth": 2,
                        "linecolor": "white",
                        "showbackground": true,
                        "ticks": "",
                        "zerolinecolor": "white"
                      },
                      "zaxis": {
                        "backgroundcolor": "#E5ECF6",
                        "gridcolor": "white",
                        "gridwidth": 2,
                        "linecolor": "white",
                        "showbackground": true,
                        "ticks": "",
                        "zerolinecolor": "white"
                      }
                    },
                    "shapedefaults": {
                      "line": {
                        "color": "#2a3f5f"
                      }
                    },
                    "ternary": {
                      "aaxis": {
                        "gridcolor": "white",
                        "linecolor": "white",
                        "ticks": ""
                      },
                      "baxis": {
                        "gridcolor": "white",
                        "linecolor": "white",
                        "ticks": ""
                      },
                      "bgcolor": "#E5ECF6",
                      "caxis": {
                        "gridcolor": "white",
                        "linecolor": "white",
                        "ticks": ""
                      }
                    },
                    "title": {
                      "x": 0.05
                    },
                    "xaxis": {
                      "automargin": true,
                      "gridcolor": "white",
                      "linecolor": "white",
                      "ticks": "",
                      "title": {
                        "standoff": 15
                      },
                      "zerolinecolor": "white",
                      "zerolinewidth": 2
                    },
                    "yaxis": {
                      "automargin": true,
                      "gridcolor": "white",
                      "linecolor": "white",
                      "ticks": "",
                      "title": {
                        "standoff": 15
                      },
                      "zerolinecolor": "white",
                      "zerolinewidth": 2
                    }
                  }
                },
                "title": {
                  "text": "RFM Value Segment Distribution",
                  "x": 0.5
                },
                "xaxis": {
                  "anchor": "y",
                  "categoryarray": [
                    "Low-Value",
                    "Mid-Value",
                    "High-Value"
                  ],
                  "categoryorder": "array",
                  "domain": [
                    0,
                    1
                  ],
                  "title": {
                    "text": "RFM Value Segment"
                  }
                },
                "yaxis": {
                  "anchor": "x",
                  "domain": [
                    0,
                    1
                  ],
                  "title": {
                    "text": "Count"
                  }
                }
              }
            }
          },
          "metadata": {},
          "output_type": "display_data"
        }
      ],
      "source": [
        "# RFM Segment Distribution\n",
        "segment_counts = df['value_segment'].value_counts().reset_index()\n",
        "segment_counts.columns = ['value_segment', 'count']\n",
        "\n",
        "pastel_colors = px.colors.qualitative.Pastel\n",
        "\n",
        "# Bar chart segment distribution\n",
        "fig_segment_dist = px.histogram(segment_counts, x='value_segment', y='count',\n",
        "                          color='value_segment', color_discrete_sequence=pastel_colors,\n",
        "                          title='RFM Value Segment Distribution')\n",
        "\n",
        "# Update the layout\n",
        "fig_segment_dist.update_layout(xaxis_title='RFM Value Segment',\n",
        "                            yaxis_title='Count',\n",
        "                            title_x= 0.5,\n",
        "                            showlegend=False)\n",
        "\n",
        "# Show the figure\n",
        "fig_segment_dist.show()"
      ]
    },
    {
      "cell_type": "code",
      "execution_count": 75,
      "metadata": {},
      "outputs": [
        {
          "data": {
            "image/png": "[encoded data removed]",
            "text/plain": [
              "<Figure size 640x480 with 1 Axes>"
            ]
          },
          "metadata": {},
          "output_type": "display_data"
        }
      ],
      "source": [
        "fig_bar_value = sns.barplot(segment_counts, x='value_segment', y='count')\n",
        "plt.show()"
      ]
    },
    {
      "cell_type": "markdown",
      "metadata": {
        "id": "ansYJNfwj4sX"
      },
      "source": [
        "The first step in RFM analysis is mapping all customers based on their value classification: Low-Value, Mid-Value, and High-Value. The results are quite striking — the majority of current customers are concentrated in the Low-Value segment.<br>\n",
        "\n",
        "This finding offers an initial insight: although the business has successfully reached a large number of customers, only a small portion truly demonstrates loyalty and delivers significant value. In other words, there is growth potential, but it is hidden behind a large number of passive customers. If managed strategically, this group could become a key target for engagement and retention campaigns."
      ]
    },
    {
      "cell_type": "code",
      "execution_count": 66,
      "metadata": {
        "colab": {
          "base_uri": "https://localhost:8080/",
          "height": 542
        },
        "id": "30J4_WTgb_fo",
        "outputId": "2ca99623-bc9d-415e-a0b3-726eb3ef6e78"
      },
      "outputs": [
        {
          "data": {
            "application/vnd.plotly.v1+json": {
              "config": {
                "plotlyServerURL": "https://plot.ly"
              },
              "data": [
                {
                  "bingroup": "x",
                  "histfunc": "sum",
                  "hovertemplate": "value_segment=%{x}<br>sum of monetary=%{y}<extra></extra>",
                  "legendgroup": "Low-Value",
                  "marker": {
                    "color": "rgb(102, 197, 204)",
                    "pattern": {
                      "shape": ""
                    }
                  },
                  "name": "Low-Value",
                  "orientation": "v",
                  "showlegend": true,
                  "type": "histogram",
                  "x": [
                    "Low-Value",
                    "Low-Value",
                    "Low-Value",
                    "Low-Value",
                    "Low-Value",
                    "Low-Value",
                    "Low-Value",
                    "Low-Value",
                    "Low-Value",
                    "Low-Value",
                    "Low-Value",
                    "Low-Value",
                    "Low-Value",
                    "Low-Value",
                    "Low-Value",
                    "Low-Value",
                    "Low-Value",
                    "Low-Value",
                    "Low-Value",
                    "Low-Value",
                    "Low-Value",
                    "Low-Value",
                    "Low-Value",
                    "Low-Value",
                    "Low-Value",
                    "Low-Value",
                    "Low-Value",
                    "Low-Value",
                    "Low-Value",
                    "Low-Value",
                    "Low-Value",
                    "Low-Value",
                    "Low-Value",
                    "Low-Value",
                    "Low-Value",
                    "Low-Value",
                    "Low-Value",
                    "Low-Value",
                    "Low-Value",
                    "Low-Value",
                    "Low-Value",
                    "Low-Value",
                    "Low-Value",
                    "Low-Value",
                    "Low-Value",
                    "Low-Value",
                    "Low-Value",
                    "Low-Value",
                    "Low-Value",
                    "Low-Value",
                    "Low-Value",
                    "Low-Value",
                    "Low-Value",
                    "Low-Value",
                    "Low-Value",
                    "Low-Value",
                    "Low-Value",
                    "Low-Value",
                    "Low-Value",
                    "Low-Value",
                    "Low-Value",
                    "Low-Value",
                    "Low-Value",
                    "Low-Value",
                    "Low-Value",
                    "Low-Value",
                    "Low-Value",
                    "Low-Value",
                    "Low-Value",
                    "Low-Value",
                    "Low-Value",
                    "Low-Value",
                    "Low-Value",
                    "Low-Value",
                    "Low-Value",
                    "Low-Value",
                    "Low-Value",
                    "Low-Value",
                    "Low-Value",
                    "Low-Value",
                    "Low-Value",
                    "Low-Value",
                    "Low-Value",
                    "Low-Value",
                    "Low-Value",
                    "Low-Value",
                    "Low-Value",
                    "Low-Value",
                    "Low-Value",
                    "Low-Value",
                    "Low-Value",
                    "Low-Value",
                    "Low-Value",
                    "Low-Value",
                    "Low-Value",
                    "Low-Value",
                    "Low-Value",
                    "Low-Value",
                    "Low-Value",
                    "Low-Value",
                    "Low-Value",
                    "Low-Value",
                    "Low-Value",
                    "Low-Value",
                    "Low-Value",
                    "Low-Value",
                    "Low-Value",
                    "Low-Value",
                    "Low-Value",
                    "Low-Value",
                    "Low-Value",
                    "Low-Value",
                    "Low-Value",
                    "Low-Value",
                    "Low-Value",
                    "Low-Value",
                    "Low-Value",
                    "Low-Value",
                    "Low-Value",
                    "Low-Value",
                    "Low-Value",
                    "Low-Value",
                    "Low-Value",
                    "Low-Value",
                    "Low-Value",
                    "Low-Value",
                    "Low-Value",
                    "Low-Value",
                    "Low-Value",
                    "Low-Value",
                    "Low-Value",
                    "Low-Value",
                    "Low-Value",
                    "Low-Value",
                    "Low-Value",
                    "Low-Value",
                    "Low-Value",
                    "Low-Value",
                    "Low-Value",
                    "Low-Value",
                    "Low-Value",
                    "Low-Value",
                    "Low-Value",
                    "Low-Value",
                    "Low-Value",
                    "Low-Value",
                    "Low-Value",
                    "Low-Value",
                    "Low-Value",
                    "Low-Value",
                    "Low-Value",
                    "Low-Value",
                    "Low-Value",
                    "Low-Value",
                    "Low-Value",
                    "Low-Value",
                    "Low-Value",
                    "Low-Value",
                    "Low-Value",
                    "Low-Value",
                    "Low-Value",
                    "Low-Value",
                    "Low-Value",
                    "Low-Value",
                    "Low-Value",
                    "Low-Value",
                    "Low-Value",
                    "Low-Value",
                    "Low-Value",
                    "Low-Value",
                    "Low-Value",
                    "Low-Value",
                    "Low-Value",
                    "Low-Value",
                    "Low-Value",
                    "Low-Value",
                    "Low-Value",
                    "Low-Value",
                    "Low-Value",
                    "Low-Value",
                    "Low-Value",
                    "Low-Value",
                    "Low-Value",
                    "Low-Value",
                    "Low-Value",
                    "Low-Value",
                    "Low-Value",
                    "Low-Value",
                    "Low-Value",
                    "Low-Value",
                    "Low-Value",
                    "Low-Value",
                    "Low-Value",
                    "Low-Value",
                    "Low-Value",
                    "Low-Value",
                    "Low-Value",
                    "Low-Value",
                    "Low-Value",
                    "Low-Value",
                    "Low-Value",
                    "Low-Value",
                    "Low-Value",
                    "Low-Value",
                    "Low-Value",
                    "Low-Value",
                    "Low-Value",
                    "Low-Value",
                    "Low-Value",
                    "Low-Value",
                    "Low-Value",
                    "Low-Value",
                    "Low-Value",
                    "Low-Value",
                    "Low-Value",
                    "Low-Value",
                    "Low-Value",
                    "Low-Value",
                    "Low-Value",
                    "Low-Value",
                    "Low-Value",
                    "Low-Value",
                    "Low-Value",
                    "Low-Value",
                    "Low-Value",
                    "Low-Value",
                    "Low-Value",
                    "Low-Value",
                    "Low-Value",
                    "Low-Value",
                    "Low-Value",
                    "Low-Value",
                    "Low-Value",
                    "Low-Value",
                    "Low-Value",
                    "Low-Value",
                    "Low-Value",
                    "Low-Value",
                    "Low-Value",
                    "Low-Value",
                    "Low-Value",
                    "Low-Value",
                    "Low-Value",
                    "Low-Value",
                    "Low-Value",
                    "Low-Value",
                    "Low-Value",
                    "Low-Value",
                    "Low-Value",
                    "Low-Value",
                    "Low-Value",
                    "Low-Value",
                    "Low-Value",
                    "Low-Value",
                    "Low-Value",
                    "Low-Value",
                    "Low-Value",
                    "Low-Value",
                    "Low-Value",
                    "Low-Value",
                    "Low-Value",
                    "Low-Value",
                    "Low-Value",
                    "Low-Value",
                    "Low-Value",
                    "Low-Value",
                    "Low-Value",
                    "Low-Value",
                    "Low-Value",
                    "Low-Value",
                    "Low-Value",
                    "Low-Value",
                    "Low-Value",
                    "Low-Value",
                    "Low-Value",
                    "Low-Value",
                    "Low-Value",
                    "Low-Value",
                    "Low-Value",
                    "Low-Value",
                    "Low-Value",
                    "Low-Value",
                    "Low-Value",
                    "Low-Value",
                    "Low-Value",
                    "Low-Value",
                    "Low-Value",
                    "Low-Value",
                    "Low-Value",
                    "Low-Value",
                    "Low-Value",
                    "Low-Value",
                    "Low-Value",
                    "Low-Value",
                    "Low-Value",
                    "Low-Value",
                    "Low-Value",
                    "Low-Value",
                    "Low-Value",
                    "Low-Value",
                    "Low-Value",
                    "Low-Value",
                    "Low-Value",
                    "Low-Value",
                    "Low-Value",
                    "Low-Value",
                    "Low-Value",
                    "Low-Value",
                    "Low-Value",
                    "Low-Value",
                    "Low-Value",
                    "Low-Value",
                    "Low-Value",
                    "Low-Value",
                    "Low-Value",
                    "Low-Value",
                    "Low-Value",
                    "Low-Value",
                    "Low-Value",
                    "Low-Value",
                    "Low-Value",
                    "Low-Value",
                    "Low-Value",
                    "Low-Value",
                    "Low-Value",
                    "Low-Value",
                    "Low-Value",
                    "Low-Value",
                    "Low-Value",
                    "Low-Value",
                    "Low-Value",
                    "Low-Value",
                    "Low-Value",
                    "Low-Value",
                    "Low-Value",
                    "Low-Value",
                    "Low-Value",
                    "Low-Value",
                    "Low-Value",
                    "Low-Value",
                    "Low-Value",
                    "Low-Value",
                    "Low-Value",
                    "Low-Value",
                    "Low-Value",
                    "Low-Value",
                    "Low-Value",
                    "Low-Value",
                    "Low-Value",
                    "Low-Value",
                    "Low-Value",
                    "Low-Value",
                    "Low-Value",
                    "Low-Value",
                    "Low-Value",
                    "Low-Value",
                    "Low-Value",
                    "Low-Value",
                    "Low-Value",
                    "Low-Value",
                    "Low-Value",
                    "Low-Value",
                    "Low-Value",
                    "Low-Value",
                    "Low-Value",
                    "Low-Value",
                    "Low-Value",
                    "Low-Value",
                    "Low-Value",
                    "Low-Value",
                    "Low-Value",
                    "Low-Value",
                    "Low-Value",
                    "Low-Value",
                    "Low-Value",
                    "Low-Value",
                    "Low-Value",
                    "Low-Value",
                    "Low-Value",
                    "Low-Value",
                    "Low-Value",
                    "Low-Value",
                    "Low-Value",
                    "Low-Value",
                    "Low-Value",
                    "Low-Value",
                    "Low-Value",
                    "Low-Value",
                    "Low-Value",
                    "Low-Value",
                    "Low-Value",
                    "Low-Value",
                    "Low-Value",
                    "Low-Value",
                    "Low-Value",
                    "Low-Value",
                    "Low-Value",
                    "Low-Value",
                    "Low-Value",
                    "Low-Value",
                    "Low-Value",
                    "Low-Value",
                    "Low-Value"
                  ],
                  "xaxis": "x",
                  "y": {
                    "bdata": "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",
                    "dtype": "i4"
                  },
                  "yaxis": "y"
                },
                {
                  "bingroup": "x",
                  "histfunc": "sum",
                  "hovertemplate": "value_segment=%{x}<br>sum of monetary=%{y}<extra></extra>",
                  "legendgroup": "Mid-Value",
                  "marker": {
                    "color": "rgb(246, 207, 113)",
                    "pattern": {
                      "shape": ""
                    }
                  },
                  "name": "Mid-Value",
                  "orientation": "v",
                  "showlegend": true,
                  "type": "histogram",
                  "x": [
                    "Mid-Value",
                    "Mid-Value",
                    "Mid-Value",
                    "Mid-Value",
                    "Mid-Value",
                    "Mid-Value",
                    "Mid-Value",
                    "Mid-Value",
                    "Mid-Value",
                    "Mid-Value",
                    "Mid-Value",
                    "Mid-Value",
                    "Mid-Value",
                    "Mid-Value",
                    "Mid-Value",
                    "Mid-Value",
                    "Mid-Value",
                    "Mid-Value",
                    "Mid-Value",
                    "Mid-Value",
                    "Mid-Value",
                    "Mid-Value",
                    "Mid-Value",
                    "Mid-Value",
                    "Mid-Value",
                    "Mid-Value",
                    "Mid-Value",
                    "Mid-Value",
                    "Mid-Value",
                    "Mid-Value",
                    "Mid-Value",
                    "Mid-Value",
                    "Mid-Value",
                    "Mid-Value",
                    "Mid-Value",
                    "Mid-Value",
                    "Mid-Value",
                    "Mid-Value",
                    "Mid-Value",
                    "Mid-Value",
                    "Mid-Value",
                    "Mid-Value",
                    "Mid-Value",
                    "Mid-Value",
                    "Mid-Value",
                    "Mid-Value",
                    "Mid-Value",
                    "Mid-Value",
                    "Mid-Value",
                    "Mid-Value",
                    "Mid-Value",
                    "Mid-Value",
                    "Mid-Value",
                    "Mid-Value",
                    "Mid-Value",
                    "Mid-Value",
                    "Mid-Value",
                    "Mid-Value",
                    "Mid-Value",
                    "Mid-Value",
                    "Mid-Value",
                    "Mid-Value",
                    "Mid-Value",
                    "Mid-Value",
                    "Mid-Value",
                    "Mid-Value",
                    "Mid-Value",
                    "Mid-Value",
                    "Mid-Value",
                    "Mid-Value",
                    "Mid-Value",
                    "Mid-Value",
                    "Mid-Value",
                    "Mid-Value",
                    "Mid-Value",
                    "Mid-Value",
                    "Mid-Value",
                    "Mid-Value",
                    "Mid-Value",
                    "Mid-Value",
                    "Mid-Value",
                    "Mid-Value",
                    "Mid-Value",
                    "Mid-Value",
                    "Mid-Value",
                    "Mid-Value",
                    "Mid-Value",
                    "Mid-Value",
                    "Mid-Value",
                    "Mid-Value",
                    "Mid-Value",
                    "Mid-Value",
                    "Mid-Value",
                    "Mid-Value",
                    "Mid-Value",
                    "Mid-Value",
                    "Mid-Value",
                    "Mid-Value",
                    "Mid-Value",
                    "Mid-Value",
                    "Mid-Value",
                    "Mid-Value",
                    "Mid-Value",
                    "Mid-Value",
                    "Mid-Value",
                    "Mid-Value",
                    "Mid-Value",
                    "Mid-Value",
                    "Mid-Value",
                    "Mid-Value",
                    "Mid-Value",
                    "Mid-Value",
                    "Mid-Value",
                    "Mid-Value",
                    "Mid-Value",
                    "Mid-Value",
                    "Mid-Value",
                    "Mid-Value",
                    "Mid-Value",
                    "Mid-Value",
                    "Mid-Value",
                    "Mid-Value",
                    "Mid-Value",
                    "Mid-Value",
                    "Mid-Value",
                    "Mid-Value",
                    "Mid-Value",
                    "Mid-Value",
                    "Mid-Value",
                    "Mid-Value",
                    "Mid-Value",
                    "Mid-Value",
                    "Mid-Value",
                    "Mid-Value",
                    "Mid-Value",
                    "Mid-Value",
                    "Mid-Value",
                    "Mid-Value",
                    "Mid-Value",
                    "Mid-Value",
                    "Mid-Value",
                    "Mid-Value",
                    "Mid-Value",
                    "Mid-Value",
                    "Mid-Value",
                    "Mid-Value",
                    "Mid-Value",
                    "Mid-Value",
                    "Mid-Value",
                    "Mid-Value",
                    "Mid-Value",
                    "Mid-Value",
                    "Mid-Value",
                    "Mid-Value",
                    "Mid-Value",
                    "Mid-Value",
                    "Mid-Value",
                    "Mid-Value",
                    "Mid-Value",
                    "Mid-Value",
                    "Mid-Value",
                    "Mid-Value",
                    "Mid-Value",
                    "Mid-Value",
                    "Mid-Value",
                    "Mid-Value",
                    "Mid-Value",
                    "Mid-Value",
                    "Mid-Value",
                    "Mid-Value",
                    "Mid-Value",
                    "Mid-Value",
                    "Mid-Value",
                    "Mid-Value",
                    "Mid-Value",
                    "Mid-Value",
                    "Mid-Value",
                    "Mid-Value",
                    "Mid-Value",
                    "Mid-Value",
                    "Mid-Value",
                    "Mid-Value",
                    "Mid-Value",
                    "Mid-Value",
                    "Mid-Value",
                    "Mid-Value",
                    "Mid-Value",
                    "Mid-Value",
                    "Mid-Value",
                    "Mid-Value",
                    "Mid-Value",
                    "Mid-Value",
                    "Mid-Value",
                    "Mid-Value",
                    "Mid-Value",
                    "Mid-Value",
                    "Mid-Value",
                    "Mid-Value",
                    "Mid-Value",
                    "Mid-Value",
                    "Mid-Value",
                    "Mid-Value",
                    "Mid-Value",
                    "Mid-Value",
                    "Mid-Value",
                    "Mid-Value",
                    "Mid-Value",
                    "Mid-Value",
                    "Mid-Value",
                    "Mid-Value",
                    "Mid-Value",
                    "Mid-Value",
                    "Mid-Value",
                    "Mid-Value",
                    "Mid-Value",
                    "Mid-Value",
                    "Mid-Value",
                    "Mid-Value",
                    "Mid-Value",
                    "Mid-Value",
                    "Mid-Value",
                    "Mid-Value",
                    "Mid-Value",
                    "Mid-Value",
                    "Mid-Value",
                    "Mid-Value",
                    "Mid-Value",
                    "Mid-Value",
                    "Mid-Value",
                    "Mid-Value",
                    "Mid-Value",
                    "Mid-Value",
                    "Mid-Value",
                    "Mid-Value",
                    "Mid-Value",
                    "Mid-Value",
                    "Mid-Value",
                    "Mid-Value",
                    "Mid-Value",
                    "Mid-Value",
                    "Mid-Value",
                    "Mid-Value",
                    "Mid-Value",
                    "Mid-Value",
                    "Mid-Value",
                    "Mid-Value",
                    "Mid-Value",
                    "Mid-Value",
                    "Mid-Value",
                    "Mid-Value",
                    "Mid-Value",
                    "Mid-Value",
                    "Mid-Value",
                    "Mid-Value",
                    "Mid-Value",
                    "Mid-Value",
                    "Mid-Value",
                    "Mid-Value",
                    "Mid-Value",
                    "Mid-Value",
                    "Mid-Value",
                    "Mid-Value",
                    "Mid-Value",
                    "Mid-Value",
                    "Mid-Value",
                    "Mid-Value",
                    "Mid-Value",
                    "Mid-Value",
                    "Mid-Value",
                    "Mid-Value",
                    "Mid-Value",
                    "Mid-Value",
                    "Mid-Value",
                    "Mid-Value",
                    "Mid-Value",
                    "Mid-Value",
                    "Mid-Value",
                    "Mid-Value",
                    "Mid-Value",
                    "Mid-Value"
                  ],
                  "xaxis": "x",
                  "y": {
                    "bdata": "OOg5APzHQAD8x0AA+LVRALRKQgAstS0AkGotACy1LQC0SkIAyK0qALgJKgAstS0AZEciADjoOQDQUjIAZEciAOhOMgBkRyIAeAVkAACAPgAAgD4AeAVkAOhOMgAIDUoAcG8bANzbBgA0GhYAPFUFALBHEgCwRxIAuLcNANSgFwBwbxsA+MQQAFDOEwCo1xYAuLcNANzbBgDEhBEAlO0eADSaCQCAdBAAREwQALi3DQDoIBAASGYGACw5GAA8VQUAlF4IALgzCgBU5BIAtIY4ADSaCQD8ViUASGYGAAQDFwC4tw0AuLcNACCCIQD4xBAASGYGANzbBgB0oxUAuLcNALi3DQBocAkAeK4aAEhmBgDobBQAZAsTABgxDAAYMQwASGYGAGhwCQDEhBEASGYGADSaCQBgyxoAYMsaANR6LgAEkhQAuLcNALi3DQDIrSoArAAXADxVBQAYMQwAsEcSABD2HABYPg8AyK0qACguEwAgrBoAtP8PAHiqCgB8YggAAEsyANzbBgAg7DkAAEsyALi3DQDc2wYA3NsGANRrCwD4xBAA+MQQALBHEgDsZwsA+MQQABhxKwAQ9hwAqIkjAOggEADwVBUAOJ0HALi3DQC4tw0AsHweABD2HAAQwRAAsHweALi3DQC4tw0AdDIsALi3DQAQ9hwAeKoKAPQMEwCgnCcAEN8kADBiGABQzhMAMGIYAFDOEwDg5SAA4OUgALi3DQBwOg8AuLcNAHBvGwC4tw0AuLcNACC+FwCQ2xYA3NsGAJTIIABwqxEAcDoPAHBvGwB4qgoA8JALADBiGADwVBUA6OQZAHiqCgC4tw0AeKoKAHiqCgAQwRAAUM4TAMi0FAB4qgoA8FQVAFDOEwDo5BkA3NsGABD2HACAJRkAuLcNALT/DwAQ9hwAcG8bALB8HgCwfB4AsEcSANzbBgB4qgoA8FQVAHiqCgB4qgoAEPYcAHj8JgDwVBUAuLcNAPBUFQCwfB4A9AwTAJDbFgDYWBUAuLcNAOgOEwC4tw0AIIIhADTlCQD4xBAAEPYcAISoCgC4tw0A+MQQADxVBQBwbxsAeKoKAHiqCgCo1xYAPFUFANzbBgDc2wYA3NsGALi3DQCUkxQA3NsGAJAQIwA4qBoA8FQVAPjEEACUkxQAuLcNAKCcJwCMGAYA8FQVAOBeEQAsnwcA8FQVAKiEDwB4qgoACDsIAHiqCgBIZgYA8B8JAHTyDADYWBUAcDoPADxVBQCMGAYAyA8KANzbBgC4tw0A3NsGALi3DQCwRxIAyA8KAOB0HgB4qgoAuLcNAPAfCQAIOwgAuLcNAKDCEAC4tw0A3NsGABgxDACMGAYASGYGAEhmBgCwRxIAuLcNAPBUFQAArREAPFUFANzbBgBoJQkAWBQWAMCBEwDc2wYAjBgGAJgWHwAsnwcAjBgGANzbBgD0DBMA3NsGAKhQBwA40hMA7M0TAPQMEwC4tw0AkNsWAMgPCgBIZgYAuLcNAA==",
                    "dtype": "i4"
                  },
                  "yaxis": "y"
                },
                {
                  "bingroup": "x",
                  "histfunc": "sum",
                  "hovertemplate": "value_segment=%{x}<br>sum of monetary=%{y}<extra></extra>",
                  "legendgroup": "High-Value",
                  "marker": {
                    "color": "rgb(248, 156, 116)",
                    "pattern": {
                      "shape": ""
                    }
                  },
                  "name": "High-Value",
                  "orientation": "v",
                  "showlegend": true,
                  "type": "histogram",
                  "x": [
                    "High-Value",
                    "High-Value",
                    "High-Value",
                    "High-Value",
                    "High-Value",
                    "High-Value",
                    "High-Value",
                    "High-Value",
                    "High-Value",
                    "High-Value",
                    "High-Value",
                    "High-Value",
                    "High-Value",
                    "High-Value",
                    "High-Value",
                    "High-Value",
                    "High-Value",
                    "High-Value",
                    "High-Value",
                    "High-Value",
                    "High-Value",
                    "High-Value",
                    "High-Value",
                    "High-Value",
                    "High-Value",
                    "High-Value",
                    "High-Value",
                    "High-Value",
                    "High-Value",
                    "High-Value",
                    "High-Value",
                    "High-Value",
                    "High-Value",
                    "High-Value",
                    "High-Value",
                    "High-Value",
                    "High-Value",
                    "High-Value",
                    "High-Value",
                    "High-Value",
                    "High-Value",
                    "High-Value",
                    "High-Value",
                    "High-Value",
                    "High-Value",
                    "High-Value",
                    "High-Value",
                    "High-Value",
                    "High-Value",
                    "High-Value",
                    "High-Value",
                    "High-Value",
                    "High-Value",
                    "High-Value",
                    "High-Value",
                    "High-Value",
                    "High-Value",
                    "High-Value",
                    "High-Value",
                    "High-Value",
                    "High-Value",
                    "High-Value",
                    "High-Value",
                    "High-Value",
                    "High-Value",
                    "High-Value",
                    "High-Value",
                    "High-Value",
                    "High-Value",
                    "High-Value",
                    "High-Value",
                    "High-Value",
                    "High-Value",
                    "High-Value",
                    "High-Value",
                    "High-Value",
                    "High-Value",
                    "High-Value",
                    "High-Value",
                    "High-Value",
                    "High-Value",
                    "High-Value",
                    "High-Value",
                    "High-Value",
                    "High-Value",
                    "High-Value",
                    "High-Value",
                    "High-Value",
                    "High-Value",
                    "High-Value",
                    "High-Value",
                    "High-Value",
                    "High-Value",
                    "High-Value",
                    "High-Value",
                    "High-Value",
                    "High-Value",
                    "High-Value",
                    "High-Value",
                    "High-Value",
                    "High-Value",
                    "High-Value",
                    "High-Value",
                    "High-Value",
                    "High-Value",
                    "High-Value",
                    "High-Value",
                    "High-Value",
                    "High-Value",
                    "High-Value",
                    "High-Value",
                    "High-Value",
                    "High-Value",
                    "High-Value",
                    "High-Value",
                    "High-Value",
                    "High-Value",
                    "High-Value",
                    "High-Value",
                    "High-Value",
                    "High-Value",
                    "High-Value",
                    "High-Value",
                    "High-Value",
                    "High-Value",
                    "High-Value",
                    "High-Value",
                    "High-Value",
                    "High-Value",
                    "High-Value",
                    "High-Value",
                    "High-Value",
                    "High-Value",
                    "High-Value",
                    "High-Value",
                    "High-Value",
                    "High-Value",
                    "High-Value",
                    "High-Value",
                    "High-Value",
                    "High-Value",
                    "High-Value",
                    "High-Value",
                    "High-Value",
                    "High-Value",
                    "High-Value",
                    "High-Value",
                    "High-Value",
                    "High-Value",
                    "High-Value",
                    "High-Value",
                    "High-Value",
                    "High-Value",
                    "High-Value"
                  ],
                  "xaxis": "x",
                  "y": {
                    "bdata": "GE1KABhNSgBUmsUAGE1KAFSaxQC8pJQAvKSUAHBQNQDor4oAvKSUAFSaxQCQai0AcFA1APzHQAAYTUoAcFA1AMitKgDUei4AaDQsAHBQNQD4tVEAGE1KABDfJADg3jYAlFpDAOCpKgDgqSoA5IYmAOSGJgCUWkMAkGotALRKQgCUWkMAeP0qAFSaxQAIOwgAONITAPQMEwDwzAEAaCUJALi3DQBQzhMAsEcSAHA6DwC4tw0AuLcNAMS1DQBwOg8A8FQVAPjEEACwRxIAuLcNALi3DQDc2wYAuLcNAFDOEwDc2wYAuLcNAGglCQB4/SoANE8iAIwYBgCkfh4ApEkSAOB0HgCMGAYAuLcNAEArFwBA9goAxLUNAETQEwAYMQwA3NsGALBHEgCoUAcAWBQWALBHEgDc2wYA3NsGADwrDABwbxsAlF4IANzbBgBIZgYAPFUFAHA6DwBoswIAuLcNAPxHAgCMGAYAOJ0HAHiqCgA4qBoAkNsWANzbBgCMGAYAuLcNAODtDgAIOwgA+MQQADTlCQAwYhgAUAMgAGAIFQDg7Q4A1KAXAHiqCgDc2wYA3NsGAFSaxQD4xBAA2N89ALBHEgB4qgoAxLUNADidBwB4qgoA5IYmAEhmBgCk6xAAIKEHANzbBgCgFRgAZDwPANhYFQDc2wYAMGIYAOBeEQAYcSsAmHJKAJReCAC4tw0A4N42ADxVBQBIZgYASGYGANzbBgB8YggAOOg5AED2CgAQ9hwAjBgGAOivigDor4oA6K+KAOivigDor4oAyA8KAEDYDwAgig8AlO0eAADLDAAIDUoAuLcNAA==",
                    "dtype": "i4"
                  },
                  "yaxis": "y"
                }
              ],
              "layout": {
                "barmode": "relative",
                "legend": {
                  "title": {
                    "text": "value_segment"
                  },
                  "tracegroupgap": 0
                },
                "showlegend": false,
                "template": {
                  "data": {
                    "bar": [
                      {
                        "error_x": {
                          "color": "#2a3f5f"
                        },
                        "error_y": {
                          "color": "#2a3f5f"
                        },
                        "marker": {
                          "line": {
                            "color": "#E5ECF6",
                            "width": 0.5
                          },
                          "pattern": {
                            "fillmode": "overlay",
                            "size": 10,
                            "solidity": 0.2
                          }
                        },
                        "type": "bar"
                      }
                    ],
                    "barpolar": [
                      {
                        "marker": {
                          "line": {
                            "color": "#E5ECF6",
                            "width": 0.5
                          },
                          "pattern": {
                            "fillmode": "overlay",
                            "size": 10,
                            "solidity": 0.2
                          }
                        },
                        "type": "barpolar"
                      }
                    ],
                    "carpet": [
                      {
                        "aaxis": {
                          "endlinecolor": "#2a3f5f",
                          "gridcolor": "white",
                          "linecolor": "white",
                          "minorgridcolor": "white",
                          "startlinecolor": "#2a3f5f"
                        },
                        "baxis": {
                          "endlinecolor": "#2a3f5f",
                          "gridcolor": "white",
                          "linecolor": "white",
                          "minorgridcolor": "white",
                          "startlinecolor": "#2a3f5f"
                        },
                        "type": "carpet"
                      }
                    ],
                    "choropleth": [
                      {
                        "colorbar": {
                          "outlinewidth": 0,
                          "ticks": ""
                        },
                        "type": "choropleth"
                      }
                    ],
                    "contour": [
                      {
                        "colorbar": {
                          "outlinewidth": 0,
                          "ticks": ""
                        },
                        "colorscale": [
                          [
                            0,
                            "#0d0887"
                          ],
                          [
                            0.1111111111111111,
                            "#46039f"
                          ],
                          [
                            0.2222222222222222,
                            "#7201a8"
                          ],
                          [
                            0.3333333333333333,
                            "#9c179e"
                          ],
                          [
                            0.4444444444444444,
                            "#bd3786"
                          ],
                          [
                            0.5555555555555556,
                            "#d8576b"
                          ],
                          [
                            0.6666666666666666,
                            "#ed7953"
                          ],
                          [
                            0.7777777777777778,
                            "#fb9f3a"
                          ],
                          [
                            0.8888888888888888,
                            "#fdca26"
                          ],
                          [
                            1,
                            "#f0f921"
                          ]
                        ],
                        "type": "contour"
                      }
                    ],
                    "contourcarpet": [
                      {
                        "colorbar": {
                          "outlinewidth": 0,
                          "ticks": ""
                        },
                        "type": "contourcarpet"
                      }
                    ],
                    "heatmap": [
                      {
                        "colorbar": {
                          "outlinewidth": 0,
                          "ticks": ""
                        },
                        "colorscale": [
                          [
                            0,
                            "#0d0887"
                          ],
                          [
                            0.1111111111111111,
                            "#46039f"
                          ],
                          [
                            0.2222222222222222,
                            "#7201a8"
                          ],
                          [
                            0.3333333333333333,
                            "#9c179e"
                          ],
                          [
                            0.4444444444444444,
                            "#bd3786"
                          ],
                          [
                            0.5555555555555556,
                            "#d8576b"
                          ],
                          [
                            0.6666666666666666,
                            "#ed7953"
                          ],
                          [
                            0.7777777777777778,
                            "#fb9f3a"
                          ],
                          [
                            0.8888888888888888,
                            "#fdca26"
                          ],
                          [
                            1,
                            "#f0f921"
                          ]
                        ],
                        "type": "heatmap"
                      }
                    ],
                    "histogram": [
                      {
                        "marker": {
                          "pattern": {
                            "fillmode": "overlay",
                            "size": 10,
                            "solidity": 0.2
                          }
                        },
                        "type": "histogram"
                      }
                    ],
                    "histogram2d": [
                      {
                        "colorbar": {
                          "outlinewidth": 0,
                          "ticks": ""
                        },
                        "colorscale": [
                          [
                            0,
                            "#0d0887"
                          ],
                          [
                            0.1111111111111111,
                            "#46039f"
                          ],
                          [
                            0.2222222222222222,
                            "#7201a8"
                          ],
                          [
                            0.3333333333333333,
                            "#9c179e"
                          ],
                          [
                            0.4444444444444444,
                            "#bd3786"
                          ],
                          [
                            0.5555555555555556,
                            "#d8576b"
                          ],
                          [
                            0.6666666666666666,
                            "#ed7953"
                          ],
                          [
                            0.7777777777777778,
                            "#fb9f3a"
                          ],
                          [
                            0.8888888888888888,
                            "#fdca26"
                          ],
                          [
                            1,
                            "#f0f921"
                          ]
                        ],
                        "type": "histogram2d"
                      }
                    ],
                    "histogram2dcontour": [
                      {
                        "colorbar": {
                          "outlinewidth": 0,
                          "ticks": ""
                        },
                        "colorscale": [
                          [
                            0,
                            "#0d0887"
                          ],
                          [
                            0.1111111111111111,
                            "#46039f"
                          ],
                          [
                            0.2222222222222222,
                            "#7201a8"
                          ],
                          [
                            0.3333333333333333,
                            "#9c179e"
                          ],
                          [
                            0.4444444444444444,
                            "#bd3786"
                          ],
                          [
                            0.5555555555555556,
                            "#d8576b"
                          ],
                          [
                            0.6666666666666666,
                            "#ed7953"
                          ],
                          [
                            0.7777777777777778,
                            "#fb9f3a"
                          ],
                          [
                            0.8888888888888888,
                            "#fdca26"
                          ],
                          [
                            1,
                            "#f0f921"
                          ]
                        ],
                        "type": "histogram2dcontour"
                      }
                    ],
                    "mesh3d": [
                      {
                        "colorbar": {
                          "outlinewidth": 0,
                          "ticks": ""
                        },
                        "type": "mesh3d"
                      }
                    ],
                    "parcoords": [
                      {
                        "line": {
                          "colorbar": {
                            "outlinewidth": 0,
                            "ticks": ""
                          }
                        },
                        "type": "parcoords"
                      }
                    ],
                    "pie": [
                      {
                        "automargin": true,
                        "type": "pie"
                      }
                    ],
                    "scatter": [
                      {
                        "fillpattern": {
                          "fillmode": "overlay",
                          "size": 10,
                          "solidity": 0.2
                        },
                        "type": "scatter"
                      }
                    ],
                    "scatter3d": [
                      {
                        "line": {
                          "colorbar": {
                            "outlinewidth": 0,
                            "ticks": ""
                          }
                        },
                        "marker": {
                          "colorbar": {
                            "outlinewidth": 0,
                            "ticks": ""
                          }
                        },
                        "type": "scatter3d"
                      }
                    ],
                    "scattercarpet": [
                      {
                        "marker": {
                          "colorbar": {
                            "outlinewidth": 0,
                            "ticks": ""
                          }
                        },
                        "type": "scattercarpet"
                      }
                    ],
                    "scattergeo": [
                      {
                        "marker": {
                          "colorbar": {
                            "outlinewidth": 0,
                            "ticks": ""
                          }
                        },
                        "type": "scattergeo"
                      }
                    ],
                    "scattergl": [
                      {
                        "marker": {
                          "colorbar": {
                            "outlinewidth": 0,
                            "ticks": ""
                          }
                        },
                        "type": "scattergl"
                      }
                    ],
                    "scattermap": [
                      {
                        "marker": {
                          "colorbar": {
                            "outlinewidth": 0,
                            "ticks": ""
                          }
                        },
                        "type": "scattermap"
                      }
                    ],
                    "scattermapbox": [
                      {
                        "marker": {
                          "colorbar": {
                            "outlinewidth": 0,
                            "ticks": ""
                          }
                        },
                        "type": "scattermapbox"
                      }
                    ],
                    "scatterpolar": [
                      {
                        "marker": {
                          "colorbar": {
                            "outlinewidth": 0,
                            "ticks": ""
                          }
                        },
                        "type": "scatterpolar"
                      }
                    ],
                    "scatterpolargl": [
                      {
                        "marker": {
                          "colorbar": {
                            "outlinewidth": 0,
                            "ticks": ""
                          }
                        },
                        "type": "scatterpolargl"
                      }
                    ],
                    "scatterternary": [
                      {
                        "marker": {
                          "colorbar": {
                            "outlinewidth": 0,
                            "ticks": ""
                          }
                        },
                        "type": "scatterternary"
                      }
                    ],
                    "surface": [
                      {
                        "colorbar": {
                          "outlinewidth": 0,
                          "ticks": ""
                        },
                        "colorscale": [
                          [
                            0,
                            "#0d0887"
                          ],
                          [
                            0.1111111111111111,
                            "#46039f"
                          ],
                          [
                            0.2222222222222222,
                            "#7201a8"
                          ],
                          [
                            0.3333333333333333,
                            "#9c179e"
                          ],
                          [
                            0.4444444444444444,
                            "#bd3786"
                          ],
                          [
                            0.5555555555555556,
                            "#d8576b"
                          ],
                          [
                            0.6666666666666666,
                            "#ed7953"
                          ],
                          [
                            0.7777777777777778,
                            "#fb9f3a"
                          ],
                          [
                            0.8888888888888888,
                            "#fdca26"
                          ],
                          [
                            1,
                            "#f0f921"
                          ]
                        ],
                        "type": "surface"
                      }
                    ],
                    "table": [
                      {
                        "cells": {
                          "fill": {
                            "color": "#EBF0F8"
                          },
                          "line": {
                            "color": "white"
                          }
                        },
                        "header": {
                          "fill": {
                            "color": "#C8D4E3"
                          },
                          "line": {
                            "color": "white"
                          }
                        },
                        "type": "table"
                      }
                    ]
                  },
                  "layout": {
                    "annotationdefaults": {
                      "arrowcolor": "#2a3f5f",
                      "arrowhead": 0,
                      "arrowwidth": 1
                    },
                    "autotypenumbers": "strict",
                    "coloraxis": {
                      "colorbar": {
                        "outlinewidth": 0,
                        "ticks": ""
                      }
                    },
                    "colorscale": {
                      "diverging": [
                        [
                          0,
                          "#8e0152"
                        ],
                        [
                          0.1,
                          "#c51b7d"
                        ],
                        [
                          0.2,
                          "#de77ae"
                        ],
                        [
                          0.3,
                          "#f1b6da"
                        ],
                        [
                          0.4,
                          "#fde0ef"
                        ],
                        [
                          0.5,
                          "#f7f7f7"
                        ],
                        [
                          0.6,
                          "#e6f5d0"
                        ],
                        [
                          0.7,
                          "#b8e186"
                        ],
                        [
                          0.8,
                          "#7fbc41"
                        ],
                        [
                          0.9,
                          "#4d9221"
                        ],
                        [
                          1,
                          "#276419"
                        ]
                      ],
                      "sequential": [
                        [
                          0,
                          "#0d0887"
                        ],
                        [
                          0.1111111111111111,
                          "#46039f"
                        ],
                        [
                          0.2222222222222222,
                          "#7201a8"
                        ],
                        [
                          0.3333333333333333,
                          "#9c179e"
                        ],
                        [
                          0.4444444444444444,
                          "#bd3786"
                        ],
                        [
                          0.5555555555555556,
                          "#d8576b"
                        ],
                        [
                          0.6666666666666666,
                          "#ed7953"
                        ],
                        [
                          0.7777777777777778,
                          "#fb9f3a"
                        ],
                        [
                          0.8888888888888888,
                          "#fdca26"
                        ],
                        [
                          1,
                          "#f0f921"
                        ]
                      ],
                      "sequentialminus": [
                        [
                          0,
                          "#0d0887"
                        ],
                        [
                          0.1111111111111111,
                          "#46039f"
                        ],
                        [
                          0.2222222222222222,
                          "#7201a8"
                        ],
                        [
                          0.3333333333333333,
                          "#9c179e"
                        ],
                        [
                          0.4444444444444444,
                          "#bd3786"
                        ],
                        [
                          0.5555555555555556,
                          "#d8576b"
                        ],
                        [
                          0.6666666666666666,
                          "#ed7953"
                        ],
                        [
                          0.7777777777777778,
                          "#fb9f3a"
                        ],
                        [
                          0.8888888888888888,
                          "#fdca26"
                        ],
                        [
                          1,
                          "#f0f921"
                        ]
                      ]
                    },
                    "colorway": [
                      "#636efa",
                      "#EF553B",
                      "#00cc96",
                      "#ab63fa",
                      "#FFA15A",
                      "#19d3f3",
                      "#FF6692",
                      "#B6E880",
                      "#FF97FF",
                      "#FECB52"
                    ],
                    "font": {
                      "color": "#2a3f5f"
                    },
                    "geo": {
                      "bgcolor": "white",
                      "lakecolor": "white",
                      "landcolor": "#E5ECF6",
                      "showlakes": true,
                      "showland": true,
                      "subunitcolor": "white"
                    },
                    "hoverlabel": {
                      "align": "left"
                    },
                    "hovermode": "closest",
                    "mapbox": {
                      "style": "light"
                    },
                    "paper_bgcolor": "white",
                    "plot_bgcolor": "#E5ECF6",
                    "polar": {
                      "angularaxis": {
                        "gridcolor": "white",
                        "linecolor": "white",
                        "ticks": ""
                      },
                      "bgcolor": "#E5ECF6",
                      "radialaxis": {
                        "gridcolor": "white",
                        "linecolor": "white",
                        "ticks": ""
                      }
                    },
                    "scene": {
                      "xaxis": {
                        "backgroundcolor": "#E5ECF6",
                        "gridcolor": "white",
                        "gridwidth": 2,
                        "linecolor": "white",
                        "showbackground": true,
                        "ticks": "",
                        "zerolinecolor": "white"
                      },
                      "yaxis": {
                        "backgroundcolor": "#E5ECF6",
                        "gridcolor": "white",
                        "gridwidth": 2,
                        "linecolor": "white",
                        "showbackground": true,
                        "ticks": "",
                        "zerolinecolor": "white"
                      },
                      "zaxis": {
                        "backgroundcolor": "#E5ECF6",
                        "gridcolor": "white",
                        "gridwidth": 2,
                        "linecolor": "white",
                        "showbackground": true,
                        "ticks": "",
                        "zerolinecolor": "white"
                      }
                    },
                    "shapedefaults": {
                      "line": {
                        "color": "#2a3f5f"
                      }
                    },
                    "ternary": {
                      "aaxis": {
                        "gridcolor": "white",
                        "linecolor": "white",
                        "ticks": ""
                      },
                      "baxis": {
                        "gridcolor": "white",
                        "linecolor": "white",
                        "ticks": ""
                      },
                      "bgcolor": "#E5ECF6",
                      "caxis": {
                        "gridcolor": "white",
                        "linecolor": "white",
                        "ticks": ""
                      }
                    },
                    "title": {
                      "x": 0.05
                    },
                    "xaxis": {
                      "automargin": true,
                      "gridcolor": "white",
                      "linecolor": "white",
                      "ticks": "",
                      "title": {
                        "standoff": 15
                      },
                      "zerolinecolor": "white",
                      "zerolinewidth": 2
                    },
                    "yaxis": {
                      "automargin": true,
                      "gridcolor": "white",
                      "linecolor": "white",
                      "ticks": "",
                      "title": {
                        "standoff": 15
                      },
                      "zerolinecolor": "white",
                      "zerolinewidth": 2
                    }
                  }
                },
                "title": {
                  "text": "Revenue Distribution by Segment",
                  "x": 0.5
                },
                "xaxis": {
                  "anchor": "y",
                  "categoryarray": [
                    "Low-Value",
                    "Mid-Value",
                    "High-Value"
                  ],
                  "categoryorder": "array",
                  "domain": [
                    0,
                    1
                  ],
                  "title": {
                    "text": "RFM Value Segment"
                  }
                },
                "yaxis": {
                  "anchor": "x",
                  "domain": [
                    0,
                    1
                  ],
                  "title": {
                    "text": "Revenue"
                  }
                }
              }
            }
          },
          "metadata": {},
          "output_type": "display_data"
        }
      ],
      "source": [
        "fig_segment_bar = px.histogram(df, x='value_segment', y='monetary',\n",
        "                          color='value_segment', color_discrete_sequence=pastel_colors,\n",
        "                          title='Revenue Distribution by Segment')\n",
        "\n",
        "# Update the layout\n",
        "fig_segment_bar.update_layout(xaxis_title='RFM Value Segment',\n",
        "                            yaxis_title='Revenue',\n",
        "                            title_x= 0.5,\n",
        "                            showlegend=False)\n",
        "\n",
        "fig_segment_bar.show()"
      ]
    },
    {
      "cell_type": "markdown",
      "metadata": {
        "id": "2jjvlUWulRQi"
      },
      "source": [
        "After understanding the distribution of customer numbers, the next key question is undoubtedly, “Who actually contributes to the revenue?”<br>\n",
        "\n",
        "The answer becomes clear in this chart: although the Low-Value segment accounts for the largest share in terms of customer count, <b>they are not the main contributors to revenue</b>. In contrast, the <b>High-Value</b> segment, despite being smaller in number, generates nearly the same proportion of revenue as the combined Low and Mid-Value segments. This reinforces a classic business principle known as the Pareto Principle, \"20% of customers generate 80% of the value\".<br>\n",
        "\n",
        "The gap between customer count and revenue contribution highlights the importance of segmentation, and makes a strong case for why marketing and retention strategies should not be one-size-fits-all."
      ]
    },
    {
      "cell_type": "markdown",
      "metadata": {
        "id": "1g6I7gL0ewmo"
      },
      "source": [
        "## RFM Customer Segment by Value"
      ]
    },
    {
      "cell_type": "code",
      "execution_count": 67,
      "metadata": {
        "id": "VfcROb1rewmo"
      },
      "outputs": [],
      "source": [
        "# Create a new column for RFM Customer Segments\n",
        "df['rfm_customer_segments'] = ''\n",
        "\n",
        "# Assign RFM segments based on the RFM score\n",
        "df.loc[df['rfm_score'] >= 9, 'rfm_customer_segments'] = 'Champions'\n",
        "df.loc[(df['rfm_score'] >= 6) & (df['rfm_score'] < 9), 'rfm_customer_segments'] = 'Potential Loyalists'\n",
        "df.loc[(df['rfm_score'] >= 5) & (df['rfm_score'] < 6), 'rfm_customer_segments'] = 'At Risk Customers'\n",
        "df.loc[(df['rfm_score'] >= 4) & (df['rfm_score'] < 5), 'rfm_customer_segments'] = \"Can't Lose\"\n",
        "df.loc[(df['rfm_score'] >= 3) & (df['rfm_score'] < 4), 'rfm_customer_segments'] = \"Lost\""
      ]
    },
    {
      "cell_type": "code",
      "execution_count": 68,
      "metadata": {
        "colab": {
          "base_uri": "https://localhost:8080/",
          "height": 542
        },
        "id": "mtgu29vxewmp",
        "outputId": "6a0de1f9-70fe-4bf4-8689-8f06ffc2adb8"
      },
      "outputs": [
        {
          "data": {
            "application/vnd.plotly.v1+json": {
              "config": {
                "plotlyServerURL": "https://plot.ly"
              },
              "data": [
                {
                  "branchvalues": "total",
                  "customdata": [
                    [
                      "High-Value"
                    ],
                    [
                      "High-Value"
                    ],
                    [
                      "High-Value"
                    ],
                    [
                      "High-Value"
                    ],
                    [
                      "High-Value"
                    ],
                    [
                      "High-Value"
                    ],
                    [
                      "Low-Value"
                    ],
                    [
                      "Low-Value"
                    ],
                    [
                      "Low-Value"
                    ],
                    [
                      "Low-Value"
                    ],
                    [
                      "Low-Value"
                    ],
                    [
                      "Low-Value"
                    ],
                    [
                      "Mid-Value"
                    ],
                    [
                      "Mid-Value"
                    ],
                    [
                      "Mid-Value"
                    ],
                    [
                      "Mid-Value"
                    ],
                    [
                      "Mid-Value"
                    ],
                    [
                      "Mid-Value"
                    ]
                  ],
                  "domain": {
                    "x": [
                      0,
                      1
                    ],
                    "y": [
                      0,
                      1
                    ]
                  },
                  "hovertemplate": "labels=%{label}<br>count=%{value}<br>parent=%{parent}<br>id=%{id}<br>value_segment=%{customdata[0]}<extra></extra>",
                  "ids": [
                    "High-Value",
                    "High-Value/Lost",
                    "High-Value/Potential Loyalists",
                    "High-Value/Can't Lose",
                    "High-Value/Champions",
                    "High-Value/At Risk Customers",
                    "Low-Value",
                    "Low-Value/At Risk Customers",
                    "Low-Value/Lost",
                    "Low-Value/Champions",
                    "Low-Value/Can't Lose",
                    "Low-Value/Potential Loyalists",
                    "Mid-Value/Can't Lose",
                    "Mid-Value/Champions",
                    "Mid-Value/Lost",
                    "Mid-Value/At Risk Customers",
                    "Mid-Value/Potential Loyalists",
                    "Mid-Value"
                  ],
                  "labels": [
                    "High-Value",
                    "Lost",
                    "Potential Loyalists",
                    "Can't Lose",
                    "Champions",
                    "At Risk Customers",
                    "Low-Value",
                    "At Risk Customers",
                    "Lost",
                    "Champions",
                    "Can't Lose",
                    "Potential Loyalists",
                    "Can't Lose",
                    "Champions",
                    "Lost",
                    "At Risk Customers",
                    "Potential Loyalists",
                    "Mid-Value"
                  ],
                  "marker": {
                    "colors": [
                      "rgb(102, 197, 204)",
                      "rgb(102, 197, 204)",
                      "rgb(102, 197, 204)",
                      "rgb(102, 197, 204)",
                      "rgb(102, 197, 204)",
                      "rgb(102, 197, 204)",
                      "rgb(246, 207, 113)",
                      "rgb(246, 207, 113)",
                      "rgb(246, 207, 113)",
                      "rgb(246, 207, 113)",
                      "rgb(246, 207, 113)",
                      "rgb(246, 207, 113)",
                      "rgb(248, 156, 116)",
                      "rgb(248, 156, 116)",
                      "rgb(248, 156, 116)",
                      "rgb(248, 156, 116)",
                      "rgb(248, 156, 116)",
                      "rgb(248, 156, 116)"
                    ]
                  },
                  "name": "",
                  "parents": [
                    "",
                    "High-Value",
                    "High-Value",
                    "High-Value",
                    "High-Value",
                    "High-Value",
                    "",
                    "Low-Value",
                    "Low-Value",
                    "Low-Value",
                    "Low-Value",
                    "Low-Value",
                    "Mid-Value",
                    "Mid-Value",
                    "Mid-Value",
                    "Mid-Value",
                    "Mid-Value",
                    ""
                  ],
                  "type": "treemap",
                  "values": {
                    "bdata": "AAAAAABAY0AAAAAAAAAAAAAAAAAAQGFAAAAAAAAAAAAAAAAAAAAwQAAAAAAAAAAAAAAAAAAweUAAAAAAAAAAAAAAAAAAIG1AAAAAAAAAAAAAAAAAAEBlQAAAAAAAAAAAAAAAAAAAAAAAAAAAAAAAAAAAAAAAAAAAAAAAAAAAYEAAAAAAAABjQAAAAAAAgHFA",
                    "dtype": "f8"
                  }
                }
              ],
              "layout": {
                "legend": {
                  "tracegroupgap": 0
                },
                "template": {
                  "data": {
                    "bar": [
                      {
                        "error_x": {
                          "color": "#2a3f5f"
                        },
                        "error_y": {
                          "color": "#2a3f5f"
                        },
                        "marker": {
                          "line": {
                            "color": "#E5ECF6",
                            "width": 0.5
                          },
                          "pattern": {
                            "fillmode": "overlay",
                            "size": 10,
                            "solidity": 0.2
                          }
                        },
                        "type": "bar"
                      }
                    ],
                    "barpolar": [
                      {
                        "marker": {
                          "line": {
                            "color": "#E5ECF6",
                            "width": 0.5
                          },
                          "pattern": {
                            "fillmode": "overlay",
                            "size": 10,
                            "solidity": 0.2
                          }
                        },
                        "type": "barpolar"
                      }
                    ],
                    "carpet": [
                      {
                        "aaxis": {
                          "endlinecolor": "#2a3f5f",
                          "gridcolor": "white",
                          "linecolor": "white",
                          "minorgridcolor": "white",
                          "startlinecolor": "#2a3f5f"
                        },
                        "baxis": {
                          "endlinecolor": "#2a3f5f",
                          "gridcolor": "white",
                          "linecolor": "white",
                          "minorgridcolor": "white",
                          "startlinecolor": "#2a3f5f"
                        },
                        "type": "carpet"
                      }
                    ],
                    "choropleth": [
                      {
                        "colorbar": {
                          "outlinewidth": 0,
                          "ticks": ""
                        },
                        "type": "choropleth"
                      }
                    ],
                    "contour": [
                      {
                        "colorbar": {
                          "outlinewidth": 0,
                          "ticks": ""
                        },
                        "colorscale": [
                          [
                            0,
                            "#0d0887"
                          ],
                          [
                            0.1111111111111111,
                            "#46039f"
                          ],
                          [
                            0.2222222222222222,
                            "#7201a8"
                          ],
                          [
                            0.3333333333333333,
                            "#9c179e"
                          ],
                          [
                            0.4444444444444444,
                            "#bd3786"
                          ],
                          [
                            0.5555555555555556,
                            "#d8576b"
                          ],
                          [
                            0.6666666666666666,
                            "#ed7953"
                          ],
                          [
                            0.7777777777777778,
                            "#fb9f3a"
                          ],
                          [
                            0.8888888888888888,
                            "#fdca26"
                          ],
                          [
                            1,
                            "#f0f921"
                          ]
                        ],
                        "type": "contour"
                      }
                    ],
                    "contourcarpet": [
                      {
                        "colorbar": {
                          "outlinewidth": 0,
                          "ticks": ""
                        },
                        "type": "contourcarpet"
                      }
                    ],
                    "heatmap": [
                      {
                        "colorbar": {
                          "outlinewidth": 0,
                          "ticks": ""
                        },
                        "colorscale": [
                          [
                            0,
                            "#0d0887"
                          ],
                          [
                            0.1111111111111111,
                            "#46039f"
                          ],
                          [
                            0.2222222222222222,
                            "#7201a8"
                          ],
                          [
                            0.3333333333333333,
                            "#9c179e"
                          ],
                          [
                            0.4444444444444444,
                            "#bd3786"
                          ],
                          [
                            0.5555555555555556,
                            "#d8576b"
                          ],
                          [
                            0.6666666666666666,
                            "#ed7953"
                          ],
                          [
                            0.7777777777777778,
                            "#fb9f3a"
                          ],
                          [
                            0.8888888888888888,
                            "#fdca26"
                          ],
                          [
                            1,
                            "#f0f921"
                          ]
                        ],
                        "type": "heatmap"
                      }
                    ],
                    "histogram": [
                      {
                        "marker": {
                          "pattern": {
                            "fillmode": "overlay",
                            "size": 10,
                            "solidity": 0.2
                          }
                        },
                        "type": "histogram"
                      }
                    ],
                    "histogram2d": [
                      {
                        "colorbar": {
                          "outlinewidth": 0,
                          "ticks": ""
                        },
                        "colorscale": [
                          [
                            0,
                            "#0d0887"
                          ],
                          [
                            0.1111111111111111,
                            "#46039f"
                          ],
                          [
                            0.2222222222222222,
                            "#7201a8"
                          ],
                          [
                            0.3333333333333333,
                            "#9c179e"
                          ],
                          [
                            0.4444444444444444,
                            "#bd3786"
                          ],
                          [
                            0.5555555555555556,
                            "#d8576b"
                          ],
                          [
                            0.6666666666666666,
                            "#ed7953"
                          ],
                          [
                            0.7777777777777778,
                            "#fb9f3a"
                          ],
                          [
                            0.8888888888888888,
                            "#fdca26"
                          ],
                          [
                            1,
                            "#f0f921"
                          ]
                        ],
                        "type": "histogram2d"
                      }
                    ],
                    "histogram2dcontour": [
                      {
                        "colorbar": {
                          "outlinewidth": 0,
                          "ticks": ""
                        },
                        "colorscale": [
                          [
                            0,
                            "#0d0887"
                          ],
                          [
                            0.1111111111111111,
                            "#46039f"
                          ],
                          [
                            0.2222222222222222,
                            "#7201a8"
                          ],
                          [
                            0.3333333333333333,
                            "#9c179e"
                          ],
                          [
                            0.4444444444444444,
                            "#bd3786"
                          ],
                          [
                            0.5555555555555556,
                            "#d8576b"
                          ],
                          [
                            0.6666666666666666,
                            "#ed7953"
                          ],
                          [
                            0.7777777777777778,
                            "#fb9f3a"
                          ],
                          [
                            0.8888888888888888,
                            "#fdca26"
                          ],
                          [
                            1,
                            "#f0f921"
                          ]
                        ],
                        "type": "histogram2dcontour"
                      }
                    ],
                    "mesh3d": [
                      {
                        "colorbar": {
                          "outlinewidth": 0,
                          "ticks": ""
                        },
                        "type": "mesh3d"
                      }
                    ],
                    "parcoords": [
                      {
                        "line": {
                          "colorbar": {
                            "outlinewidth": 0,
                            "ticks": ""
                          }
                        },
                        "type": "parcoords"
                      }
                    ],
                    "pie": [
                      {
                        "automargin": true,
                        "type": "pie"
                      }
                    ],
                    "scatter": [
                      {
                        "fillpattern": {
                          "fillmode": "overlay",
                          "size": 10,
                          "solidity": 0.2
                        },
                        "type": "scatter"
                      }
                    ],
                    "scatter3d": [
                      {
                        "line": {
                          "colorbar": {
                            "outlinewidth": 0,
                            "ticks": ""
                          }
                        },
                        "marker": {
                          "colorbar": {
                            "outlinewidth": 0,
                            "ticks": ""
                          }
                        },
                        "type": "scatter3d"
                      }
                    ],
                    "scattercarpet": [
                      {
                        "marker": {
                          "colorbar": {
                            "outlinewidth": 0,
                            "ticks": ""
                          }
                        },
                        "type": "scattercarpet"
                      }
                    ],
                    "scattergeo": [
                      {
                        "marker": {
                          "colorbar": {
                            "outlinewidth": 0,
                            "ticks": ""
                          }
                        },
                        "type": "scattergeo"
                      }
                    ],
                    "scattergl": [
                      {
                        "marker": {
                          "colorbar": {
                            "outlinewidth": 0,
                            "ticks": ""
                          }
                        },
                        "type": "scattergl"
                      }
                    ],
                    "scattermap": [
                      {
                        "marker": {
                          "colorbar": {
                            "outlinewidth": 0,
                            "ticks": ""
                          }
                        },
                        "type": "scattermap"
                      }
                    ],
                    "scattermapbox": [
                      {
                        "marker": {
                          "colorbar": {
                            "outlinewidth": 0,
                            "ticks": ""
                          }
                        },
                        "type": "scattermapbox"
                      }
                    ],
                    "scatterpolar": [
                      {
                        "marker": {
                          "colorbar": {
                            "outlinewidth": 0,
                            "ticks": ""
                          }
                        },
                        "type": "scatterpolar"
                      }
                    ],
                    "scatterpolargl": [
                      {
                        "marker": {
                          "colorbar": {
                            "outlinewidth": 0,
                            "ticks": ""
                          }
                        },
                        "type": "scatterpolargl"
                      }
                    ],
                    "scatterternary": [
                      {
                        "marker": {
                          "colorbar": {
                            "outlinewidth": 0,
                            "ticks": ""
                          }
                        },
                        "type": "scatterternary"
                      }
                    ],
                    "surface": [
                      {
                        "colorbar": {
                          "outlinewidth": 0,
                          "ticks": ""
                        },
                        "colorscale": [
                          [
                            0,
                            "#0d0887"
                          ],
                          [
                            0.1111111111111111,
                            "#46039f"
                          ],
                          [
                            0.2222222222222222,
                            "#7201a8"
                          ],
                          [
                            0.3333333333333333,
                            "#9c179e"
                          ],
                          [
                            0.4444444444444444,
                            "#bd3786"
                          ],
                          [
                            0.5555555555555556,
                            "#d8576b"
                          ],
                          [
                            0.6666666666666666,
                            "#ed7953"
                          ],
                          [
                            0.7777777777777778,
                            "#fb9f3a"
                          ],
                          [
                            0.8888888888888888,
                            "#fdca26"
                          ],
                          [
                            1,
                            "#f0f921"
                          ]
                        ],
                        "type": "surface"
                      }
                    ],
                    "table": [
                      {
                        "cells": {
                          "fill": {
                            "color": "#EBF0F8"
                          },
                          "line": {
                            "color": "white"
                          }
                        },
                        "header": {
                          "fill": {
                            "color": "#C8D4E3"
                          },
                          "line": {
                            "color": "white"
                          }
                        },
                        "type": "table"
                      }
                    ]
                  },
                  "layout": {
                    "annotationdefaults": {
                      "arrowcolor": "#2a3f5f",
                      "arrowhead": 0,
                      "arrowwidth": 1
                    },
                    "autotypenumbers": "strict",
                    "coloraxis": {
                      "colorbar": {
                        "outlinewidth": 0,
                        "ticks": ""
                      }
                    },
                    "colorscale": {
                      "diverging": [
                        [
                          0,
                          "#8e0152"
                        ],
                        [
                          0.1,
                          "#c51b7d"
                        ],
                        [
                          0.2,
                          "#de77ae"
                        ],
                        [
                          0.3,
                          "#f1b6da"
                        ],
                        [
                          0.4,
                          "#fde0ef"
                        ],
                        [
                          0.5,
                          "#f7f7f7"
                        ],
                        [
                          0.6,
                          "#e6f5d0"
                        ],
                        [
                          0.7,
                          "#b8e186"
                        ],
                        [
                          0.8,
                          "#7fbc41"
                        ],
                        [
                          0.9,
                          "#4d9221"
                        ],
                        [
                          1,
                          "#276419"
                        ]
                      ],
                      "sequential": [
                        [
                          0,
                          "#0d0887"
                        ],
                        [
                          0.1111111111111111,
                          "#46039f"
                        ],
                        [
                          0.2222222222222222,
                          "#7201a8"
                        ],
                        [
                          0.3333333333333333,
                          "#9c179e"
                        ],
                        [
                          0.4444444444444444,
                          "#bd3786"
                        ],
                        [
                          0.5555555555555556,
                          "#d8576b"
                        ],
                        [
                          0.6666666666666666,
                          "#ed7953"
                        ],
                        [
                          0.7777777777777778,
                          "#fb9f3a"
                        ],
                        [
                          0.8888888888888888,
                          "#fdca26"
                        ],
                        [
                          1,
                          "#f0f921"
                        ]
                      ],
                      "sequentialminus": [
                        [
                          0,
                          "#0d0887"
                        ],
                        [
                          0.1111111111111111,
                          "#46039f"
                        ],
                        [
                          0.2222222222222222,
                          "#7201a8"
                        ],
                        [
                          0.3333333333333333,
                          "#9c179e"
                        ],
                        [
                          0.4444444444444444,
                          "#bd3786"
                        ],
                        [
                          0.5555555555555556,
                          "#d8576b"
                        ],
                        [
                          0.6666666666666666,
                          "#ed7953"
                        ],
                        [
                          0.7777777777777778,
                          "#fb9f3a"
                        ],
                        [
                          0.8888888888888888,
                          "#fdca26"
                        ],
                        [
                          1,
                          "#f0f921"
                        ]
                      ]
                    },
                    "colorway": [
                      "#636efa",
                      "#EF553B",
                      "#00cc96",
                      "#ab63fa",
                      "#FFA15A",
                      "#19d3f3",
                      "#FF6692",
                      "#B6E880",
                      "#FF97FF",
                      "#FECB52"
                    ],
                    "font": {
                      "color": "#2a3f5f"
                    },
                    "geo": {
                      "bgcolor": "white",
                      "lakecolor": "white",
                      "landcolor": "#E5ECF6",
                      "showlakes": true,
                      "showland": true,
                      "subunitcolor": "white"
                    },
                    "hoverlabel": {
                      "align": "left"
                    },
                    "hovermode": "closest",
                    "mapbox": {
                      "style": "light"
                    },
                    "paper_bgcolor": "white",
                    "plot_bgcolor": "#E5ECF6",
                    "polar": {
                      "angularaxis": {
                        "gridcolor": "white",
                        "linecolor": "white",
                        "ticks": ""
                      },
                      "bgcolor": "#E5ECF6",
                      "radialaxis": {
                        "gridcolor": "white",
                        "linecolor": "white",
                        "ticks": ""
                      }
                    },
                    "scene": {
                      "xaxis": {
                        "backgroundcolor": "#E5ECF6",
                        "gridcolor": "white",
                        "gridwidth": 2,
                        "linecolor": "white",
                        "showbackground": true,
                        "ticks": "",
                        "zerolinecolor": "white"
                      },
                      "yaxis": {
                        "backgroundcolor": "#E5ECF6",
                        "gridcolor": "white",
                        "gridwidth": 2,
                        "linecolor": "white",
                        "showbackground": true,
                        "ticks": "",
                        "zerolinecolor": "white"
                      },
                      "zaxis": {
                        "backgroundcolor": "#E5ECF6",
                        "gridcolor": "white",
                        "gridwidth": 2,
                        "linecolor": "white",
                        "showbackground": true,
                        "ticks": "",
                        "zerolinecolor": "white"
                      }
                    },
                    "shapedefaults": {
                      "line": {
                        "color": "#2a3f5f"
                      }
                    },
                    "ternary": {
                      "aaxis": {
                        "gridcolor": "white",
                        "linecolor": "white",
                        "ticks": ""
                      },
                      "baxis": {
                        "gridcolor": "white",
                        "linecolor": "white",
                        "ticks": ""
                      },
                      "bgcolor": "#E5ECF6",
                      "caxis": {
                        "gridcolor": "white",
                        "linecolor": "white",
                        "ticks": ""
                      }
                    },
                    "title": {
                      "x": 0.05
                    },
                    "xaxis": {
                      "automargin": true,
                      "gridcolor": "white",
                      "linecolor": "white",
                      "ticks": "",
                      "title": {
                        "standoff": 15
                      },
                      "zerolinecolor": "white",
                      "zerolinewidth": 2
                    },
                    "yaxis": {
                      "automargin": true,
                      "gridcolor": "white",
                      "linecolor": "white",
                      "ticks": "",
                      "title": {
                        "standoff": 15
                      },
                      "zerolinecolor": "white",
                      "zerolinewidth": 2
                    }
                  }
                },
                "title": {
                  "text": "RFM Customer Segments by Value",
                  "x": 0.5
                },
                "treemapcolorway": [
                  "rgb(102, 197, 204)",
                  "rgb(246, 207, 113)",
                  "rgb(248, 156, 116)",
                  "rgb(220, 176, 242)",
                  "rgb(135, 197, 95)",
                  "rgb(158, 185, 243)",
                  "rgb(254, 136, 177)",
                  "rgb(201, 219, 116)",
                  "rgb(139, 224, 164)",
                  "rgb(180, 151, 231)",
                  "rgb(179, 179, 179)"
                ]
              }
            }
          },
          "metadata": {},
          "output_type": "display_data"
        }
      ],
      "source": [
        "# Create tree map for RFM Segment\n",
        "segment_product_counts = df.groupby(['value_segment', 'rfm_customer_segments']).size().reset_index(name='count')\n",
        "\n",
        "segment_product_counts = segment_product_counts.sort_values('count', ascending=False)\n",
        "\n",
        "fig_treemap_segment_product = px.treemap(segment_product_counts,\n",
        "                                         path=['value_segment', 'rfm_customer_segments'],\n",
        "                                         values='count',\n",
        "                                         #width=800,\n",
        "                                         #height=500,\n",
        "                                         color='value_segment', color_discrete_sequence=px.colors.qualitative.Pastel,\n",
        "                                         title='RFM Customer Segments by Value')\n",
        "\n",
        "fig_treemap_segment_product.update_layout(title_x= 0.5)\n",
        "\n",
        "fig_treemap_segment_product.show()"
      ]
    },
    {
      "cell_type": "markdown",
      "metadata": {
        "id": "SKnb0adGng6y"
      },
      "source": [
        "After gaining a high-level view of each value segment, the next step is to dive deeper, to understand who exactly are the customers behind the **Low, Mid, and High-Value segments**.\n",
        "\n",
        "This treemap helps us explore the composition of each value segment. In the Low-Value segment, there is a strong presence of Lost and Can't Lose Them customers, those who have been inactive for a long time but once showed significant value. In the Mid-Value segment, we see promising groups like Potential Loyalists and At Risk, customers who are at a turning point, teetering between becoming loyal customers or disappearing for good.\n",
        "\n",
        "Meanwhile, in the High-Value segment, we find an interesting **mix of Champions and Potential Loyalists**. While Champions are the best customers with the highest transaction frequency and value, it is the Potential Loyalists who make up the largest proportion within this group. This highlights an important insight, that many \"high-value customers come from potential segments, not from those who were already at the top\", but from those who were retained and nurtured over time."
      ]
    },
    {
      "cell_type": "markdown",
      "metadata": {
        "id": "hpG05aC1ewmp"
      },
      "source": [
        "## Distribution of RFM within Champions Segment"
      ]
    },
    {
      "cell_type": "code",
      "execution_count": 69,
      "metadata": {
        "colab": {
          "base_uri": "https://localhost:8080/",
          "height": 542
        },
        "id": "UX4K4Yjzewmp",
        "outputId": "c07787b3-431e-4e0b-e225-21ffdb0c1dc4"
      },
      "outputs": [
        {
          "data": {
            "application/vnd.plotly.v1+json": {
              "config": {
                "plotlyServerURL": "https://plot.ly"
              },
              "data": [
                {
                  "boxpoints": "all",
                  "name": "Recency",
                  "type": "box",
                  "y": {
                    "bdata": "AQICAwMDBAQEBQUFBQUFBQ==",
                    "dtype": "i1"
                  }
                },
                {
                  "boxpoints": "all",
                  "name": "Frequency",
                  "type": "box",
                  "y": {
                    "bdata": "BAQFAgQEAwQEBAIFBQUFBQ==",
                    "dtype": "i1"
                  }
                },
                {
                  "boxpoints": "all",
                  "name": "Monetary",
                  "type": "box",
                  "y": {
                    "bdata": "BQUEBAUCAgIFBQIEBAQEBA==",
                    "dtype": "i1"
                  }
                }
              ],
              "layout": {
                "showlegend": true,
                "template": {
                  "data": {
                    "bar": [
                      {
                        "error_x": {
                          "color": "#2a3f5f"
                        },
                        "error_y": {
                          "color": "#2a3f5f"
                        },
                        "marker": {
                          "line": {
                            "color": "#E5ECF6",
                            "width": 0.5
                          },
                          "pattern": {
                            "fillmode": "overlay",
                            "size": 10,
                            "solidity": 0.2
                          }
                        },
                        "type": "bar"
                      }
                    ],
                    "barpolar": [
                      {
                        "marker": {
                          "line": {
                            "color": "#E5ECF6",
                            "width": 0.5
                          },
                          "pattern": {
                            "fillmode": "overlay",
                            "size": 10,
                            "solidity": 0.2
                          }
                        },
                        "type": "barpolar"
                      }
                    ],
                    "carpet": [
                      {
                        "aaxis": {
                          "endlinecolor": "#2a3f5f",
                          "gridcolor": "white",
                          "linecolor": "white",
                          "minorgridcolor": "white",
                          "startlinecolor": "#2a3f5f"
                        },
                        "baxis": {
                          "endlinecolor": "#2a3f5f",
                          "gridcolor": "white",
                          "linecolor": "white",
                          "minorgridcolor": "white",
                          "startlinecolor": "#2a3f5f"
                        },
                        "type": "carpet"
                      }
                    ],
                    "choropleth": [
                      {
                        "colorbar": {
                          "outlinewidth": 0,
                          "ticks": ""
                        },
                        "type": "choropleth"
                      }
                    ],
                    "contour": [
                      {
                        "colorbar": {
                          "outlinewidth": 0,
                          "ticks": ""
                        },
                        "colorscale": [
                          [
                            0,
                            "#0d0887"
                          ],
                          [
                            0.1111111111111111,
                            "#46039f"
                          ],
                          [
                            0.2222222222222222,
                            "#7201a8"
                          ],
                          [
                            0.3333333333333333,
                            "#9c179e"
                          ],
                          [
                            0.4444444444444444,
                            "#bd3786"
                          ],
                          [
                            0.5555555555555556,
                            "#d8576b"
                          ],
                          [
                            0.6666666666666666,
                            "#ed7953"
                          ],
                          [
                            0.7777777777777778,
                            "#fb9f3a"
                          ],
                          [
                            0.8888888888888888,
                            "#fdca26"
                          ],
                          [
                            1,
                            "#f0f921"
                          ]
                        ],
                        "type": "contour"
                      }
                    ],
                    "contourcarpet": [
                      {
                        "colorbar": {
                          "outlinewidth": 0,
                          "ticks": ""
                        },
                        "type": "contourcarpet"
                      }
                    ],
                    "heatmap": [
                      {
                        "colorbar": {
                          "outlinewidth": 0,
                          "ticks": ""
                        },
                        "colorscale": [
                          [
                            0,
                            "#0d0887"
                          ],
                          [
                            0.1111111111111111,
                            "#46039f"
                          ],
                          [
                            0.2222222222222222,
                            "#7201a8"
                          ],
                          [
                            0.3333333333333333,
                            "#9c179e"
                          ],
                          [
                            0.4444444444444444,
                            "#bd3786"
                          ],
                          [
                            0.5555555555555556,
                            "#d8576b"
                          ],
                          [
                            0.6666666666666666,
                            "#ed7953"
                          ],
                          [
                            0.7777777777777778,
                            "#fb9f3a"
                          ],
                          [
                            0.8888888888888888,
                            "#fdca26"
                          ],
                          [
                            1,
                            "#f0f921"
                          ]
                        ],
                        "type": "heatmap"
                      }
                    ],
                    "histogram": [
                      {
                        "marker": {
                          "pattern": {
                            "fillmode": "overlay",
                            "size": 10,
                            "solidity": 0.2
                          }
                        },
                        "type": "histogram"
                      }
                    ],
                    "histogram2d": [
                      {
                        "colorbar": {
                          "outlinewidth": 0,
                          "ticks": ""
                        },
                        "colorscale": [
                          [
                            0,
                            "#0d0887"
                          ],
                          [
                            0.1111111111111111,
                            "#46039f"
                          ],
                          [
                            0.2222222222222222,
                            "#7201a8"
                          ],
                          [
                            0.3333333333333333,
                            "#9c179e"
                          ],
                          [
                            0.4444444444444444,
                            "#bd3786"
                          ],
                          [
                            0.5555555555555556,
                            "#d8576b"
                          ],
                          [
                            0.6666666666666666,
                            "#ed7953"
                          ],
                          [
                            0.7777777777777778,
                            "#fb9f3a"
                          ],
                          [
                            0.8888888888888888,
                            "#fdca26"
                          ],
                          [
                            1,
                            "#f0f921"
                          ]
                        ],
                        "type": "histogram2d"
                      }
                    ],
                    "histogram2dcontour": [
                      {
                        "colorbar": {
                          "outlinewidth": 0,
                          "ticks": ""
                        },
                        "colorscale": [
                          [
                            0,
                            "#0d0887"
                          ],
                          [
                            0.1111111111111111,
                            "#46039f"
                          ],
                          [
                            0.2222222222222222,
                            "#7201a8"
                          ],
                          [
                            0.3333333333333333,
                            "#9c179e"
                          ],
                          [
                            0.4444444444444444,
                            "#bd3786"
                          ],
                          [
                            0.5555555555555556,
                            "#d8576b"
                          ],
                          [
                            0.6666666666666666,
                            "#ed7953"
                          ],
                          [
                            0.7777777777777778,
                            "#fb9f3a"
                          ],
                          [
                            0.8888888888888888,
                            "#fdca26"
                          ],
                          [
                            1,
                            "#f0f921"
                          ]
                        ],
                        "type": "histogram2dcontour"
                      }
                    ],
                    "mesh3d": [
                      {
                        "colorbar": {
                          "outlinewidth": 0,
                          "ticks": ""
                        },
                        "type": "mesh3d"
                      }
                    ],
                    "parcoords": [
                      {
                        "line": {
                          "colorbar": {
                            "outlinewidth": 0,
                            "ticks": ""
                          }
                        },
                        "type": "parcoords"
                      }
                    ],
                    "pie": [
                      {
                        "automargin": true,
                        "type": "pie"
                      }
                    ],
                    "scatter": [
                      {
                        "fillpattern": {
                          "fillmode": "overlay",
                          "size": 10,
                          "solidity": 0.2
                        },
                        "type": "scatter"
                      }
                    ],
                    "scatter3d": [
                      {
                        "line": {
                          "colorbar": {
                            "outlinewidth": 0,
                            "ticks": ""
                          }
                        },
                        "marker": {
                          "colorbar": {
                            "outlinewidth": 0,
                            "ticks": ""
                          }
                        },
                        "type": "scatter3d"
                      }
                    ],
                    "scattercarpet": [
                      {
                        "marker": {
                          "colorbar": {
                            "outlinewidth": 0,
                            "ticks": ""
                          }
                        },
                        "type": "scattercarpet"
                      }
                    ],
                    "scattergeo": [
                      {
                        "marker": {
                          "colorbar": {
                            "outlinewidth": 0,
                            "ticks": ""
                          }
                        },
                        "type": "scattergeo"
                      }
                    ],
                    "scattergl": [
                      {
                        "marker": {
                          "colorbar": {
                            "outlinewidth": 0,
                            "ticks": ""
                          }
                        },
                        "type": "scattergl"
                      }
                    ],
                    "scattermap": [
                      {
                        "marker": {
                          "colorbar": {
                            "outlinewidth": 0,
                            "ticks": ""
                          }
                        },
                        "type": "scattermap"
                      }
                    ],
                    "scattermapbox": [
                      {
                        "marker": {
                          "colorbar": {
                            "outlinewidth": 0,
                            "ticks": ""
                          }
                        },
                        "type": "scattermapbox"
                      }
                    ],
                    "scatterpolar": [
                      {
                        "marker": {
                          "colorbar": {
                            "outlinewidth": 0,
                            "ticks": ""
                          }
                        },
                        "type": "scatterpolar"
                      }
                    ],
                    "scatterpolargl": [
                      {
                        "marker": {
                          "colorbar": {
                            "outlinewidth": 0,
                            "ticks": ""
                          }
                        },
                        "type": "scatterpolargl"
                      }
                    ],
                    "scatterternary": [
                      {
                        "marker": {
                          "colorbar": {
                            "outlinewidth": 0,
                            "ticks": ""
                          }
                        },
                        "type": "scatterternary"
                      }
                    ],
                    "surface": [
                      {
                        "colorbar": {
                          "outlinewidth": 0,
                          "ticks": ""
                        },
                        "colorscale": [
                          [
                            0,
                            "#0d0887"
                          ],
                          [
                            0.1111111111111111,
                            "#46039f"
                          ],
                          [
                            0.2222222222222222,
                            "#7201a8"
                          ],
                          [
                            0.3333333333333333,
                            "#9c179e"
                          ],
                          [
                            0.4444444444444444,
                            "#bd3786"
                          ],
                          [
                            0.5555555555555556,
                            "#d8576b"
                          ],
                          [
                            0.6666666666666666,
                            "#ed7953"
                          ],
                          [
                            0.7777777777777778,
                            "#fb9f3a"
                          ],
                          [
                            0.8888888888888888,
                            "#fdca26"
                          ],
                          [
                            1,
                            "#f0f921"
                          ]
                        ],
                        "type": "surface"
                      }
                    ],
                    "table": [
                      {
                        "cells": {
                          "fill": {
                            "color": "#EBF0F8"
                          },
                          "line": {
                            "color": "white"
                          }
                        },
                        "header": {
                          "fill": {
                            "color": "#C8D4E3"
                          },
                          "line": {
                            "color": "white"
                          }
                        },
                        "type": "table"
                      }
                    ]
                  },
                  "layout": {
                    "annotationdefaults": {
                      "arrowcolor": "#2a3f5f",
                      "arrowhead": 0,
                      "arrowwidth": 1
                    },
                    "autotypenumbers": "strict",
                    "coloraxis": {
                      "colorbar": {
                        "outlinewidth": 0,
                        "ticks": ""
                      }
                    },
                    "colorscale": {
                      "diverging": [
                        [
                          0,
                          "#8e0152"
                        ],
                        [
                          0.1,
                          "#c51b7d"
                        ],
                        [
                          0.2,
                          "#de77ae"
                        ],
                        [
                          0.3,
                          "#f1b6da"
                        ],
                        [
                          0.4,
                          "#fde0ef"
                        ],
                        [
                          0.5,
                          "#f7f7f7"
                        ],
                        [
                          0.6,
                          "#e6f5d0"
                        ],
                        [
                          0.7,
                          "#b8e186"
                        ],
                        [
                          0.8,
                          "#7fbc41"
                        ],
                        [
                          0.9,
                          "#4d9221"
                        ],
                        [
                          1,
                          "#276419"
                        ]
                      ],
                      "sequential": [
                        [
                          0,
                          "#0d0887"
                        ],
                        [
                          0.1111111111111111,
                          "#46039f"
                        ],
                        [
                          0.2222222222222222,
                          "#7201a8"
                        ],
                        [
                          0.3333333333333333,
                          "#9c179e"
                        ],
                        [
                          0.4444444444444444,
                          "#bd3786"
                        ],
                        [
                          0.5555555555555556,
                          "#d8576b"
                        ],
                        [
                          0.6666666666666666,
                          "#ed7953"
                        ],
                        [
                          0.7777777777777778,
                          "#fb9f3a"
                        ],
                        [
                          0.8888888888888888,
                          "#fdca26"
                        ],
                        [
                          1,
                          "#f0f921"
                        ]
                      ],
                      "sequentialminus": [
                        [
                          0,
                          "#0d0887"
                        ],
                        [
                          0.1111111111111111,
                          "#46039f"
                        ],
                        [
                          0.2222222222222222,
                          "#7201a8"
                        ],
                        [
                          0.3333333333333333,
                          "#9c179e"
                        ],
                        [
                          0.4444444444444444,
                          "#bd3786"
                        ],
                        [
                          0.5555555555555556,
                          "#d8576b"
                        ],
                        [
                          0.6666666666666666,
                          "#ed7953"
                        ],
                        [
                          0.7777777777777778,
                          "#fb9f3a"
                        ],
                        [
                          0.8888888888888888,
                          "#fdca26"
                        ],
                        [
                          1,
                          "#f0f921"
                        ]
                      ]
                    },
                    "colorway": [
                      "#636efa",
                      "#EF553B",
                      "#00cc96",
                      "#ab63fa",
                      "#FFA15A",
                      "#19d3f3",
                      "#FF6692",
                      "#B6E880",
                      "#FF97FF",
                      "#FECB52"
                    ],
                    "font": {
                      "color": "#2a3f5f"
                    },
                    "geo": {
                      "bgcolor": "white",
                      "lakecolor": "white",
                      "landcolor": "#E5ECF6",
                      "showlakes": true,
                      "showland": true,
                      "subunitcolor": "white"
                    },
                    "hoverlabel": {
                      "align": "left"
                    },
                    "hovermode": "closest",
                    "mapbox": {
                      "style": "light"
                    },
                    "paper_bgcolor": "white",
                    "plot_bgcolor": "#E5ECF6",
                    "polar": {
                      "angularaxis": {
                        "gridcolor": "white",
                        "linecolor": "white",
                        "ticks": ""
                      },
                      "bgcolor": "#E5ECF6",
                      "radialaxis": {
                        "gridcolor": "white",
                        "linecolor": "white",
                        "ticks": ""
                      }
                    },
                    "scene": {
                      "xaxis": {
                        "backgroundcolor": "#E5ECF6",
                        "gridcolor": "white",
                        "gridwidth": 2,
                        "linecolor": "white",
                        "showbackground": true,
                        "ticks": "",
                        "zerolinecolor": "white"
                      },
                      "yaxis": {
                        "backgroundcolor": "#E5ECF6",
                        "gridcolor": "white",
                        "gridwidth": 2,
                        "linecolor": "white",
                        "showbackground": true,
                        "ticks": "",
                        "zerolinecolor": "white"
                      },
                      "zaxis": {
                        "backgroundcolor": "#E5ECF6",
                        "gridcolor": "white",
                        "gridwidth": 2,
                        "linecolor": "white",
                        "showbackground": true,
                        "ticks": "",
                        "zerolinecolor": "white"
                      }
                    },
                    "shapedefaults": {
                      "line": {
                        "color": "#2a3f5f"
                      }
                    },
                    "ternary": {
                      "aaxis": {
                        "gridcolor": "white",
                        "linecolor": "white",
                        "ticks": ""
                      },
                      "baxis": {
                        "gridcolor": "white",
                        "linecolor": "white",
                        "ticks": ""
                      },
                      "bgcolor": "#E5ECF6",
                      "caxis": {
                        "gridcolor": "white",
                        "linecolor": "white",
                        "ticks": ""
                      }
                    },
                    "title": {
                      "x": 0.05
                    },
                    "xaxis": {
                      "automargin": true,
                      "gridcolor": "white",
                      "linecolor": "white",
                      "ticks": "",
                      "title": {
                        "standoff": 15
                      },
                      "zerolinecolor": "white",
                      "zerolinewidth": 2
                    },
                    "yaxis": {
                      "automargin": true,
                      "gridcolor": "white",
                      "linecolor": "white",
                      "ticks": "",
                      "title": {
                        "standoff": 15
                      },
                      "zerolinecolor": "white",
                      "zerolinewidth": 2
                    }
                  }
                },
                "title": {
                  "text": "Distribution of RFM Values within Champions Segment",
                  "x": 0.5
                },
                "yaxis": {
                  "title": {
                    "text": "RFM Value"
                  }
                }
              }
            }
          },
          "metadata": {},
          "output_type": "display_data"
        }
      ],
      "source": [
        "# Filter the data to include only the customers in the Champions segment\n",
        "champions_segment_24 = df[df['rfm_customer_segments'] == 'Champions']\n",
        "\n",
        "fig = go.Figure()\n",
        "fig.add_trace(go.Box(y=champions_segment_24['recency_score'], name='Recency', boxpoints='all'))\n",
        "fig.add_trace(go.Box(y=champions_segment_24['frequency_score'], name='Frequency', boxpoints='all'))\n",
        "fig.add_trace(go.Box(y=champions_segment_24['monetary_score'], name='Monetary', boxpoints='all'))\n",
        "\n",
        "fig.update_layout(title='Distribution of RFM Values within Champions Segment',\n",
        "                yaxis_title='RFM Value',\n",
        "                title_x= 0.5,\n",
        "                showlegend=True)\n",
        "\n",
        "fig.show()"
      ]
    },
    {
      "cell_type": "markdown",
      "metadata": {
        "id": "hTyKDrJitX1h"
      },
      "source": [
        "The next focus turns to the **Champions**, the most valuable segment. Through this boxplot, we can observe how the R (Recency), F (Frequency), and M (Monetary) scores are distributed within this group.\n",
        "\n",
        "It turns out that the **Monetary** scores are consistently high, indicating that these customers make large purchases. The **Frequency** scores are also high, but with a wider spread, suggesting variation in how often they purchase. Interestingly, the **Recency** scores show| a narrower distribution, meaning that most of these customers have made purchases recently, reinforcing their status as \"active and loyal.\"\n",
        "\n",
        "This pattern reveals that Champions are not only frequent and high-spending customers, but also **recently** active, making them the best candidates for retention."
      ]
    },
    {
      "cell_type": "markdown",
      "metadata": {
        "id": "JyMnC3w3ewmq"
      },
      "source": [
        "## RFM Correlation"
      ]
    },
    {
      "cell_type": "code",
      "execution_count": 70,
      "metadata": {
        "colab": {
          "base_uri": "https://localhost:8080/",
          "height": 542
        },
        "id": "sgUUlHDrewmq",
        "outputId": "0e516169-825e-4f4b-b961-3cc19ee8c4f6"
      },
      "outputs": [
        {
          "data": {
            "application/vnd.plotly.v1+json": {
              "config": {
                "plotlyServerURL": "https://plot.ly"
              },
              "data": [
                {
                  "colorbar": {
                    "title": {
                      "text": "Correlation"
                    }
                  },
                  "colorscale": [
                    [
                      0,
                      "rgb(103,0,31)"
                    ],
                    [
                      0.1,
                      "rgb(178,24,43)"
                    ],
                    [
                      0.2,
                      "rgb(214,96,77)"
                    ],
                    [
                      0.3,
                      "rgb(244,165,130)"
                    ],
                    [
                      0.4,
                      "rgb(253,219,199)"
                    ],
                    [
                      0.5,
                      "rgb(247,247,247)"
                    ],
                    [
                      0.6,
                      "rgb(209,229,240)"
                    ],
                    [
                      0.7,
                      "rgb(146,197,222)"
                    ],
                    [
                      0.8,
                      "rgb(67,147,195)"
                    ],
                    [
                      0.9,
                      "rgb(33,102,172)"
                    ],
                    [
                      1,
                      "rgb(5,48,97)"
                    ]
                  ],
                  "type": "heatmap",
                  "x": [
                    "recency_score",
                    "frequency_score",
                    "monetary_score"
                  ],
                  "y": [
                    "recency_score",
                    "frequency_score",
                    "monetary_score"
                  ],
                  "z": {
                    "bdata": "AAAAAAAA8D/oFFRu8ofEP2oITOhwoc6/6BRUbvKHxD8AAAAAAADwP+YURKwPqtY/aghM6HChzr/mFESsD6rWPwAAAAAAAPA/",
                    "dtype": "f8",
                    "shape": "3, 3"
                  }
                }
              ],
              "layout": {
                "template": {
                  "data": {
                    "bar": [
                      {
                        "error_x": {
                          "color": "#2a3f5f"
                        },
                        "error_y": {
                          "color": "#2a3f5f"
                        },
                        "marker": {
                          "line": {
                            "color": "#E5ECF6",
                            "width": 0.5
                          },
                          "pattern": {
                            "fillmode": "overlay",
                            "size": 10,
                            "solidity": 0.2
                          }
                        },
                        "type": "bar"
                      }
                    ],
                    "barpolar": [
                      {
                        "marker": {
                          "line": {
                            "color": "#E5ECF6",
                            "width": 0.5
                          },
                          "pattern": {
                            "fillmode": "overlay",
                            "size": 10,
                            "solidity": 0.2
                          }
                        },
                        "type": "barpolar"
                      }
                    ],
                    "carpet": [
                      {
                        "aaxis": {
                          "endlinecolor": "#2a3f5f",
                          "gridcolor": "white",
                          "linecolor": "white",
                          "minorgridcolor": "white",
                          "startlinecolor": "#2a3f5f"
                        },
                        "baxis": {
                          "endlinecolor": "#2a3f5f",
                          "gridcolor": "white",
                          "linecolor": "white",
                          "minorgridcolor": "white",
                          "startlinecolor": "#2a3f5f"
                        },
                        "type": "carpet"
                      }
                    ],
                    "choropleth": [
                      {
                        "colorbar": {
                          "outlinewidth": 0,
                          "ticks": ""
                        },
                        "type": "choropleth"
                      }
                    ],
                    "contour": [
                      {
                        "colorbar": {
                          "outlinewidth": 0,
                          "ticks": ""
                        },
                        "colorscale": [
                          [
                            0,
                            "#0d0887"
                          ],
                          [
                            0.1111111111111111,
                            "#46039f"
                          ],
                          [
                            0.2222222222222222,
                            "#7201a8"
                          ],
                          [
                            0.3333333333333333,
                            "#9c179e"
                          ],
                          [
                            0.4444444444444444,
                            "#bd3786"
                          ],
                          [
                            0.5555555555555556,
                            "#d8576b"
                          ],
                          [
                            0.6666666666666666,
                            "#ed7953"
                          ],
                          [
                            0.7777777777777778,
                            "#fb9f3a"
                          ],
                          [
                            0.8888888888888888,
                            "#fdca26"
                          ],
                          [
                            1,
                            "#f0f921"
                          ]
                        ],
                        "type": "contour"
                      }
                    ],
                    "contourcarpet": [
                      {
                        "colorbar": {
                          "outlinewidth": 0,
                          "ticks": ""
                        },
                        "type": "contourcarpet"
                      }
                    ],
                    "heatmap": [
                      {
                        "colorbar": {
                          "outlinewidth": 0,
                          "ticks": ""
                        },
                        "colorscale": [
                          [
                            0,
                            "#0d0887"
                          ],
                          [
                            0.1111111111111111,
                            "#46039f"
                          ],
                          [
                            0.2222222222222222,
                            "#7201a8"
                          ],
                          [
                            0.3333333333333333,
                            "#9c179e"
                          ],
                          [
                            0.4444444444444444,
                            "#bd3786"
                          ],
                          [
                            0.5555555555555556,
                            "#d8576b"
                          ],
                          [
                            0.6666666666666666,
                            "#ed7953"
                          ],
                          [
                            0.7777777777777778,
                            "#fb9f3a"
                          ],
                          [
                            0.8888888888888888,
                            "#fdca26"
                          ],
                          [
                            1,
                            "#f0f921"
                          ]
                        ],
                        "type": "heatmap"
                      }
                    ],
                    "histogram": [
                      {
                        "marker": {
                          "pattern": {
                            "fillmode": "overlay",
                            "size": 10,
                            "solidity": 0.2
                          }
                        },
                        "type": "histogram"
                      }
                    ],
                    "histogram2d": [
                      {
                        "colorbar": {
                          "outlinewidth": 0,
                          "ticks": ""
                        },
                        "colorscale": [
                          [
                            0,
                            "#0d0887"
                          ],
                          [
                            0.1111111111111111,
                            "#46039f"
                          ],
                          [
                            0.2222222222222222,
                            "#7201a8"
                          ],
                          [
                            0.3333333333333333,
                            "#9c179e"
                          ],
                          [
                            0.4444444444444444,
                            "#bd3786"
                          ],
                          [
                            0.5555555555555556,
                            "#d8576b"
                          ],
                          [
                            0.6666666666666666,
                            "#ed7953"
                          ],
                          [
                            0.7777777777777778,
                            "#fb9f3a"
                          ],
                          [
                            0.8888888888888888,
                            "#fdca26"
                          ],
                          [
                            1,
                            "#f0f921"
                          ]
                        ],
                        "type": "histogram2d"
                      }
                    ],
                    "histogram2dcontour": [
                      {
                        "colorbar": {
                          "outlinewidth": 0,
                          "ticks": ""
                        },
                        "colorscale": [
                          [
                            0,
                            "#0d0887"
                          ],
                          [
                            0.1111111111111111,
                            "#46039f"
                          ],
                          [
                            0.2222222222222222,
                            "#7201a8"
                          ],
                          [
                            0.3333333333333333,
                            "#9c179e"
                          ],
                          [
                            0.4444444444444444,
                            "#bd3786"
                          ],
                          [
                            0.5555555555555556,
                            "#d8576b"
                          ],
                          [
                            0.6666666666666666,
                            "#ed7953"
                          ],
                          [
                            0.7777777777777778,
                            "#fb9f3a"
                          ],
                          [
                            0.8888888888888888,
                            "#fdca26"
                          ],
                          [
                            1,
                            "#f0f921"
                          ]
                        ],
                        "type": "histogram2dcontour"
                      }
                    ],
                    "mesh3d": [
                      {
                        "colorbar": {
                          "outlinewidth": 0,
                          "ticks": ""
                        },
                        "type": "mesh3d"
                      }
                    ],
                    "parcoords": [
                      {
                        "line": {
                          "colorbar": {
                            "outlinewidth": 0,
                            "ticks": ""
                          }
                        },
                        "type": "parcoords"
                      }
                    ],
                    "pie": [
                      {
                        "automargin": true,
                        "type": "pie"
                      }
                    ],
                    "scatter": [
                      {
                        "fillpattern": {
                          "fillmode": "overlay",
                          "size": 10,
                          "solidity": 0.2
                        },
                        "type": "scatter"
                      }
                    ],
                    "scatter3d": [
                      {
                        "line": {
                          "colorbar": {
                            "outlinewidth": 0,
                            "ticks": ""
                          }
                        },
                        "marker": {
                          "colorbar": {
                            "outlinewidth": 0,
                            "ticks": ""
                          }
                        },
                        "type": "scatter3d"
                      }
                    ],
                    "scattercarpet": [
                      {
                        "marker": {
                          "colorbar": {
                            "outlinewidth": 0,
                            "ticks": ""
                          }
                        },
                        "type": "scattercarpet"
                      }
                    ],
                    "scattergeo": [
                      {
                        "marker": {
                          "colorbar": {
                            "outlinewidth": 0,
                            "ticks": ""
                          }
                        },
                        "type": "scattergeo"
                      }
                    ],
                    "scattergl": [
                      {
                        "marker": {
                          "colorbar": {
                            "outlinewidth": 0,
                            "ticks": ""
                          }
                        },
                        "type": "scattergl"
                      }
                    ],
                    "scattermap": [
                      {
                        "marker": {
                          "colorbar": {
                            "outlinewidth": 0,
                            "ticks": ""
                          }
                        },
                        "type": "scattermap"
                      }
                    ],
                    "scattermapbox": [
                      {
                        "marker": {
                          "colorbar": {
                            "outlinewidth": 0,
                            "ticks": ""
                          }
                        },
                        "type": "scattermapbox"
                      }
                    ],
                    "scatterpolar": [
                      {
                        "marker": {
                          "colorbar": {
                            "outlinewidth": 0,
                            "ticks": ""
                          }
                        },
                        "type": "scatterpolar"
                      }
                    ],
                    "scatterpolargl": [
                      {
                        "marker": {
                          "colorbar": {
                            "outlinewidth": 0,
                            "ticks": ""
                          }
                        },
                        "type": "scatterpolargl"
                      }
                    ],
                    "scatterternary": [
                      {
                        "marker": {
                          "colorbar": {
                            "outlinewidth": 0,
                            "ticks": ""
                          }
                        },
                        "type": "scatterternary"
                      }
                    ],
                    "surface": [
                      {
                        "colorbar": {
                          "outlinewidth": 0,
                          "ticks": ""
                        },
                        "colorscale": [
                          [
                            0,
                            "#0d0887"
                          ],
                          [
                            0.1111111111111111,
                            "#46039f"
                          ],
                          [
                            0.2222222222222222,
                            "#7201a8"
                          ],
                          [
                            0.3333333333333333,
                            "#9c179e"
                          ],
                          [
                            0.4444444444444444,
                            "#bd3786"
                          ],
                          [
                            0.5555555555555556,
                            "#d8576b"
                          ],
                          [
                            0.6666666666666666,
                            "#ed7953"
                          ],
                          [
                            0.7777777777777778,
                            "#fb9f3a"
                          ],
                          [
                            0.8888888888888888,
                            "#fdca26"
                          ],
                          [
                            1,
                            "#f0f921"
                          ]
                        ],
                        "type": "surface"
                      }
                    ],
                    "table": [
                      {
                        "cells": {
                          "fill": {
                            "color": "#EBF0F8"
                          },
                          "line": {
                            "color": "white"
                          }
                        },
                        "header": {
                          "fill": {
                            "color": "#C8D4E3"
                          },
                          "line": {
                            "color": "white"
                          }
                        },
                        "type": "table"
                      }
                    ]
                  },
                  "layout": {
                    "annotationdefaults": {
                      "arrowcolor": "#2a3f5f",
                      "arrowhead": 0,
                      "arrowwidth": 1
                    },
                    "autotypenumbers": "strict",
                    "coloraxis": {
                      "colorbar": {
                        "outlinewidth": 0,
                        "ticks": ""
                      }
                    },
                    "colorscale": {
                      "diverging": [
                        [
                          0,
                          "#8e0152"
                        ],
                        [
                          0.1,
                          "#c51b7d"
                        ],
                        [
                          0.2,
                          "#de77ae"
                        ],
                        [
                          0.3,
                          "#f1b6da"
                        ],
                        [
                          0.4,
                          "#fde0ef"
                        ],
                        [
                          0.5,
                          "#f7f7f7"
                        ],
                        [
                          0.6,
                          "#e6f5d0"
                        ],
                        [
                          0.7,
                          "#b8e186"
                        ],
                        [
                          0.8,
                          "#7fbc41"
                        ],
                        [
                          0.9,
                          "#4d9221"
                        ],
                        [
                          1,
                          "#276419"
                        ]
                      ],
                      "sequential": [
                        [
                          0,
                          "#0d0887"
                        ],
                        [
                          0.1111111111111111,
                          "#46039f"
                        ],
                        [
                          0.2222222222222222,
                          "#7201a8"
                        ],
                        [
                          0.3333333333333333,
                          "#9c179e"
                        ],
                        [
                          0.4444444444444444,
                          "#bd3786"
                        ],
                        [
                          0.5555555555555556,
                          "#d8576b"
                        ],
                        [
                          0.6666666666666666,
                          "#ed7953"
                        ],
                        [
                          0.7777777777777778,
                          "#fb9f3a"
                        ],
                        [
                          0.8888888888888888,
                          "#fdca26"
                        ],
                        [
                          1,
                          "#f0f921"
                        ]
                      ],
                      "sequentialminus": [
                        [
                          0,
                          "#0d0887"
                        ],
                        [
                          0.1111111111111111,
                          "#46039f"
                        ],
                        [
                          0.2222222222222222,
                          "#7201a8"
                        ],
                        [
                          0.3333333333333333,
                          "#9c179e"
                        ],
                        [
                          0.4444444444444444,
                          "#bd3786"
                        ],
                        [
                          0.5555555555555556,
                          "#d8576b"
                        ],
                        [
                          0.6666666666666666,
                          "#ed7953"
                        ],
                        [
                          0.7777777777777778,
                          "#fb9f3a"
                        ],
                        [
                          0.8888888888888888,
                          "#fdca26"
                        ],
                        [
                          1,
                          "#f0f921"
                        ]
                      ]
                    },
                    "colorway": [
                      "#636efa",
                      "#EF553B",
                      "#00cc96",
                      "#ab63fa",
                      "#FFA15A",
                      "#19d3f3",
                      "#FF6692",
                      "#B6E880",
                      "#FF97FF",
                      "#FECB52"
                    ],
                    "font": {
                      "color": "#2a3f5f"
                    },
                    "geo": {
                      "bgcolor": "white",
                      "lakecolor": "white",
                      "landcolor": "#E5ECF6",
                      "showlakes": true,
                      "showland": true,
                      "subunitcolor": "white"
                    },
                    "hoverlabel": {
                      "align": "left"
                    },
                    "hovermode": "closest",
                    "mapbox": {
                      "style": "light"
                    },
                    "paper_bgcolor": "white",
                    "plot_bgcolor": "#E5ECF6",
                    "polar": {
                      "angularaxis": {
                        "gridcolor": "white",
                        "linecolor": "white",
                        "ticks": ""
                      },
                      "bgcolor": "#E5ECF6",
                      "radialaxis": {
                        "gridcolor": "white",
                        "linecolor": "white",
                        "ticks": ""
                      }
                    },
                    "scene": {
                      "xaxis": {
                        "backgroundcolor": "#E5ECF6",
                        "gridcolor": "white",
                        "gridwidth": 2,
                        "linecolor": "white",
                        "showbackground": true,
                        "ticks": "",
                        "zerolinecolor": "white"
                      },
                      "yaxis": {
                        "backgroundcolor": "#E5ECF6",
                        "gridcolor": "white",
                        "gridwidth": 2,
                        "linecolor": "white",
                        "showbackground": true,
                        "ticks": "",
                        "zerolinecolor": "white"
                      },
                      "zaxis": {
                        "backgroundcolor": "#E5ECF6",
                        "gridcolor": "white",
                        "gridwidth": 2,
                        "linecolor": "white",
                        "showbackground": true,
                        "ticks": "",
                        "zerolinecolor": "white"
                      }
                    },
                    "shapedefaults": {
                      "line": {
                        "color": "#2a3f5f"
                      }
                    },
                    "ternary": {
                      "aaxis": {
                        "gridcolor": "white",
                        "linecolor": "white",
                        "ticks": ""
                      },
                      "baxis": {
                        "gridcolor": "white",
                        "linecolor": "white",
                        "ticks": ""
                      },
                      "bgcolor": "#E5ECF6",
                      "caxis": {
                        "gridcolor": "white",
                        "linecolor": "white",
                        "ticks": ""
                      }
                    },
                    "title": {
                      "x": 0.05
                    },
                    "xaxis": {
                      "automargin": true,
                      "gridcolor": "white",
                      "linecolor": "white",
                      "ticks": "",
                      "title": {
                        "standoff": 15
                      },
                      "zerolinecolor": "white",
                      "zerolinewidth": 2
                    },
                    "yaxis": {
                      "automargin": true,
                      "gridcolor": "white",
                      "linecolor": "white",
                      "ticks": "",
                      "title": {
                        "standoff": 15
                      },
                      "zerolinecolor": "white",
                      "zerolinewidth": 2
                    }
                  }
                },
                "title": {
                  "text": "Correlation Matrix of RFM Values within Champions Segment",
                  "x": 0.5
                }
              }
            }
          },
          "metadata": {},
          "output_type": "display_data"
        }
      ],
      "source": [
        "correlation_matrix_24 = champions_segment_24[['recency_score', 'frequency_score', 'monetary_score']].corr()\n",
        "\n",
        "# Visualize the correlation matrix using a heatmap\n",
        "fig_heatmap = go.Figure(data=go.Heatmap(\n",
        "                   z=correlation_matrix_24.values,\n",
        "                   x=correlation_matrix_24.columns,\n",
        "                   y=correlation_matrix_24.columns,\n",
        "                   colorscale='RdBu',\n",
        "                   colorbar=dict(title='Correlation')))\n",
        "\n",
        "fig_heatmap.update_layout(title='Correlation Matrix of RFM Values within Champions Segment',\n",
        "                          title_x= 0.5)\n",
        "\n",
        "fig_heatmap.show()"
      ]
    },
    {
      "cell_type": "markdown",
      "metadata": {
        "id": "g8RgFdq3udMf"
      },
      "source": [
        "Through this correlation heatmap, we explore the relationships between metrics within the Champions segment. Interestingly, there is a negative correlation between the recency_score and monetary_score. This means that customers who have transacted recently (high recency score) tend to have lower spending values.<br>\n",
        "\n",
        "This could indicate that some Champions customers have made recent purchases, but not in large amounts. Meanwhile, customers with high-value purchases made them some time ago, yet remain generally active enough to still be classified as Champions.<br>\n",
        "\n",
        "Conversely, frequency and monetary show a positive correlation, which intuitively makes sense — customers who buy more frequently also tend to generate higher value.<br>"
      ]
    },
    {
      "cell_type": "markdown",
      "metadata": {
        "id": "kHFcStkeewmq"
      },
      "source": [
        "## Comparison of RFM Segments"
      ]
    },
    {
      "cell_type": "code",
      "execution_count": 71,
      "metadata": {
        "colab": {
          "base_uri": "https://localhost:8080/",
          "height": 542
        },
        "id": "ODr7rW2-ewmq",
        "outputId": "461cdd14-a9b6-462d-bff0-739ee07ce6ba"
      },
      "outputs": [
        {
          "data": {
            "application/vnd.plotly.v1+json": {
              "config": {
                "plotlyServerURL": "https://plot.ly"
              },
              "data": [
                {
                  "marker": {
                    "color": [
                      "rgb(102, 197, 204)",
                      "rgb(246, 207, 113)",
                      "rgb(248, 156, 116)",
                      "rgb(220, 176, 242)",
                      "rgb(158, 202, 225)"
                    ],
                    "line": {
                      "color": "rgb(8, 48, 107)",
                      "width": 1.5
                    }
                  },
                  "opacity": 0.6,
                  "type": "bar",
                  "x": [
                    "Potential Loyalists",
                    "Lost",
                    "Can't Lose",
                    "At Risk Customers",
                    "Champions"
                  ],
                  "y": {
                    "bdata": "IgHpAKoAgAAQAA==",
                    "dtype": "i2"
                  }
                }
              ],
              "layout": {
                "showlegend": false,
                "template": {
                  "data": {
                    "bar": [
                      {
                        "error_x": {
                          "color": "#2a3f5f"
                        },
                        "error_y": {
                          "color": "#2a3f5f"
                        },
                        "marker": {
                          "line": {
                            "color": "#E5ECF6",
                            "width": 0.5
                          },
                          "pattern": {
                            "fillmode": "overlay",
                            "size": 10,
                            "solidity": 0.2
                          }
                        },
                        "type": "bar"
                      }
                    ],
                    "barpolar": [
                      {
                        "marker": {
                          "line": {
                            "color": "#E5ECF6",
                            "width": 0.5
                          },
                          "pattern": {
                            "fillmode": "overlay",
                            "size": 10,
                            "solidity": 0.2
                          }
                        },
                        "type": "barpolar"
                      }
                    ],
                    "carpet": [
                      {
                        "aaxis": {
                          "endlinecolor": "#2a3f5f",
                          "gridcolor": "white",
                          "linecolor": "white",
                          "minorgridcolor": "white",
                          "startlinecolor": "#2a3f5f"
                        },
                        "baxis": {
                          "endlinecolor": "#2a3f5f",
                          "gridcolor": "white",
                          "linecolor": "white",
                          "minorgridcolor": "white",
                          "startlinecolor": "#2a3f5f"
                        },
                        "type": "carpet"
                      }
                    ],
                    "choropleth": [
                      {
                        "colorbar": {
                          "outlinewidth": 0,
                          "ticks": ""
                        },
                        "type": "choropleth"
                      }
                    ],
                    "contour": [
                      {
                        "colorbar": {
                          "outlinewidth": 0,
                          "ticks": ""
                        },
                        "colorscale": [
                          [
                            0,
                            "#0d0887"
                          ],
                          [
                            0.1111111111111111,
                            "#46039f"
                          ],
                          [
                            0.2222222222222222,
                            "#7201a8"
                          ],
                          [
                            0.3333333333333333,
                            "#9c179e"
                          ],
                          [
                            0.4444444444444444,
                            "#bd3786"
                          ],
                          [
                            0.5555555555555556,
                            "#d8576b"
                          ],
                          [
                            0.6666666666666666,
                            "#ed7953"
                          ],
                          [
                            0.7777777777777778,
                            "#fb9f3a"
                          ],
                          [
                            0.8888888888888888,
                            "#fdca26"
                          ],
                          [
                            1,
                            "#f0f921"
                          ]
                        ],
                        "type": "contour"
                      }
                    ],
                    "contourcarpet": [
                      {
                        "colorbar": {
                          "outlinewidth": 0,
                          "ticks": ""
                        },
                        "type": "contourcarpet"
                      }
                    ],
                    "heatmap": [
                      {
                        "colorbar": {
                          "outlinewidth": 0,
                          "ticks": ""
                        },
                        "colorscale": [
                          [
                            0,
                            "#0d0887"
                          ],
                          [
                            0.1111111111111111,
                            "#46039f"
                          ],
                          [
                            0.2222222222222222,
                            "#7201a8"
                          ],
                          [
                            0.3333333333333333,
                            "#9c179e"
                          ],
                          [
                            0.4444444444444444,
                            "#bd3786"
                          ],
                          [
                            0.5555555555555556,
                            "#d8576b"
                          ],
                          [
                            0.6666666666666666,
                            "#ed7953"
                          ],
                          [
                            0.7777777777777778,
                            "#fb9f3a"
                          ],
                          [
                            0.8888888888888888,
                            "#fdca26"
                          ],
                          [
                            1,
                            "#f0f921"
                          ]
                        ],
                        "type": "heatmap"
                      }
                    ],
                    "histogram": [
                      {
                        "marker": {
                          "pattern": {
                            "fillmode": "overlay",
                            "size": 10,
                            "solidity": 0.2
                          }
                        },
                        "type": "histogram"
                      }
                    ],
                    "histogram2d": [
                      {
                        "colorbar": {
                          "outlinewidth": 0,
                          "ticks": ""
                        },
                        "colorscale": [
                          [
                            0,
                            "#0d0887"
                          ],
                          [
                            0.1111111111111111,
                            "#46039f"
                          ],
                          [
                            0.2222222222222222,
                            "#7201a8"
                          ],
                          [
                            0.3333333333333333,
                            "#9c179e"
                          ],
                          [
                            0.4444444444444444,
                            "#bd3786"
                          ],
                          [
                            0.5555555555555556,
                            "#d8576b"
                          ],
                          [
                            0.6666666666666666,
                            "#ed7953"
                          ],
                          [
                            0.7777777777777778,
                            "#fb9f3a"
                          ],
                          [
                            0.8888888888888888,
                            "#fdca26"
                          ],
                          [
                            1,
                            "#f0f921"
                          ]
                        ],
                        "type": "histogram2d"
                      }
                    ],
                    "histogram2dcontour": [
                      {
                        "colorbar": {
                          "outlinewidth": 0,
                          "ticks": ""
                        },
                        "colorscale": [
                          [
                            0,
                            "#0d0887"
                          ],
                          [
                            0.1111111111111111,
                            "#46039f"
                          ],
                          [
                            0.2222222222222222,
                            "#7201a8"
                          ],
                          [
                            0.3333333333333333,
                            "#9c179e"
                          ],
                          [
                            0.4444444444444444,
                            "#bd3786"
                          ],
                          [
                            0.5555555555555556,
                            "#d8576b"
                          ],
                          [
                            0.6666666666666666,
                            "#ed7953"
                          ],
                          [
                            0.7777777777777778,
                            "#fb9f3a"
                          ],
                          [
                            0.8888888888888888,
                            "#fdca26"
                          ],
                          [
                            1,
                            "#f0f921"
                          ]
                        ],
                        "type": "histogram2dcontour"
                      }
                    ],
                    "mesh3d": [
                      {
                        "colorbar": {
                          "outlinewidth": 0,
                          "ticks": ""
                        },
                        "type": "mesh3d"
                      }
                    ],
                    "parcoords": [
                      {
                        "line": {
                          "colorbar": {
                            "outlinewidth": 0,
                            "ticks": ""
                          }
                        },
                        "type": "parcoords"
                      }
                    ],
                    "pie": [
                      {
                        "automargin": true,
                        "type": "pie"
                      }
                    ],
                    "scatter": [
                      {
                        "fillpattern": {
                          "fillmode": "overlay",
                          "size": 10,
                          "solidity": 0.2
                        },
                        "type": "scatter"
                      }
                    ],
                    "scatter3d": [
                      {
                        "line": {
                          "colorbar": {
                            "outlinewidth": 0,
                            "ticks": ""
                          }
                        },
                        "marker": {
                          "colorbar": {
                            "outlinewidth": 0,
                            "ticks": ""
                          }
                        },
                        "type": "scatter3d"
                      }
                    ],
                    "scattercarpet": [
                      {
                        "marker": {
                          "colorbar": {
                            "outlinewidth": 0,
                            "ticks": ""
                          }
                        },
                        "type": "scattercarpet"
                      }
                    ],
                    "scattergeo": [
                      {
                        "marker": {
                          "colorbar": {
                            "outlinewidth": 0,
                            "ticks": ""
                          }
                        },
                        "type": "scattergeo"
                      }
                    ],
                    "scattergl": [
                      {
                        "marker": {
                          "colorbar": {
                            "outlinewidth": 0,
                            "ticks": ""
                          }
                        },
                        "type": "scattergl"
                      }
                    ],
                    "scattermap": [
                      {
                        "marker": {
                          "colorbar": {
                            "outlinewidth": 0,
                            "ticks": ""
                          }
                        },
                        "type": "scattermap"
                      }
                    ],
                    "scattermapbox": [
                      {
                        "marker": {
                          "colorbar": {
                            "outlinewidth": 0,
                            "ticks": ""
                          }
                        },
                        "type": "scattermapbox"
                      }
                    ],
                    "scatterpolar": [
                      {
                        "marker": {
                          "colorbar": {
                            "outlinewidth": 0,
                            "ticks": ""
                          }
                        },
                        "type": "scatterpolar"
                      }
                    ],
                    "scatterpolargl": [
                      {
                        "marker": {
                          "colorbar": {
                            "outlinewidth": 0,
                            "ticks": ""
                          }
                        },
                        "type": "scatterpolargl"
                      }
                    ],
                    "scatterternary": [
                      {
                        "marker": {
                          "colorbar": {
                            "outlinewidth": 0,
                            "ticks": ""
                          }
                        },
                        "type": "scatterternary"
                      }
                    ],
                    "surface": [
                      {
                        "colorbar": {
                          "outlinewidth": 0,
                          "ticks": ""
                        },
                        "colorscale": [
                          [
                            0,
                            "#0d0887"
                          ],
                          [
                            0.1111111111111111,
                            "#46039f"
                          ],
                          [
                            0.2222222222222222,
                            "#7201a8"
                          ],
                          [
                            0.3333333333333333,
                            "#9c179e"
                          ],
                          [
                            0.4444444444444444,
                            "#bd3786"
                          ],
                          [
                            0.5555555555555556,
                            "#d8576b"
                          ],
                          [
                            0.6666666666666666,
                            "#ed7953"
                          ],
                          [
                            0.7777777777777778,
                            "#fb9f3a"
                          ],
                          [
                            0.8888888888888888,
                            "#fdca26"
                          ],
                          [
                            1,
                            "#f0f921"
                          ]
                        ],
                        "type": "surface"
                      }
                    ],
                    "table": [
                      {
                        "cells": {
                          "fill": {
                            "color": "#EBF0F8"
                          },
                          "line": {
                            "color": "white"
                          }
                        },
                        "header": {
                          "fill": {
                            "color": "#C8D4E3"
                          },
                          "line": {
                            "color": "white"
                          }
                        },
                        "type": "table"
                      }
                    ]
                  },
                  "layout": {
                    "annotationdefaults": {
                      "arrowcolor": "#2a3f5f",
                      "arrowhead": 0,
                      "arrowwidth": 1
                    },
                    "autotypenumbers": "strict",
                    "coloraxis": {
                      "colorbar": {
                        "outlinewidth": 0,
                        "ticks": ""
                      }
                    },
                    "colorscale": {
                      "diverging": [
                        [
                          0,
                          "#8e0152"
                        ],
                        [
                          0.1,
                          "#c51b7d"
                        ],
                        [
                          0.2,
                          "#de77ae"
                        ],
                        [
                          0.3,
                          "#f1b6da"
                        ],
                        [
                          0.4,
                          "#fde0ef"
                        ],
                        [
                          0.5,
                          "#f7f7f7"
                        ],
                        [
                          0.6,
                          "#e6f5d0"
                        ],
                        [
                          0.7,
                          "#b8e186"
                        ],
                        [
                          0.8,
                          "#7fbc41"
                        ],
                        [
                          0.9,
                          "#4d9221"
                        ],
                        [
                          1,
                          "#276419"
                        ]
                      ],
                      "sequential": [
                        [
                          0,
                          "#0d0887"
                        ],
                        [
                          0.1111111111111111,
                          "#46039f"
                        ],
                        [
                          0.2222222222222222,
                          "#7201a8"
                        ],
                        [
                          0.3333333333333333,
                          "#9c179e"
                        ],
                        [
                          0.4444444444444444,
                          "#bd3786"
                        ],
                        [
                          0.5555555555555556,
                          "#d8576b"
                        ],
                        [
                          0.6666666666666666,
                          "#ed7953"
                        ],
                        [
                          0.7777777777777778,
                          "#fb9f3a"
                        ],
                        [
                          0.8888888888888888,
                          "#fdca26"
                        ],
                        [
                          1,
                          "#f0f921"
                        ]
                      ],
                      "sequentialminus": [
                        [
                          0,
                          "#0d0887"
                        ],
                        [
                          0.1111111111111111,
                          "#46039f"
                        ],
                        [
                          0.2222222222222222,
                          "#7201a8"
                        ],
                        [
                          0.3333333333333333,
                          "#9c179e"
                        ],
                        [
                          0.4444444444444444,
                          "#bd3786"
                        ],
                        [
                          0.5555555555555556,
                          "#d8576b"
                        ],
                        [
                          0.6666666666666666,
                          "#ed7953"
                        ],
                        [
                          0.7777777777777778,
                          "#fb9f3a"
                        ],
                        [
                          0.8888888888888888,
                          "#fdca26"
                        ],
                        [
                          1,
                          "#f0f921"
                        ]
                      ]
                    },
                    "colorway": [
                      "#636efa",
                      "#EF553B",
                      "#00cc96",
                      "#ab63fa",
                      "#FFA15A",
                      "#19d3f3",
                      "#FF6692",
                      "#B6E880",
                      "#FF97FF",
                      "#FECB52"
                    ],
                    "font": {
                      "color": "#2a3f5f"
                    },
                    "geo": {
                      "bgcolor": "white",
                      "lakecolor": "white",
                      "landcolor": "#E5ECF6",
                      "showlakes": true,
                      "showland": true,
                      "subunitcolor": "white"
                    },
                    "hoverlabel": {
                      "align": "left"
                    },
                    "hovermode": "closest",
                    "mapbox": {
                      "style": "light"
                    },
                    "paper_bgcolor": "white",
                    "plot_bgcolor": "#E5ECF6",
                    "polar": {
                      "angularaxis": {
                        "gridcolor": "white",
                        "linecolor": "white",
                        "ticks": ""
                      },
                      "bgcolor": "#E5ECF6",
                      "radialaxis": {
                        "gridcolor": "white",
                        "linecolor": "white",
                        "ticks": ""
                      }
                    },
                    "scene": {
                      "xaxis": {
                        "backgroundcolor": "#E5ECF6",
                        "gridcolor": "white",
                        "gridwidth": 2,
                        "linecolor": "white",
                        "showbackground": true,
                        "ticks": "",
                        "zerolinecolor": "white"
                      },
                      "yaxis": {
                        "backgroundcolor": "#E5ECF6",
                        "gridcolor": "white",
                        "gridwidth": 2,
                        "linecolor": "white",
                        "showbackground": true,
                        "ticks": "",
                        "zerolinecolor": "white"
                      },
                      "zaxis": {
                        "backgroundcolor": "#E5ECF6",
                        "gridcolor": "white",
                        "gridwidth": 2,
                        "linecolor": "white",
                        "showbackground": true,
                        "ticks": "",
                        "zerolinecolor": "white"
                      }
                    },
                    "shapedefaults": {
                      "line": {
                        "color": "#2a3f5f"
                      }
                    },
                    "ternary": {
                      "aaxis": {
                        "gridcolor": "white",
                        "linecolor": "white",
                        "ticks": ""
                      },
                      "baxis": {
                        "gridcolor": "white",
                        "linecolor": "white",
                        "ticks": ""
                      },
                      "bgcolor": "#E5ECF6",
                      "caxis": {
                        "gridcolor": "white",
                        "linecolor": "white",
                        "ticks": ""
                      }
                    },
                    "title": {
                      "x": 0.05
                    },
                    "xaxis": {
                      "automargin": true,
                      "gridcolor": "white",
                      "linecolor": "white",
                      "ticks": "",
                      "title": {
                        "standoff": 15
                      },
                      "zerolinecolor": "white",
                      "zerolinewidth": 2
                    },
                    "yaxis": {
                      "automargin": true,
                      "gridcolor": "white",
                      "linecolor": "white",
                      "ticks": "",
                      "title": {
                        "standoff": 15
                      },
                      "zerolinecolor": "white",
                      "zerolinewidth": 2
                    }
                  }
                },
                "title": {
                  "text": "Comparison of RFM Segments",
                  "x": 0.5
                },
                "xaxis": {
                  "title": {
                    "text": "RFM Segments"
                  }
                },
                "yaxis": {
                  "title": {
                    "text": "Number of Customers"
                  }
                }
              }
            }
          },
          "metadata": {},
          "output_type": "display_data"
        }
      ],
      "source": [
        "pastel_colors = plotly.colors.qualitative.Pastel\n",
        "\n",
        "segment_counts_24 = df['rfm_customer_segments'].value_counts()\n",
        "\n",
        "# Create a bar chart to compare segment counts\n",
        "fig = go.Figure(data=[go.Bar(x=segment_counts_24.index, y=segment_counts_24.values,\n",
        "                            marker=dict(color=pastel_colors))])\n",
        "\n",
        "# Set the color of the Champions segment as a different color\n",
        "champions_color = 'rgb(158, 202, 225)'\n",
        "fig.update_traces(marker_color=[champions_color if segment == 'Champions' else pastel_colors[i]\n",
        "                                for i, segment in enumerate(segment_counts_24.index)],\n",
        "                  marker_line_color='rgb(8, 48, 107)',\n",
        "                  marker_line_width=1.5, opacity=0.6)\n",
        "\n",
        "# Update the layout\n",
        "fig.update_layout(title='Comparison of RFM Segments',\n",
        "                  xaxis_title='RFM Segments',\n",
        "                  yaxis_title='Number of Customers',\n",
        "                  title_x= 0.5,\n",
        "                  showlegend=False)\n",
        "\n",
        "fig.show()"
      ]
    },
    {
      "cell_type": "markdown",
      "metadata": {
        "id": "0S__mcRly5uE"
      },
      "source": [
        "After exploring the individual segments, we return to the helicopter view to compare the number of **customers in each granular segment**.<br>\n",
        "\n",
        "This chart reinforces previous findings: the Potential Loyalists segment dominates in terms of customer count. This group consists of customers who have already demonstrated good frequency and value, but have not yet reached the “Champions” level. If nurtured properly, this group could become the next driver of revenue growth."
      ]
    },
    {
      "cell_type": "markdown",
      "metadata": {
        "id": "LCd1El9yewmr"
      },
      "source": [
        "## Comparison Segments based on RFM Scores"
      ]
    },
    {
      "cell_type": "code",
      "execution_count": 72,
      "metadata": {
        "colab": {
          "base_uri": "https://localhost:8080/",
          "height": 542
        },
        "id": "WizKvfAKewmr",
        "outputId": "d7740f6e-9e12-40a6-add6-6ac3cb4ac230"
      },
      "outputs": [
        {
          "data": {
            "application/vnd.plotly.v1+json": {
              "config": {
                "plotlyServerURL": "https://plot.ly"
              },
              "data": [
                {
                  "marker": {
                    "color": "rgb(158,202,225)"
                  },
                  "name": "Recency Score",
                  "type": "bar",
                  "x": [
                    "At Risk Customers",
                    "Can't Lose",
                    "Champions",
                    "Lost",
                    "Potential Loyalists"
                  ],
                  "y": {
                    "bdata": "AAAAAABgBkAnJycnJyf/PwAAAAAAgA5AAAAAAAAA8D/Cck8jLPcQQA==",
                    "dtype": "f8"
                  }
                },
                {
                  "marker": {
                    "color": "rgb(94,158,217)"
                  },
                  "name": "Frequency Score",
                  "type": "bar",
                  "x": [
                    "At Risk Customers",
                    "Can't Lose",
                    "Champions",
                    "Lost",
                    "Potential Loyalists"
                  ],
                  "y": {
                    "bdata": "AAAAAABA8T8wMDAwMDDwPwAAAAAAQBBAAAAAAAAA8D+IAx5/OODxPw==",
                    "dtype": "f8"
                  }
                },
                {
                  "marker": {
                    "color": "rgb(32,102,148)"
                  },
                  "name": "Monetary Score",
                  "type": "bar",
                  "x": [
                    "At Risk Customers",
                    "Can't Lose",
                    "Champions",
                    "Lost",
                    "Potential Loyalists"
                  ],
                  "y": {
                    "bdata": "AAAAAAAA8j+pqKioqKjwPwAAAAAAgA5AAAAAAAAA8D9MBa2+VNDyPw==",
                    "dtype": "f8"
                  }
                }
              ],
              "layout": {
                "barmode": "group",
                "showlegend": true,
                "template": {
                  "data": {
                    "bar": [
                      {
                        "error_x": {
                          "color": "#2a3f5f"
                        },
                        "error_y": {
                          "color": "#2a3f5f"
                        },
                        "marker": {
                          "line": {
                            "color": "#E5ECF6",
                            "width": 0.5
                          },
                          "pattern": {
                            "fillmode": "overlay",
                            "size": 10,
                            "solidity": 0.2
                          }
                        },
                        "type": "bar"
                      }
                    ],
                    "barpolar": [
                      {
                        "marker": {
                          "line": {
                            "color": "#E5ECF6",
                            "width": 0.5
                          },
                          "pattern": {
                            "fillmode": "overlay",
                            "size": 10,
                            "solidity": 0.2
                          }
                        },
                        "type": "barpolar"
                      }
                    ],
                    "carpet": [
                      {
                        "aaxis": {
                          "endlinecolor": "#2a3f5f",
                          "gridcolor": "white",
                          "linecolor": "white",
                          "minorgridcolor": "white",
                          "startlinecolor": "#2a3f5f"
                        },
                        "baxis": {
                          "endlinecolor": "#2a3f5f",
                          "gridcolor": "white",
                          "linecolor": "white",
                          "minorgridcolor": "white",
                          "startlinecolor": "#2a3f5f"
                        },
                        "type": "carpet"
                      }
                    ],
                    "choropleth": [
                      {
                        "colorbar": {
                          "outlinewidth": 0,
                          "ticks": ""
                        },
                        "type": "choropleth"
                      }
                    ],
                    "contour": [
                      {
                        "colorbar": {
                          "outlinewidth": 0,
                          "ticks": ""
                        },
                        "colorscale": [
                          [
                            0,
                            "#0d0887"
                          ],
                          [
                            0.1111111111111111,
                            "#46039f"
                          ],
                          [
                            0.2222222222222222,
                            "#7201a8"
                          ],
                          [
                            0.3333333333333333,
                            "#9c179e"
                          ],
                          [
                            0.4444444444444444,
                            "#bd3786"
                          ],
                          [
                            0.5555555555555556,
                            "#d8576b"
                          ],
                          [
                            0.6666666666666666,
                            "#ed7953"
                          ],
                          [
                            0.7777777777777778,
                            "#fb9f3a"
                          ],
                          [
                            0.8888888888888888,
                            "#fdca26"
                          ],
                          [
                            1,
                            "#f0f921"
                          ]
                        ],
                        "type": "contour"
                      }
                    ],
                    "contourcarpet": [
                      {
                        "colorbar": {
                          "outlinewidth": 0,
                          "ticks": ""
                        },
                        "type": "contourcarpet"
                      }
                    ],
                    "heatmap": [
                      {
                        "colorbar": {
                          "outlinewidth": 0,
                          "ticks": ""
                        },
                        "colorscale": [
                          [
                            0,
                            "#0d0887"
                          ],
                          [
                            0.1111111111111111,
                            "#46039f"
                          ],
                          [
                            0.2222222222222222,
                            "#7201a8"
                          ],
                          [
                            0.3333333333333333,
                            "#9c179e"
                          ],
                          [
                            0.4444444444444444,
                            "#bd3786"
                          ],
                          [
                            0.5555555555555556,
                            "#d8576b"
                          ],
                          [
                            0.6666666666666666,
                            "#ed7953"
                          ],
                          [
                            0.7777777777777778,
                            "#fb9f3a"
                          ],
                          [
                            0.8888888888888888,
                            "#fdca26"
                          ],
                          [
                            1,
                            "#f0f921"
                          ]
                        ],
                        "type": "heatmap"
                      }
                    ],
                    "histogram": [
                      {
                        "marker": {
                          "pattern": {
                            "fillmode": "overlay",
                            "size": 10,
                            "solidity": 0.2
                          }
                        },
                        "type": "histogram"
                      }
                    ],
                    "histogram2d": [
                      {
                        "colorbar": {
                          "outlinewidth": 0,
                          "ticks": ""
                        },
                        "colorscale": [
                          [
                            0,
                            "#0d0887"
                          ],
                          [
                            0.1111111111111111,
                            "#46039f"
                          ],
                          [
                            0.2222222222222222,
                            "#7201a8"
                          ],
                          [
                            0.3333333333333333,
                            "#9c179e"
                          ],
                          [
                            0.4444444444444444,
                            "#bd3786"
                          ],
                          [
                            0.5555555555555556,
                            "#d8576b"
                          ],
                          [
                            0.6666666666666666,
                            "#ed7953"
                          ],
                          [
                            0.7777777777777778,
                            "#fb9f3a"
                          ],
                          [
                            0.8888888888888888,
                            "#fdca26"
                          ],
                          [
                            1,
                            "#f0f921"
                          ]
                        ],
                        "type": "histogram2d"
                      }
                    ],
                    "histogram2dcontour": [
                      {
                        "colorbar": {
                          "outlinewidth": 0,
                          "ticks": ""
                        },
                        "colorscale": [
                          [
                            0,
                            "#0d0887"
                          ],
                          [
                            0.1111111111111111,
                            "#46039f"
                          ],
                          [
                            0.2222222222222222,
                            "#7201a8"
                          ],
                          [
                            0.3333333333333333,
                            "#9c179e"
                          ],
                          [
                            0.4444444444444444,
                            "#bd3786"
                          ],
                          [
                            0.5555555555555556,
                            "#d8576b"
                          ],
                          [
                            0.6666666666666666,
                            "#ed7953"
                          ],
                          [
                            0.7777777777777778,
                            "#fb9f3a"
                          ],
                          [
                            0.8888888888888888,
                            "#fdca26"
                          ],
                          [
                            1,
                            "#f0f921"
                          ]
                        ],
                        "type": "histogram2dcontour"
                      }
                    ],
                    "mesh3d": [
                      {
                        "colorbar": {
                          "outlinewidth": 0,
                          "ticks": ""
                        },
                        "type": "mesh3d"
                      }
                    ],
                    "parcoords": [
                      {
                        "line": {
                          "colorbar": {
                            "outlinewidth": 0,
                            "ticks": ""
                          }
                        },
                        "type": "parcoords"
                      }
                    ],
                    "pie": [
                      {
                        "automargin": true,
                        "type": "pie"
                      }
                    ],
                    "scatter": [
                      {
                        "fillpattern": {
                          "fillmode": "overlay",
                          "size": 10,
                          "solidity": 0.2
                        },
                        "type": "scatter"
                      }
                    ],
                    "scatter3d": [
                      {
                        "line": {
                          "colorbar": {
                            "outlinewidth": 0,
                            "ticks": ""
                          }
                        },
                        "marker": {
                          "colorbar": {
                            "outlinewidth": 0,
                            "ticks": ""
                          }
                        },
                        "type": "scatter3d"
                      }
                    ],
                    "scattercarpet": [
                      {
                        "marker": {
                          "colorbar": {
                            "outlinewidth": 0,
                            "ticks": ""
                          }
                        },
                        "type": "scattercarpet"
                      }
                    ],
                    "scattergeo": [
                      {
                        "marker": {
                          "colorbar": {
                            "outlinewidth": 0,
                            "ticks": ""
                          }
                        },
                        "type": "scattergeo"
                      }
                    ],
                    "scattergl": [
                      {
                        "marker": {
                          "colorbar": {
                            "outlinewidth": 0,
                            "ticks": ""
                          }
                        },
                        "type": "scattergl"
                      }
                    ],
                    "scattermap": [
                      {
                        "marker": {
                          "colorbar": {
                            "outlinewidth": 0,
                            "ticks": ""
                          }
                        },
                        "type": "scattermap"
                      }
                    ],
                    "scattermapbox": [
                      {
                        "marker": {
                          "colorbar": {
                            "outlinewidth": 0,
                            "ticks": ""
                          }
                        },
                        "type": "scattermapbox"
                      }
                    ],
                    "scatterpolar": [
                      {
                        "marker": {
                          "colorbar": {
                            "outlinewidth": 0,
                            "ticks": ""
                          }
                        },
                        "type": "scatterpolar"
                      }
                    ],
                    "scatterpolargl": [
                      {
                        "marker": {
                          "colorbar": {
                            "outlinewidth": 0,
                            "ticks": ""
                          }
                        },
                        "type": "scatterpolargl"
                      }
                    ],
                    "scatterternary": [
                      {
                        "marker": {
                          "colorbar": {
                            "outlinewidth": 0,
                            "ticks": ""
                          }
                        },
                        "type": "scatterternary"
                      }
                    ],
                    "surface": [
                      {
                        "colorbar": {
                          "outlinewidth": 0,
                          "ticks": ""
                        },
                        "colorscale": [
                          [
                            0,
                            "#0d0887"
                          ],
                          [
                            0.1111111111111111,
                            "#46039f"
                          ],
                          [
                            0.2222222222222222,
                            "#7201a8"
                          ],
                          [
                            0.3333333333333333,
                            "#9c179e"
                          ],
                          [
                            0.4444444444444444,
                            "#bd3786"
                          ],
                          [
                            0.5555555555555556,
                            "#d8576b"
                          ],
                          [
                            0.6666666666666666,
                            "#ed7953"
                          ],
                          [
                            0.7777777777777778,
                            "#fb9f3a"
                          ],
                          [
                            0.8888888888888888,
                            "#fdca26"
                          ],
                          [
                            1,
                            "#f0f921"
                          ]
                        ],
                        "type": "surface"
                      }
                    ],
                    "table": [
                      {
                        "cells": {
                          "fill": {
                            "color": "#EBF0F8"
                          },
                          "line": {
                            "color": "white"
                          }
                        },
                        "header": {
                          "fill": {
                            "color": "#C8D4E3"
                          },
                          "line": {
                            "color": "white"
                          }
                        },
                        "type": "table"
                      }
                    ]
                  },
                  "layout": {
                    "annotationdefaults": {
                      "arrowcolor": "#2a3f5f",
                      "arrowhead": 0,
                      "arrowwidth": 1
                    },
                    "autotypenumbers": "strict",
                    "coloraxis": {
                      "colorbar": {
                        "outlinewidth": 0,
                        "ticks": ""
                      }
                    },
                    "colorscale": {
                      "diverging": [
                        [
                          0,
                          "#8e0152"
                        ],
                        [
                          0.1,
                          "#c51b7d"
                        ],
                        [
                          0.2,
                          "#de77ae"
                        ],
                        [
                          0.3,
                          "#f1b6da"
                        ],
                        [
                          0.4,
                          "#fde0ef"
                        ],
                        [
                          0.5,
                          "#f7f7f7"
                        ],
                        [
                          0.6,
                          "#e6f5d0"
                        ],
                        [
                          0.7,
                          "#b8e186"
                        ],
                        [
                          0.8,
                          "#7fbc41"
                        ],
                        [
                          0.9,
                          "#4d9221"
                        ],
                        [
                          1,
                          "#276419"
                        ]
                      ],
                      "sequential": [
                        [
                          0,
                          "#0d0887"
                        ],
                        [
                          0.1111111111111111,
                          "#46039f"
                        ],
                        [
                          0.2222222222222222,
                          "#7201a8"
                        ],
                        [
                          0.3333333333333333,
                          "#9c179e"
                        ],
                        [
                          0.4444444444444444,
                          "#bd3786"
                        ],
                        [
                          0.5555555555555556,
                          "#d8576b"
                        ],
                        [
                          0.6666666666666666,
                          "#ed7953"
                        ],
                        [
                          0.7777777777777778,
                          "#fb9f3a"
                        ],
                        [
                          0.8888888888888888,
                          "#fdca26"
                        ],
                        [
                          1,
                          "#f0f921"
                        ]
                      ],
                      "sequentialminus": [
                        [
                          0,
                          "#0d0887"
                        ],
                        [
                          0.1111111111111111,
                          "#46039f"
                        ],
                        [
                          0.2222222222222222,
                          "#7201a8"
                        ],
                        [
                          0.3333333333333333,
                          "#9c179e"
                        ],
                        [
                          0.4444444444444444,
                          "#bd3786"
                        ],
                        [
                          0.5555555555555556,
                          "#d8576b"
                        ],
                        [
                          0.6666666666666666,
                          "#ed7953"
                        ],
                        [
                          0.7777777777777778,
                          "#fb9f3a"
                        ],
                        [
                          0.8888888888888888,
                          "#fdca26"
                        ],
                        [
                          1,
                          "#f0f921"
                        ]
                      ]
                    },
                    "colorway": [
                      "#636efa",
                      "#EF553B",
                      "#00cc96",
                      "#ab63fa",
                      "#FFA15A",
                      "#19d3f3",
                      "#FF6692",
                      "#B6E880",
                      "#FF97FF",
                      "#FECB52"
                    ],
                    "font": {
                      "color": "#2a3f5f"
                    },
                    "geo": {
                      "bgcolor": "white",
                      "lakecolor": "white",
                      "landcolor": "#E5ECF6",
                      "showlakes": true,
                      "showland": true,
                      "subunitcolor": "white"
                    },
                    "hoverlabel": {
                      "align": "left"
                    },
                    "hovermode": "closest",
                    "mapbox": {
                      "style": "light"
                    },
                    "paper_bgcolor": "white",
                    "plot_bgcolor": "#E5ECF6",
                    "polar": {
                      "angularaxis": {
                        "gridcolor": "white",
                        "linecolor": "white",
                        "ticks": ""
                      },
                      "bgcolor": "#E5ECF6",
                      "radialaxis": {
                        "gridcolor": "white",
                        "linecolor": "white",
                        "ticks": ""
                      }
                    },
                    "scene": {
                      "xaxis": {
                        "backgroundcolor": "#E5ECF6",
                        "gridcolor": "white",
                        "gridwidth": 2,
                        "linecolor": "white",
                        "showbackground": true,
                        "ticks": "",
                        "zerolinecolor": "white"
                      },
                      "yaxis": {
                        "backgroundcolor": "#E5ECF6",
                        "gridcolor": "white",
                        "gridwidth": 2,
                        "linecolor": "white",
                        "showbackground": true,
                        "ticks": "",
                        "zerolinecolor": "white"
                      },
                      "zaxis": {
                        "backgroundcolor": "#E5ECF6",
                        "gridcolor": "white",
                        "gridwidth": 2,
                        "linecolor": "white",
                        "showbackground": true,
                        "ticks": "",
                        "zerolinecolor": "white"
                      }
                    },
                    "shapedefaults": {
                      "line": {
                        "color": "#2a3f5f"
                      }
                    },
                    "ternary": {
                      "aaxis": {
                        "gridcolor": "white",
                        "linecolor": "white",
                        "ticks": ""
                      },
                      "baxis": {
                        "gridcolor": "white",
                        "linecolor": "white",
                        "ticks": ""
                      },
                      "bgcolor": "#E5ECF6",
                      "caxis": {
                        "gridcolor": "white",
                        "linecolor": "white",
                        "ticks": ""
                      }
                    },
                    "title": {
                      "x": 0.05
                    },
                    "xaxis": {
                      "automargin": true,
                      "gridcolor": "white",
                      "linecolor": "white",
                      "ticks": "",
                      "title": {
                        "standoff": 15
                      },
                      "zerolinecolor": "white",
                      "zerolinewidth": 2
                    },
                    "yaxis": {
                      "automargin": true,
                      "gridcolor": "white",
                      "linecolor": "white",
                      "ticks": "",
                      "title": {
                        "standoff": 15
                      },
                      "zerolinecolor": "white",
                      "zerolinewidth": 2
                    }
                  }
                },
                "title": {
                  "text": "Comparison Segments based on RFM Scores",
                  "x": 0.5
                },
                "xaxis": {
                  "title": {
                    "text": "RFM Segments"
                  }
                },
                "yaxis": {
                  "title": {
                    "text": "Score"
                  }
                }
              }
            }
          },
          "metadata": {},
          "output_type": "display_data"
        }
      ],
      "source": [
        "# Calculate the average Recency, Frequency, and Monetary scores for each segment\n",
        "segment_scores = df.groupby('rfm_customer_segments')[['recency_score', 'frequency_score', 'monetary_score']].mean().reset_index()\n",
        "\n",
        "# Create a grouped bar chart to compare segment scores\n",
        "fig = go.Figure()\n",
        "\n",
        "# Add bars for Recency score\n",
        "fig.add_trace(go.Bar(\n",
        "    x=segment_scores['rfm_customer_segments'],\n",
        "    y=segment_scores['recency_score'],\n",
        "    name='Recency Score',\n",
        "    marker_color='rgb(158,202,225)'\n",
        "))\n",
        "\n",
        "# Add bars for Frequency score\n",
        "fig.add_trace(go.Bar(\n",
        "    x=segment_scores['rfm_customer_segments'],\n",
        "    y=segment_scores['frequency_score'],\n",
        "    name='Frequency Score',\n",
        "    marker_color='rgb(94,158,217)'\n",
        "))\n",
        "\n",
        "# Add bars for Monetary score\n",
        "fig.add_trace(go.Bar(\n",
        "    x=segment_scores['rfm_customer_segments'],\n",
        "    y=segment_scores['monetary_score'],\n",
        "    name='Monetary Score',\n",
        "    marker_color='rgb(32,102,148)'\n",
        "))\n",
        "\n",
        "# Update the layout\n",
        "fig.update_layout(\n",
        "    title='Comparison Segments based on RFM Scores',\n",
        "    xaxis_title='RFM Segments',\n",
        "    yaxis_title='Score',\n",
        "    barmode='group',\n",
        "    title_x= 0.5,\n",
        "    showlegend=True\n",
        ")\n",
        "\n",
        "fig.show()"
      ]
    },
    {
      "cell_type": "markdown",
      "metadata": {
        "id": "y5Vw76OK8iF_"
      },
      "source": [
        "To conclude the exploration, we look at the average RFM scores of each segment. The Champions segment has the highest scores across all aspects, as expected. Potential Loyalists are not far behind, while segments like Lost have low Recency and Frequency scores, indicating long gaps in time and low transaction frequency.<br>\n",
        "\n",
        "This chart confirms that the differences between segments are not only in customer count or purchase value, but also in overall customer patterns and behaviors. By understanding these patterns, we can design more targeted interventions."
      ]
    },
    {
      "cell_type": "markdown",
      "metadata": {
        "id": "nZLBgqcNCTuy"
      },
      "source": [
        "# Strategy & recomendation"
      ]
    },
    {
      "cell_type": "markdown",
      "metadata": {
        "id": "DQHXPcOkbK0M"
      },
      "source": [
        "From the analysis results, it is clear that the strength of the business lies not merely in the number of customers, but in the quality of their engagement. The Champions and Potential Loyalists segments are valuable assets that need to be nurtured, while the At Risk and Lost segments signal the need for intervention before they are lost completely.<br>\n",
        "Based on the patterns found, here are several strategic recommendations:\n",
        "1. Exclusive Loyalty Program\n",
        "  Offer incentives to the Champion segment. Customers in this group are the most active and contribute the highest revenue. To maintain their loyalty, consider offering exclusive loyalty programs, such as:\n",
        "  * Reward points redeemable for benefits.\n",
        "  * Invitations to limited events or special member-only offers.\n",
        "\n",
        "2. Targeted Reactivation Campaigns with a Personal Approach\n",
        "  Use a personal approach for At Risk or Lost customers. These customers have not transacted for a long time and are at risk of switching to competitors. Therefore, mass strategies won’t be enough. A more personal and contextual approach is needed, such as:\n",
        "  * Sending emails with personalized greetings.\n",
        "  * Offering exclusive discounts just for them, or reminders about their favorite products.\n",
        "  * Including short surveys to understand their reasons for inactivity, while showing the business values their feedback.\n",
        "3. Education and Trust Building for Potential Loyal Customers\n",
        "  This approach suits the Potential Loyalists segment well. Customers in this segment show high potential to become loyal customers but have not yet purchased frequently or built a strong relationship with the brand. Suggested strategies include:\n",
        "  * Offering discounts on second purchases or bundle offers to encourage repeat buying.\n",
        "  * Sending educational content about product benefits, testimonials, optimal usage tips, or value they may not yet realize.\n",
        "4. Dynamic and Iterative Monitoring\n",
        "  RFM analysis is not a one-time tool. Customer behavior changes over time, with active customers becoming inactive and vice versa. Therefore:\n",
        "  * Update the RFM analysis regularly — monthly or quarterly, depending on the business cycle.\n",
        "  * Monitor segment transitions, for example, whether campaigns successfully move At Risk customers to Active, Potential Loyalists to Champions, and so on."
      ]
    }
  ],
  "metadata": {
    "colab": {
      "provenance": [],
      "toc_visible": true
    },
    "kernelspec": {
      "display_name": "Python 3",
      "language": "python",
      "name": "python3"
    },
    "language_info": {
      "codemirror_mode": {
        "name": "ipython",
        "version": 3
      },
      "file_extension": ".py",
      "mimetype": "text/x-python",
      "name": "python",
      "nbconvert_exporter": "python",
      "pygments_lexer": "ipython3",
      "version": "3.12.4"
    }
  },
  "nbformat": 4,
  "nbformat_minor": 0
}
